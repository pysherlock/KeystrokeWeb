{
 "cells": [
  {
   "cell_type": "markdown",
   "metadata": {},
   "source": [
    "# <center>Read Keystroke Data and Build Model to Process</center>"
   ]
  },
  {
   "cell_type": "code",
   "execution_count": 1,
   "metadata": {
    "collapsed": false
   },
   "outputs": [
    {
     "name": "stdout",
     "output_type": "stream",
     "text": [
      "Dataset/Kevin and Maxion/DSL-StrongPasswordData.csv\n"
     ]
    }
   ],
   "source": [
    "import os\n",
    "import copy\n",
    "import string\n",
    "%matplotlib inline\n",
    "import matplotlib.pyplot as plt\n",
    "import pandas as pd\n",
    "import numpy as np\n",
    "from sklearn import svm\n",
    "import sklearn.cross_validation\n",
    "\n",
    "input_path = \"Dataset/Kevin and Maxion/DSL-StrongPasswordData.csv\"\n",
    "print input_path;"
   ]
  },
  {
   "cell_type": "markdown",
   "metadata": {},
   "source": [
    "## Import Raw Data and Extract Features. Pre-process the data \n",
    "\n",
    "### Dataset (The CMU keystroke dynamics dataset)\n",
    "\n",
    "* The CMU benchmark dataset contains keystroke dynamics consisting of the dwell time for each key and the latencies between two successive keys for static password string “.tie5Roanl”.\n",
    "* For each subject, there were data collection sessions with at least one day apart between two sessions. 50 repeated keystroke strings were collected in each session, resulting in a total 400 sample for each subject.\n",
    "* For each typed 10-letter password and the final enter key, the dwell time and diagraphs give rise to a 31 dimensional feature vector.\n",
    "\n",
    "Although the keystroke features provide sufficiently distinguishing patterns for each subject, they are highly correlated, with large scale variations, and typical of noise and outliers. Someone has previously proposed a new distance metric to effectively handle these challenges that are intrinsic to keystroke dynamics data."
   ]
  },
  {
   "cell_type": "code",
   "execution_count": 2,
   "metadata": {
    "collapsed": false
   },
   "outputs": [
    {
     "name": "stdout",
     "output_type": "stream",
     "text": [
      "<type 'str'>\n",
      "subject,sessionIndex,rep,H.period,DD.period.t,UD.period.t,H.t,DD.t.i,UD.t.i,H.i,DD.i.e,UD.i.e,H.e,DD.e.five,UD.e.five,H.five,DD.five.Shift.r,UD.five.Shift.r,H.Shift.r,DD.Shift.r.o,UD.Shift.r.o,H.o,DD.o.a,UD.o.a,H.a,DD.a.n,UD.a.n,H.n,DD.n.l,UD.n.l,H.l,DD.l.Return,UD.l.Return,H.Return\n",
      "(20400L, 34L)\n",
      "(51L, 400L, 34L)\n"
     ]
    }
   ],
   "source": [
    "file = open(input_path, \"r\");\n",
    "\n",
    "raw_data = file.read();\n",
    "print type(raw_data);\n",
    "\n",
    "data_lines = np.array(raw_data.splitlines());\n",
    "print data_lines[0];\n",
    "\n",
    "data = np.array([x.split(\",\") for x in data_lines]);\n",
    "data = np.delete(data, 0, 0);\n",
    "\n",
    "# change username to index (0-50)\n",
    "for i in range(len(data)):\n",
    "    data[i][0] = i/400;\n",
    "\n",
    "data = data.astype(np.float);\n",
    "data_two = data[0:2*400];\n",
    "data_user = np.array([data[i*400:(i+1)*400] for i in range(51)]);\n",
    "\n",
    "print data.shape;\n",
    "print data_user.shape; ## All the data organized by different users\n"
   ]
  },
  {
   "cell_type": "markdown",
   "metadata": {},
   "source": [
    "### Build train dataset and test dataset"
   ]
  },
  {
   "cell_type": "code",
   "execution_count": 3,
   "metadata": {
    "collapsed": true
   },
   "outputs": [],
   "source": [
    "# split data to train_data and test_data for cross validation\n",
    "\n",
    "def pre_process(data, fold, shuffle):\n",
    "    kf = sklearn.cross_validation.KFold(len(data), n_folds=fold, shuffle=shuffle);\n",
    "    print kf;\n",
    "    for train_index, test_index in kf:\n",
    "        train, test = data[train_index], data[test_index];\n",
    "        \n",
    "    train_targets = train[:, 0:1].ravel();\n",
    "    train_features = train[:, 3:];\n",
    "    test_targets = test[:, 0:1].ravel();\n",
    "    test_features = test[:, 3:];\n",
    "    \n",
    "    return train_targets, train_features, test_targets, test_features;\n",
    "    "
   ]
  },
  {
   "cell_type": "code",
   "execution_count": 86,
   "metadata": {
    "collapsed": false
   },
   "outputs": [
    {
     "name": "stdout",
     "output_type": "stream",
     "text": [
      "sklearn.cross_validation.KFold(n=20400, n_folds=5, shuffle=True, random_state=None)\n",
      "sklearn.cross_validation.KFold(n=800, n_folds=5, shuffle=True, random_state=None)\n",
      "[  0.   1.   2.   3.   4.   5.   6.   7.   8.   9.  10.  11.  12.  13.  14.\n",
      "  15.  16.  17.  18.  19.  20.  21.  22.  23.  24.  25.  26.  27.  28.  29.\n",
      "  30.  31.  32.  33.  34.  35.  36.  37.  38.  39.  40.  41.  42.  43.  44.\n",
      "  45.  46.  47.  48.  49.  50.]\n",
      "51\n"
     ]
    }
   ],
   "source": [
    "\n",
    "train_target, train_feature, test_target, test_feature = pre_process(data, 5, True);\n",
    "train_target_two, train_feature_two, test_target_two, test_feature_two = pre_process(data_two, 5, True);\n",
    "\n",
    "subjects = np.unique(train_target);\n",
    "subjects_two = subjects[0:2];\n",
    "n_classes = len(subjects);\n",
    "n_classes_two = len(subjects_two);\n",
    "print subjects;\n",
    "print n_classes;"
   ]
  },
  {
   "cell_type": "markdown",
   "metadata": {},
   "source": [
    "### Train the SVM model to analyze data\n",
    "\n",
    "When training an SVM with the Radial Basis Function (RBF) kernel, two parameters must be considered: C and gamma. \n",
    "* The parameter C, common to all SVM kernels, trades off misclassification of training examples against simplicity of the decision surface. A low C makes the decision surface smooth, while a high C aims at classifying all training examples correctly.\n",
    "* gamma defines how much influence a single training example has. The larger gamma is, the closer other examples must be to be affected.\n",
    "* Proper choice of C and gamma is critical to the SVM’s performance. One is advised to use sklearn.grid_search.GridSearchCV with C and gamma spaced exponentially far apart to choose good values."
   ]
  },
  {
   "cell_type": "code",
   "execution_count": null,
   "metadata": {
    "collapsed": false
   },
   "outputs": [],
   "source": [
    "clf = svm.SVC(gamma=1, C=300.);\n",
    "clf2 = svm.SVC(gamma=1, C=300., decision_function_shape='ovo');\n",
    "## for now, gamma = 1, C = 300 is my best combination of those two parameters in this model\n",
    "\n",
    "#clf.fit(train_data, train_target);\n",
    "clf2.fit(train_feature_two, train_target_two);\n",
    "# libsvm = svm.libsvm.fit(x, y);\n",
    "\n",
    "#print (clf, \"\\n\", clf2);\n",
    "print (clf2.score(test_feature_two, test_target_two));\n",
    "print (sklearn.cross_validation.cross_val_score(clf, train_feature_two, train_target_two, cv=5));\n",
    "\n",
    "# for i in range(20):\n",
    "#     print (clf.predict(test_data[i]), test_target[i]);\n",
    "\n",
    "    "
   ]
  },
  {
   "cell_type": "markdown",
   "metadata": {
    "collapsed": true
   },
   "source": [
    "### Use Neutral Network to analyze \n",
    "* In scikit-learn, the neural network model is Restricted Boltzmann machines (RBM). The features extracted by an RBM or a hierarchy of RBMs often give good results when fed into a linear classifier such as a linear SVM or a perceptron. \n",
    "\n",
    "* A Restricted Boltzmann Machine with binary visible units and binary hiddens. Parameters are estimated using Stochastic Maximum Likelihood (SML), also known as Persistent Contrastive Divergence (PCD)\n",
    "\n",
    "* Two simple and easy search strategies for tuning parameter: Grid Search; Random Search"
   ]
  },
  {
   "cell_type": "code",
   "execution_count": null,
   "metadata": {
    "collapsed": false
   },
   "outputs": [],
   "source": [
    "# from sklearn.neural_network import BernoulliRBM\n",
    "# from sklearn.cross_validation import train_test_split\n",
    "\n",
    "# a = np.array([train_data[train_target == user] for user in subjects]);\n",
    "# print a[0:5];\n",
    "# print len(a[0]);\n",
    "\n",
    "\n",
    "d = np.array([1, 2, 3, 4, 5]);\n",
    "b = np.array(['1', '1', '2', '2', '4']);\n",
    "c = np.array(['1', '2', '3', '4', '5']);\n",
    "print np.array([d[b == x].mean() for x in c]);"
   ]
  },
  {
   "cell_type": "markdown",
   "metadata": {},
   "source": [
    "### Gaussian Mixture Models with Universal Background Model\n",
    "* A Gaussian mixture model is a probabilistic model that assumes all the data points are generated from a mixture of a finite number of Gaussian distributions wih unknown parameters. (Gaussian Distribution = Normal Distribution)\n",
    "* The GMM object implements the EM algorithm for fitting mixture-of-Gaussian models. \n",
    "* GMM.fit method learns a Gaussian Mixture Model from train data. Gmm.predict method can assign each sample of test data to the Gaussian class which it mostly probably belong to.\n",
    "* The GMM has different options to constrain the covariance: spherical, diagonal, tied or full covariance. Since we have class labels for the training data, we can initialize the GMM parameters in a supervised manner."
   ]
  },
  {
   "cell_type": "code",
   "execution_count": null,
   "metadata": {
    "collapsed": true
   },
   "outputs": [],
   "source": [
    "## Draw the ellipses of the clusters\n",
    "def make_ellipses(gmm, ax):\n",
    "    for n, color in enumerate('rgb'):\n",
    "        v, w = np.linalg.eigh(gmm._get_covars()[n][:2, :2])\n",
    "        u = w[0] / np.linalg.norm(w[0])\n",
    "        angle = np.arctan2(u[1], u[0])\n",
    "        angle = 180 * angle / np.pi  # convert to degrees\n",
    "        v *= 9\n",
    "        ell = mpl.patches.Ellipse(gmm.means_[n, :2], v[0], v[1],\n",
    "                                  180 + angle, color=color)\n",
    "        ell.set_clip_box(ax.bbox)\n",
    "        ell.set_alpha(0.5)\n",
    "        ax.add_artist(ell)\n",
    "        "
   ]
  },
  {
   "cell_type": "markdown",
   "metadata": {},
   "source": [
    "* Existing works in applying GMM to keystroke authentication is to train a GMM for each genuine user. At testing time, a keystroke feature is evaluated against the genuine user's GMM and a threshold is applied to the likelihood of the feature vector to make the decision.\n",
    "\n",
    "* The idea of TMM-UBM is to train another GMM from a large pool of so-called background subjects (except the genuine user and the actual testing subjects). When the pool of background subjects is large enough, the UBM will have a good chance to reasonably represent any imposter's data. Thus, the imposter can have a relatively high likelihood score under UBM.\n",
    "\n",
    "* A key common feature of these algorithms is that an unsupervised training is conducted on a large pool of subjects at the first stage to allow the classifier take advantage of the overall data distribution in the feature space for improved performance."
   ]
  },
  {
   "cell_type": "code",
   "execution_count": 5,
   "metadata": {
    "collapsed": false,
    "scrolled": true
   },
   "outputs": [
    {
     "name": "stdout",
     "output_type": "stream",
     "text": [
      "('spherical', GMM(covariance_type='spherical', init_params='wc', min_covar=0.001,\n",
      "  n_components=2, n_init=1, n_iter=20, params='wmc', random_state=None,\n",
      "  thresh=None, tol=0.001, verbose=0))\n",
      "('Train_accuracy', 57.96875)\n",
      "('Test_accuracy', 70.625)\n",
      "(39L, 31L)\n",
      "(121L, 31L)\n",
      "('diag', GMM(covariance_type='diag', init_params='wc', min_covar=0.001, n_components=2,\n",
      "  n_init=1, n_iter=20, params='wmc', random_state=None, thresh=None,\n",
      "  tol=0.001, verbose=0))\n",
      "('Train_accuracy', 88.59375)\n",
      "('Test_accuracy', 88.75)\n",
      "(80L, 31L)\n",
      "(80L, 31L)\n",
      "('full', GMM(covariance_type='full', init_params='wc', min_covar=0.001, n_components=2,\n",
      "  n_init=1, n_iter=20, params='wmc', random_state=None, thresh=None,\n",
      "  tol=0.001, verbose=0))\n",
      "('Train_accuracy', 57.8125)\n",
      "('Test_accuracy', 48.75)\n",
      "(132L, 31L)\n",
      "(28L, 31L)\n",
      "('tied', GMM(covariance_type='tied', init_params='wc', min_covar=0.001, n_components=2,\n",
      "  n_init=1, n_iter=20, params='wmc', random_state=None, thresh=None,\n",
      "  tol=0.001, verbose=0))\n",
      "('Train_accuracy', 90.78125)\n",
      "('Test_accuracy', 89.375)\n",
      "(75L, 31L)\n",
      "(85L, 31L)\n"
     ]
    },
    {
     "data": {
      "image/png": "[encoded data removed]",
      "text/plain": [
       "<matplotlib.figure.Figure at 0xe06d7b8>"
      ]
     },
     "metadata": {},
     "output_type": "display_data"
    },
    {
     "data": {
      "image/png": "[encoded data removed]",
      "text/plain": [
       "<matplotlib.figure.Figure at 0xb2e4080>"
      ]
     },
     "metadata": {},
     "output_type": "display_data"
    }
   ],
   "source": [
    "from sklearn.mixture import GMM\n",
    "from sklearn import cross_validation\n",
    "from sklearn.cross_validation import StratifiedKFold\n",
    "\n",
    "#Try GMMs with different types of covariances\n",
    "# How to find the best n_components\n",
    "classifiers = dict((covar_type, GMM(n_components=2, covariance_type=covar_type, init_params='wc', n_iter=20)) \n",
    "                   for covar_type in ['spherical', 'diag', 'tied', 'full']);\n",
    "\n",
    "n_classifiers = len(classifiers);\n",
    "\n",
    "plt.figure(figsize = (6, 4));\n",
    "for n, color in enumerate('rg'):\n",
    "    visual = test_feature_two[test_target_two == n];\n",
    "    plt.plot(visual[:, 0], visual[:, 1], 'o', color=color);\n",
    "    \n",
    "plt.title(\"Test data distribution\");\n",
    "\n",
    "\n",
    "plt.figure(figsize=(3 * n_classifiers * 0.75, 8));\n",
    "plt.subplots_adjust(bottom=.01, top=0.95, hspace=.15, wspace=.05, left=.01, right=.99);\n",
    "\n",
    "for index, (name, clf) in enumerate(classifiers.items()):\n",
    "    # Since we have class labels for the training data, \n",
    "    # we can initialize the GMM parameters in a supervised manner.\n",
    "    print (name, clf);\n",
    "    \n",
    "    clf.means_ = np.array([train_feature_two[train_target_two == user].mean(axis=0) for user in subjects_two]);\n",
    "\n",
    "    # means_ : array, shape (n_components, n_features) Mean parameters for each mixture component.\n",
    "    # axis : Axis or axes along which the means are computed. The default is to compute the mean of the flattened array. \n",
    "    # If this is a tuple of ints, a mean is performed over multiple axes, instead of a single axis or all the axes as before.\n",
    "    # Compute the mean of features of every user seperately\n",
    "    \n",
    "    # Train the other parameters using the EM algorithm\n",
    "    clf.fit(train_feature_two);\n",
    "    \n",
    "    plt.subplot(2, n_classifiers/2, index+1); #subplot(nrows, ncols, plot_number)\n",
    "    \n",
    "    train_pred = clf.predict(train_feature_two);\n",
    "    test_pred = clf.predict(test_feature_two);\n",
    "    train_accuracy = np.mean(train_pred == train_target_two)*100;\n",
    "    test_accuracy = np.mean(test_pred == test_target_two)*100;\n",
    "    print (\"Train_accuracy\", train_accuracy);\n",
    "    print (\"Test_accuracy\", test_accuracy);\n",
    "\n",
    "    # Visualization of the result\n",
    "#     for n, color in enumerate('r'):\n",
    "#         visual_test = test_feature_two[test_pred == n];\n",
    "#         print visual_test.shape;\n",
    "#         plt.plot(visual_test[0:40,0], 'o', color=color);   \n",
    "    \n",
    "    for n, color in enumerate('rg'):\n",
    "        visual_test = test_feature_two[test_pred == n];\n",
    "        print visual_test.shape;\n",
    "        plt.plot(visual_test[:,0], visual_test[:,1], 'o', color=color);      \n",
    "    \n",
    "    plt.xticks(());\n",
    "    plt.yticks(());\n",
    "    plt.title(name);\n",
    "     "
   ]
  },
  {
   "cell_type": "code",
   "execution_count": 21,
   "metadata": {
    "collapsed": false,
    "scrolled": true
   },
   "outputs": [
    {
     "name": "stdout",
     "output_type": "stream",
     "text": [
      "sklearn.cross_validation.KFold(n=400, n_folds=5, shuffle=True, random_state=None)\n"
     ]
    },
    {
     "data": {
      "image/png": "[encoded data removed]",
      "text/plain": [
       "<matplotlib.figure.Figure at 0xc824f60>"
      ]
     },
     "metadata": {},
     "output_type": "display_data"
    }
   ],
   "source": [
    "train_target_user, train_feature_user, test_target_user, test_feature_user = pre_process(data_user[0], 5, True);\n",
    "\n",
    "num_components = 50; ## max number of components\n",
    "covariances=('spherical', 'diag', 'tied', 'full');\n",
    "models = np.array([dict((covar_type, GMM(n_components=i, covariance_type=covar_type)) \n",
    "                        for covar_type in covariances) for i in np.arange(1, num_components+1)]);\n",
    "\n",
    "AIC = [[0]*(num_components)]*4;\n",
    "BIC = [[0]*(num_components)]*4;\n",
    "\n",
    "plt.figure(figsize=(20,20));\n",
    "plt.subplots_adjust(left=0.12, right=0.97,\n",
    "                    bottom=0.21, top=0.9, wspace=0.2);\n",
    "\n",
    "for n_components in range(num_components):\n",
    "    for index, (name, model) in enumerate(models[n_components].items()):\n",
    "#         print (name, model);\n",
    "#         model.means_ = np.array([train_feature_user.mean(axis=0)]*(n_components+1));\n",
    "        model.fit(train_feature_user);\n",
    "        AIC[index][n_components] = model.aic(train_feature_user);\n",
    "        BIC[index][n_components] = model.bic(train_feature_user);\n",
    "\n",
    "# print AIC;\n",
    "# print BIC;\n",
    "\n",
    "plt.subplot(221);\n",
    "plt.plot(np.arange(1,num_components+1), AIC[0], '--k', label = \"AIC\");\n",
    "plt.plot(np.arange(1,num_components+1), BIC[0], '--m', label = \"BIC\");\n",
    "plt.xlabel(\"n.components\");\n",
    "plt.ylabel(\"information criterion\");\n",
    "plt.title(\"spherical\");\n",
    "\n",
    "plt.subplot(222);\n",
    "plt.plot(np.arange(1,num_components+1), AIC[1], '--k', label = \"AIC\");\n",
    "plt.plot(np.arange(1,num_components+1), BIC[1], '--m', label = \"BIC\");\n",
    "plt.xlabel(\"n.components\");\n",
    "plt.ylabel(\"information criterion\");\n",
    "plt.title(\"diag\");\n",
    "\n",
    "plt.subplot(223);\n",
    "plt.plot(np.arange(1,num_components+1), AIC[2], '--k', label = \"AIC\");\n",
    "plt.plot(np.arange(1,num_components+1), BIC[2], '--m', label = \"BIC\");\n",
    "plt.xlabel(\"n.components\");\n",
    "plt.ylabel(\"information criterion\");\n",
    "plt.title(\"tied\");\n",
    "\n",
    "plt.subplot(224);\n",
    "plt.plot(np.arange(1,num_components+1), AIC[3], '--k', label = \"AIC\");\n",
    "plt.plot(np.arange(1,num_components+1), BIC[3], '--m', label = \"BIC\");\n",
    "plt.xlabel(\"n.components\");\n",
    "plt.ylabel(\"information criterion\");\n",
    "plt.title(\"full\");\n"
   ]
  },
  {
   "cell_type": "code",
   "execution_count": 88,
   "metadata": {
    "collapsed": false,
    "scrolled": true
   },
   "outputs": [
    {
     "name": "stdout",
     "output_type": "stream",
     "text": [
      "mean:  56.0793266161 std:  12.9853826407\n",
      "50.9242481364\n",
      "[0.1, 0.2, 0.3, 0.4, 0.5, 0.6, 0.7, 0.8, 0.9, 1.0, 1.1, 1.2, 1.3, 1.4, 1.5, 1.6, 1.7, 1.8, 1.9, 2.0]\n"
     ]
    },
    {
     "data": {
      "image/png": "[encoded data removed]",
      "text/plain": [
       "<matplotlib.figure.Figure at 0xcce9390>"
      ]
     },
     "metadata": {},
     "output_type": "display_data"
    }
   ],
   "source": [
    "import random\n",
    "\n",
    "imposter_index = [random.randrange(400, len(train_feature), 13) for i in range(100)];\n",
    "imposter_target = np.array([train_target[i] for i in imposter_index]); \n",
    "imposter_feature = np.array([train_feature[i] for i in imposter_index]);\n",
    "\n",
    "feature_user = np.concatenate((train_feature_user, test_feature_user), axis=0);\n",
    "genuine_index = [random.randrange(0, len(feature_user), 3) for i in range(100)];\n",
    "genuine_user = np.array([feature_user[i] for i in genuine_index]);\n",
    "\n",
    "profiles = dict((covar_type, GMM(n_components=20, covariance_type=covar_type, init_params='wc', n_iter=20)) \n",
    "                   for covar_type in covariances);\n",
    "\n",
    "model = profiles[\"diag\"]\n",
    "loo = cross_validation.LeaveOneOut(len(feature_user));\n",
    "Scores = [];\n",
    "\n",
    "for train_index, test_index in loo:\n",
    "    train, test = feature_user[train_index], feature_user[test_index];\n",
    "    model.fit(train);\n",
    "    Scores.append(model.score(test));\n",
    "\n",
    "model.fit(feature_user);\n",
    "Scores = np.array(Scores).ravel();\n",
    "mean = np.mean(Scores);\n",
    "std = np.std(Scores);\n",
    "k = 0.4;\n",
    "threshold_user = min([Scores[i] for i in range(len(Scores)) if abs(Scores[i]-mean) < k*std]);\n",
    "print \"mean: \", mean, \"std: \", std;\n",
    "print threshold_user;\n",
    "\n",
    "#Evalutation of the model\n",
    "FAR, FRR = [], [];\n",
    "K = [float(i)/10 for i in range(1, 21)];\n",
    "print K;\n",
    "for index in range(20):\n",
    "    threshold_user = min([Scores[j] for j in range(len(Scores)) if abs(Scores[j]-mean) < K[index]*std]);\n",
    "    reject, accept = 0, 0;\n",
    "    for i in range(len(imposter_feature)):\n",
    "        score = model.score(imposter_feature[i].reshape(1,-1));\n",
    "        if(score > threshold_user):\n",
    "            accept = accept+1;\n",
    "    \n",
    "    FAR.append(accept);\n",
    "\n",
    "    for i in range(len(genuine_user)):\n",
    "        score = model.score(genuine_user[i].reshape(1,-1));\n",
    "        if(score < threshold_user):\n",
    "            reject = reject+1;\n",
    "    \n",
    "    FRR.append(reject);\n",
    "\n",
    "plt.figure(figsize=(6,6));\n",
    "plt.plot(K, FAR, '--k', label = \"FAR\");\n",
    "plt.plot(K, FRR, '--m', label = \"FRR\");\n",
    "plt.xlabel(\"K\");\n",
    "plt.ylabel(\"FAR & FRR\");\n",
    "plt.title(\"Model Estimation\");"
   ]
  },
  {
   "cell_type": "markdown",
   "metadata": {},
   "source": [
    "## Demonstration of Verification System\n",
    "* Use HTML and Javascript build a front end page to simulate the login page of authentication system. Record what the user types in and extract keystroke features. (Front-End: HTML + Javascript)\n",
    "\n",
    "* Back-end receive the keystroke information and pre-process it (Filter the mistake and extract the features in proper format). Use the model built with GMM+LOOM to verify the user. (Python)\n",
    "\n",
    "* Back-end passes the verification result to front-end. Front-end visualizes the result whether user's authentication is successful."
   ]
  },
  {
   "cell_type": "code",
   "execution_count": 122,
   "metadata": {
    "collapsed": false
   },
   "outputs": [
    {
     "name": "stdout",
     "output_type": "stream",
     "text": [
      "sklearn.cross_validation.KFold(n=400, n_folds=2, shuffle=True, random_state=None)\n",
      "<type 'numpy.ndarray'> (200L, 31L)\n",
      "200\n",
      "sklearn.cross_validation.KFold(n=400, n_folds=2, shuffle=True, random_state=None)\n",
      "<type 'numpy.ndarray'> (200L, 31L)\n",
      "200\n",
      "sklearn.cross_validation.KFold(n=400, n_folds=2, shuffle=True, random_state=None)\n",
      "<type 'numpy.ndarray'> (200L, 31L)\n",
      "200\n",
      "sklearn.cross_validation.KFold(n=400, n_folds=2, shuffle=True, random_state=None)\n",
      "<type 'numpy.ndarray'> (200L, 31L)\n",
      "200\n",
      "sklearn.cross_validation.KFold(n=400, n_folds=2, shuffle=True, random_state=None)\n",
      "<type 'numpy.ndarray'> (200L, 31L)\n",
      "200\n",
      "<type 'dict'> 5 {'Profile': {'Threshold': 50.256863474032407, 'Model': GMM(covariance_type='diag', init_params='wc', min_covar=0.001,\n",
      "  n_components=20, n_init=1, n_iter=20, params='wmc', random_state=None,\n",
      "  thresh=None, tol=0.001, verbose=0)}, 'Password': '.tie5roanl'}\n"
     ]
    }
   ],
   "source": [
    "from IPython.display import HTML\n",
    "\n",
    "## Use this class to record the keystroke information from the front-end (Javascript)\n",
    "class KeyEvent:\n",
    "    keyCount = 0;\n",
    "    \n",
    "    def __init__(self, index, key, which, time_D, time_U):\n",
    "        self.index = index; ## The index of pressing sequence\n",
    "        self.key = key; \n",
    "        self.which = which; ## Keycode\n",
    "        self.time_D = time_D;\n",
    "        self.time_U = time_U;\n",
    "        KeyEvent.keyCount += 1;\n",
    "        \n",
    "Username_index, Username_key, Username_which, Username_time_D, Username_time_U = [], [], [], [], [];\n",
    "Password_index, Password_key, Password_which, Password_time_D, Password_time_U = [], [], [], [], [];\n",
    "Username_keyMap, Password_keyMap = {}, {};\n",
    "username, password = str(), str();\n",
    "Profiles = dict({}); ## Store users' profiles in Demo\n",
    "\n",
    "for i in range(5):\n",
    "    train_target, train_feature, test_target, test_feature = pre_process(data_user[i], 2, True);\n",
    "    print type(train_feature), train_feature.shape;\n",
    "    Profiles['User'+str(i)] = {\"Password\": \".tie5roanl\",\n",
    "                               \"Profile\": train_Model_GMM_LOOM(train_feature, 0.35)};\n",
    "\n",
    "print type(Profiles), len(Profiles), Profiles['User0'];"
   ]
  },
  {
   "cell_type": "markdown",
   "metadata": {},
   "source": [
    "### Front-End (HTML+Javascript)\n",
    "   The front-end of this demo is written by html and javascript. For the convinence, I integrate the front-end code in notebook. With integrating back-end and front-end in one notebook, we can easily tune the algorithm and find the implicit problems in our system"
   ]
  },
  {
   "cell_type": "code",
   "execution_count": 142,
   "metadata": {
    "collapsed": false,
    "scrolled": false
   },
   "outputs": [
    {
     "data": {
      "text/html": [
       "<head>\n",
       "    <meta http-equiv=\"Content-Type\" content=\"text/html; charset=ISO-8859-1\"/>\n",
       "    <title>Keystroke demo</title>\n",
       "    <script type=\"text/javascript\" src=\"WebContent/js/UI.js\"></script>\n",
       "    <script type=\"text/javascript\" src=\"WebContent/js/demo.js\"></script>\n",
       "    <link rel=\"stylesheet\" type=\"text/css\" href=\"WebContent/css/style_notebook.css\"/>\n",
       "</head>\n",
       "\n",
       "<body id=\"body_inside\">\n",
       "\n",
       "    <h1 id=\"h1\">Keystroke Demo</h1>\n",
       "    <div class=\"target\">\n",
       "        <fieldset class=\"input\">\n",
       "            <label for=\"username\" >Username:</label>\n",
       "            <input id=\"username\" type=\"text\">\n",
       "        </fieldset>\n",
       "    \n",
       "        <fieldset class=\"input\">\n",
       "            <label for=\"password\">Password:</label>\n",
       "            <input id=\"password\" type=\"text\">\n",
       "        </fieldset>\n",
       "    \n",
       "        <button id=\"sign up\">Sign up</button>\n",
       "        <button id=\"login\" onclick=\"exec_code()\">Login</button>\n",
       "    </div>\n",
       "    \n",
       "    <h2 id=\"h2\">Typed Text</h2>\n",
       "    \n",
       "    <div class=\"print-output\">\n",
       "        <fieldset class=\"output\">\n",
       "            <label for=\"Output\">Output:</label>\n",
       "            <input id=\"username-typed\" type=\"text\" size=\"50\"><br>\n",
       "            <input id=\"password-typed\" type=\"text\" size=\"50\"><br>\n",
       "        </fieldset>\n",
       "    </div>\n",
       "    \n",
       "    <script type=\"text/Javascript\">\n",
       "    \n",
       "        function handle_output(out_type, out) {\n",
       "            console.log(out_type);\n",
       "            console.log(out);\n",
       "            var res = null;\n",
       "             // if output is a print statement\n",
       "            if(out_type == \"stream\") {\n",
       "                res = out.data;\n",
       "            }\n",
       "            // if output is a python object\n",
       "            else if(out_type == \"pyout\") {\n",
       "                res = out.data[\"text/plain\"];\n",
       "            }\n",
       "            // if output is a python error\n",
       "            else if(out_type == \"pyerr\") {\n",
       "                res = out.ename + \": \" + out.evalue;\n",
       "            }\n",
       "            // if output is something we haven't thought of\n",
       "            else {\n",
       "                res = \"[out type not implemented]\";   \n",
       "            }\n",
       "            console.log(res);\n",
       "            if(res) {\n",
       "                alert(\"Congratulation! Authentication Successed\");\n",
       "            }\n",
       "            else {\n",
       "                alert(\"Oh... Authentication failed! Who r u +_+\");\n",
       "            }\n",
       "        }\n",
       "    \n",
       "        function exec_code() {\n",
       "            document.getElementById(\"username-typed\").value = Username_text;\n",
       "            document.getElementById(\"password-typed\").value = Password_text;\n",
       "            var kernel = IPython.notebook.kernel;\n",
       "            \n",
       "            // extract username and password\n",
       "            console.log(document.getElementById(\"username\").value);\n",
       "            console.log(document.getElementById(\"username\").value);\n",
       "            kernel.execute(\"username = '\" + document.getElementById(\"username\").value + \"'\");\n",
       "            kernel.execute(\"password = '\" + document.getElementById(\"password\").value + \"'\");\n",
       "            \n",
       "            // extract keystroke feature\n",
       "            kernel.execute(\"Username_index, Username_key, Username_which, Username_time_D, Username_time_U, Username_keyevent = [], [], [], [], [], [];\");\n",
       "            kernel.execute(\"Password_index, Password_key, Password_which, Password_time_D, Password_time_U, Password_keyevent = [], [], [], [], [], [];\");\n",
       "            \n",
       "            for(i = 0; i < Feature_Username.length; i++) {\n",
       "                var command_index = \"Username_index.append(\" + Feature_Username[i].index + \")\";\n",
       "                var command_key = \"Username_key.append('\" + Feature_Username[i].key + \"')\";\n",
       "                var command_which = \"Username_which.append(\" + Feature_Username[i].which + \")\";\n",
       "                var command_time_D = \"Username_time_D.append(\" + Feature_Username[i].time_D + \")\";\n",
       "                var command_time_U = \"Username_time_U.append(\" + Feature_Username[i].time_U + \")\";\n",
       "                \n",
       "                console.log(\"Executing Command: \" + command_index + command_key + command_which\n",
       "                            + command_time_D + command_time_U);\n",
       "                kernel.execute(command_index);\n",
       "                kernel.execute(command_key);\n",
       "                kernel.execute(command_which);\n",
       "                kernel.execute(command_time_D);\n",
       "                kernel.execute(command_time_U);\n",
       "            }\n",
       "            kernel.execute(\"Username_keyMap = {'index': Username_index, 'key': Username_key, 'which': Username_which, 'time_D': Username_time_D, 'time_U': Username_time_U}\");\n",
       "            \n",
       "            for(i = 0; i < Feature_Password.length; i++) {\n",
       "                var command_index = \"Password_index.append(\" + Feature_Password[i].index + \")\";\n",
       "                var command_key = \"Password_key.append('\" + Feature_Password[i].key + \"')\";\n",
       "                var command_which = \"Password_which.append(\" + Feature_Password[i].which + \")\";\n",
       "                var command_time_D = \"Password_time_D.append(\" + Feature_Password[i].time_D + \")\";\n",
       "                var command_time_U = \"Password_time_U.append(\" + Feature_Password[i].time_U + \")\";\n",
       "                \n",
       "                console.log(\"Executing Command: \" + command_index + command_key + command_which\n",
       "                            + command_time_D + command_time_U);\n",
       "                kernel.execute(command_index);\n",
       "                kernel.execute(command_key);\n",
       "                kernel.execute(command_which);\n",
       "                kernel.execute(command_time_D);\n",
       "                kernel.execute(command_time_U);\n",
       "                \n",
       "            }\n",
       "            kernel.execute(\"Password_keyMap = {'index': Password_index, 'key': Password_key, 'which': Password_which, 'time_D': Password_time_D, 'time_U': Password_time_U}\"); \n",
       "            \n",
       "            //Deal with the authentication result returned from python back-end\n",
       "            var callbacks = {'output' : handle_output};\n",
       "            kernel.execute(\"authentication_Main()\", callbacks, {silent:false});\n",
       "            console.log(\"button pressed\");\n",
       "        }\n",
       "    </script>\n",
       "    \n",
       "</body>"
      ],
      "text/plain": [
       "<IPython.core.display.HTML object>"
      ]
     },
     "metadata": {},
     "output_type": "display_data"
    }
   ],
   "source": [
    "\n",
    "%%html\n",
    "<head>\n",
    "    <meta http-equiv=\"Content-Type\" content=\"text/html; charset=ISO-8859-1\"/>\n",
    "    <title>Keystroke demo</title>\n",
    "    <script type=\"text/javascript\" src=\"WebContent/js/UI.js\"></script>\n",
    "    <script type=\"text/javascript\" src=\"WebContent/js/demo.js\"></script>\n",
    "    <link rel=\"stylesheet\" type=\"text/css\" href=\"WebContent/css/style_notebook.css\"/>\n",
    "</head>\n",
    "\n",
    "<body id=\"body_inside\">\n",
    "\n",
    "    <h1 id=\"h1\">Keystroke Demo</h1>\n",
    "    <div class=\"target\">\n",
    "        <fieldset class=\"input\">\n",
    "            <label for=\"username\" >Username:</label>\n",
    "            <input id=\"username\" type=\"text\">\n",
    "        </fieldset>\n",
    "    \n",
    "        <fieldset class=\"input\">\n",
    "            <label for=\"password\">Password:</label>\n",
    "            <input id=\"password\" type=\"text\">\n",
    "        </fieldset>\n",
    "    \n",
    "        <button id=\"sign up\">Sign up</button>\n",
    "        <button id=\"login\" onclick=\"exec_code()\">Login</button>\n",
    "    </div>\n",
    "    \n",
    "    <h2 id=\"h2\">Typed Text</h2>\n",
    "    \n",
    "    <div class=\"print-output\">\n",
    "        <fieldset class=\"output\">\n",
    "            <label for=\"Output\">Output:</label>\n",
    "            <input id=\"username-typed\" type=\"text\" size=\"50\"><br>\n",
    "            <input id=\"password-typed\" type=\"text\" size=\"50\"><br>\n",
    "        </fieldset>\n",
    "    </div>\n",
    "    \n",
    "    <script type=\"text/Javascript\">\n",
    "    \n",
    "        function handle_output(out_type, out) {\n",
    "            console.log(out_type);\n",
    "            console.log(out);\n",
    "            var res = null;\n",
    "             // if output is a print statement\n",
    "            if(out_type == \"stream\") {\n",
    "                res = out.data;\n",
    "            }\n",
    "            // if output is a python object\n",
    "            else if(out_type == \"pyout\") {\n",
    "                res = out.data[\"text/plain\"];\n",
    "            }\n",
    "            // if output is a python error\n",
    "            else if(out_type == \"pyerr\") {\n",
    "                res = out.ename + \": \" + out.evalue;\n",
    "            }\n",
    "            // if output is something we haven't thought of\n",
    "            else {\n",
    "                res = \"[out type not implemented]\";   \n",
    "            }\n",
    "            console.log(res);\n",
    "            if(res) {\n",
    "                alert(\"Congratulation! Authentication Successed\");\n",
    "            }\n",
    "            else {\n",
    "                alert(\"Oh... Authentication failed! Who r u +_+\");\n",
    "            }\n",
    "        }\n",
    "    \n",
    "        function exec_code() {\n",
    "            document.getElementById(\"username-typed\").value = Username_text;\n",
    "            document.getElementById(\"password-typed\").value = Password_text;\n",
    "            var kernel = IPython.notebook.kernel;\n",
    "            \n",
    "            // extract username and password\n",
    "            kernel.execute(\"username = '\" + document.getElementById(\"username\").value + \"'\");\n",
    "            kernel.execute(\"password = '\" + document.getElementById(\"password\").value + \"'\");\n",
    "            \n",
    "            // extract keystroke feature\n",
    "            kernel.execute(\"Username_index, Username_key, Username_which, Username_time_D, Username_time_U, Username_keyevent = [], [], [], [], [], [];\");\n",
    "            kernel.execute(\"Password_index, Password_key, Password_which, Password_time_D, Password_time_U, Password_keyevent = [], [], [], [], [], [];\");\n",
    "            \n",
    "            for(i = 0; i < Feature_Username.length; i++) {\n",
    "                var command_index = \"Username_index.append(\" + Feature_Username[i].index + \")\";\n",
    "                var command_key = \"Username_key.append('\" + Feature_Username[i].key + \"')\";\n",
    "                var command_which = \"Username_which.append(\" + Feature_Username[i].which + \")\";\n",
    "                var command_time_D = \"Username_time_D.append(\" + Feature_Username[i].time_D + \")\";\n",
    "                var command_time_U = \"Username_time_U.append(\" + Feature_Username[i].time_U + \")\";\n",
    "                \n",
    "                console.log(\"Executing Command: \" + command_index + command_key + command_which\n",
    "                            + command_time_D + command_time_U);\n",
    "                kernel.execute(command_index);\n",
    "                kernel.execute(command_key);\n",
    "                kernel.execute(command_which);\n",
    "                kernel.execute(command_time_D);\n",
    "                kernel.execute(command_time_U);\n",
    "            }\n",
    "            kernel.execute(\"Username_keyMap = {'index': Username_index, 'key': Username_key, 'which': Username_which, 'time_D': Username_time_D, 'time_U': Username_time_U}\");\n",
    "            \n",
    "            for(i = 0; i < Feature_Password.length; i++) {\n",
    "                var command_index = \"Password_index.append(\" + Feature_Password[i].index + \")\";\n",
    "                var command_key = \"Password_key.append('\" + Feature_Password[i].key + \"')\";\n",
    "                var command_which = \"Password_which.append(\" + Feature_Password[i].which + \")\";\n",
    "                var command_time_D = \"Password_time_D.append(\" + Feature_Password[i].time_D + \")\";\n",
    "                var command_time_U = \"Password_time_U.append(\" + Feature_Password[i].time_U + \")\";\n",
    "                \n",
    "                console.log(\"Executing Command: \" + command_index + command_key + command_which\n",
    "                            + command_time_D + command_time_U);\n",
    "                kernel.execute(command_index);\n",
    "                kernel.execute(command_key);\n",
    "                kernel.execute(command_which);\n",
    "                kernel.execute(command_time_D);\n",
    "                kernel.execute(command_time_U);\n",
    "                \n",
    "            }\n",
    "            kernel.execute(\"Password_keyMap = {'index': Password_index, 'key': Password_key, 'which': Password_which, 'time_D': Password_time_D, 'time_U': Password_time_U}\"); \n",
    "            \n",
    "            //Deal with the authentication result returned from python back-end\n",
    "            var callbacks = {'output' : handle_output};\n",
    "            kernel.execute(\"authentication_Main()\", callbacks, {silent:false});\n",
    "            console.log(\"button pressed\");\n",
    "        }\n",
    "    </script>\n",
    "    \n",
    "</body>"
   ]
  },
  {
   "cell_type": "code",
   "execution_count": 132,
   "metadata": {
    "collapsed": false
   },
   "outputs": [
    {
     "name": "stdout",
     "output_type": "stream",
     "text": [
      "5\n",
      "[0, 1, 2]\n",
      "['a', 's', 'd']\n",
      "asd asd\n"
     ]
    }
   ],
   "source": [
    "print len(Password_keyMap);\n",
    "print Password_keyMap['index'];\n",
    "print Password_keyMap['key'];\n",
    "print username, password;"
   ]
  },
  {
   "cell_type": "markdown",
   "metadata": {},
   "source": [
    "### Extract and generate feature vector from the what user types in the front-end\n",
    "   * Extract four kinds of keystroke feature: hold-time, DDKL, UDKL, UUKL. Feature vector stands for user's typing habit behavior. \n",
    "   * One important point is that, the sequence of key-press and key-release could be a chaos. So we should generate thefeature vector with a predefine format. This format depends on user's true username and password\n",
    "\n",
    "* The function \"RemoveMistake\" is used for the user's typing mistake. Typing mistake means the mistake that users make while typing their username and password. Generally, if users make some typing mistakes, they will delete mistakes and type in again.\n",
    "\n",
    "* So we should filter the typing mistakes and extract the effective typed charactors. (Attentation!! \"Enter\" is printable)\n",
    "\n",
    "* The function below: \"extract_Feature\", is able to remove the redundency in the data. Get keys which contain the keystroke feature's information"
   ]
  },
  {
   "cell_type": "code",
   "execution_count": null,
   "metadata": {
    "collapsed": true
   },
   "outputs": [],
   "source": [
    "import string\n",
    "\n",
    "def isPrintable(text):\n",
    "    printset = set(string.printable);\n",
    "    return set(text).issubset(printset);\n",
    "\n",
    "def RemoveMistake(Content):\n",
    "    ## Deal with typing mistake and generate feature vector\n",
    "    ## Backspace: \n",
    "    length = len(Content);\n",
    "    i = 0;\n",
    "    while(i < length):\n",
    "        item = Content[i];\n",
    "        if(item.which == 8):\n",
    "            ## remove Backspace and other keys that user deletes because of mistake\n",
    "            ## if find a Backspace, delete the Backspace and the key in front of it\n",
    "            ## additional Backspace: only remove Backspace\n",
    "            if(i == 0):\n",
    "                del Content[i];\n",
    "                length -= 1;\n",
    "                i -= 1;\n",
    "            ## remove the Backspace and wrong characters\n",
    "            else:\n",
    "                ## remove all the other non-printable char before the Backspace\n",
    "                while(not isPrintable(Content[i-1].key)):\n",
    "                    del Content[i-1];\n",
    "                    i -= 1; length -= 1;\n",
    "                    \n",
    "                ## remove the printable char that should be remove by this Backspace    \n",
    "                del Content[i-1:i+1];\n",
    "                length -= 2;\n",
    "                i -= 2;\n",
    "        i += 1;\n",
    "        \n",
    "## After removing the typing mistakes, the text still may have lots of redundancy. \n",
    "## Like continuous 'Shift (which:16)', non-printable charactors at the begining and the end.\n",
    "## This function help us to remove those redundancy and extract the correct charcators containing the feature information\n",
    "\n",
    "def extract_Feature(Press_Sequence, Reference):## Reference means the correct username or password\n",
    "    Feature = [];\n",
    "    i, j = 0, 0;\n",
    "    while(i < len(Press_Sequence) and j < len(Reference)):\n",
    "        if(Press_Sequence[i].key == Reference[j]):\n",
    "            ## if the char is in upper case, and the previous pressed key is 'shift'\n",
    "            ## if so, take the 'shift' into the feature vector\n",
    "#             print Press_Sequence[i].key;\n",
    "            if(Press_Sequence[i].key.isupper() and Press_Sequence[i-1].which == 16):\n",
    "                print Press_Sequence[i].key;\n",
    "                Feature.append(Press_Sequence[i-1]);\n",
    "\n",
    "            Feature.append(Press_Sequence[i]);\n",
    "            j += 1;\n",
    "        i += 1;\n",
    "            \n",
    "    return Feature;"
   ]
  },
  {
   "cell_type": "markdown",
   "metadata": {},
   "source": [
    "* Function \"authentication_Main\" is the main function of the back-end. It will use the information from the front-end to make the final decision and send it back to front-end. At last, front-end will visualize the final result to users."
   ]
  },
  {
   "cell_type": "code",
   "execution_count": 141,
   "metadata": {
    "collapsed": true
   },
   "outputs": [],
   "source": [
    "def authentication_Main():\n",
    "    ## TODO: in real case, this part should search in database\n",
    "    ## In demo, this part only search in the dictionary \"Profiles\" which contains users' information \n",
    "    \n",
    "    if(not Profiles.has_key(username)):\n",
    "        return False;\n",
    "    elif(Profiles[\"Password\"] != password):\n",
    "        return False;\n",
    "\n",
    "    Username = [username[i] for i in range(len(username))];\n",
    "    Password = [password[i] for i in range(len(password))];\n",
    "    Password.append(\"Enter\"); ## Because we should let the password be compatible with CMU password\n",
    "    \n",
    "    Username_keyevent = [KeyEvent(Username_index[i], Username_key[i], Username_which[i],\n",
    "                     Username_time_D[i], Username_time_U[i]) for i in range(len(Username_index))];\n",
    "\n",
    "    Password_keyevent = [KeyEvent(Password_index[i], Password_key[i], Password_which[i],\n",
    "                     Password_time_D[i], Password_time_U[i]) for i in range(len(Password_index))];\n",
    "\n",
    "    ## Deal with typing mistake and generate feature vector\n",
    "    ## sort by pressed index. The orginal vector is in sequence of release\n",
    "    Press_Sequence_Username = sorted(Username_keyevent, key=lambda keyevent: keyevent.index);\n",
    "    Press_Sequence_Password = sorted(Password_keyevent, key=lambda keyevent: keyevent.index);\n",
    "    \n",
    "    RemoveMistake(Press_Sequence_Username);\n",
    "    RemoveMistake(Press_Sequence_Password);\n",
    "    \n",
    "    ## Look for user's correct password as reference according to its username\n",
    "    ## The real password is used as the reference which helps us to extract the keystroke feature\n",
    "    \n",
    "    Username_Keystroke = extract_Feature(Press_Sequence_Username, Username);\n",
    "    Password_Keystroke = extract_Feature(Press_Sequence_Password, Password);\n",
    "\n",
    "    ## Generate feature vector, four kinds of features: hold-time, DDKL, UDKL, UUKL\n",
    "    ## Feature_Vector is the final feature vector which is used to verify user's keystroke\n",
    "    H_time_Username = [(Username_Keystroke[i].time_U - Username_Keystroke[i].time_D)/1000\n",
    "                       for i in range(len(Username_Keystroke))];\n",
    "    H_time_Password = [(Password_Keystroke[i].time_U - Password_Keystroke[i].time_D)/1000 \n",
    "                       for i in range(len(Password_Keystroke))];\n",
    "\n",
    "    DDKL_Username = [(Username_Keystroke[i+1].time_D - Username_Keystroke[i].time_D)/1000 \n",
    "                     for i in range(len(Username_Keystroke)-1)];\n",
    "    DDKL_Password = [(Password_Keystroke[i+1].time_D - Password_Keystroke[i].time_D)/1000\n",
    "                     for i in range(len(Password_Keystroke)-1)];\n",
    "\n",
    "    UDKL_Username = [(Username_Keystroke[i+1].time_D - Username_Keystroke[i].time_U)/1000 \n",
    "                     for i in range(len(Username_Keystroke)-1)];\n",
    "    UDKL_Password = [(Password_Keystroke[i+1].time_D - Password_Keystroke[i].time_U)/1000 \n",
    "                     for i in range(len(Password_Keystroke)-1)];\n",
    "\n",
    "    UUKL_Username = [(Username_Keystroke[i+1].time_U - Username_Keystroke[i].time_U)/1000\n",
    "                     for i in range(len(Username_Keystroke)-1)];\n",
    "    UUKL_Password = [(Password_Keystroke[i+1].time_U - Password_Keystroke[i].time_U)/1000 \n",
    "                     for i in range(len(Password_Keystroke)-1)];\n",
    "\n",
    "    Feature_Vector = [];\n",
    "    for i in range(len(H_time_Password)):\n",
    "        Feature_Vector.append(H_time_Password[i]);\n",
    "        if(i < len(DDKL_Password)):\n",
    "            Feature_Vector.append(DDKL_Password[i]);\n",
    "            Feature_Vector.append(UDKL_Password[i]);\n",
    "\n",
    "    print \"Length of Feature Vector: \", len(Feature_Vector);\n",
    "    print Feature_Vector;\n",
    "    \n",
    "    return make_Authentication(Profiles[Username][Profile][Model], \n",
    "                               Profiles[Username][Profile][Threshold], \n",
    "                               np.array(Feature_Vector).reshape(1,-1));\n"
   ]
  },
  {
   "cell_type": "markdown",
   "metadata": {},
   "source": [
    "\n",
    "* Pre-process the typing data collected from the front-end. Including removing typing mistakes and arranging it in press sequence "
   ]
  },
  {
   "cell_type": "code",
   "execution_count": 40,
   "metadata": {
    "collapsed": false
   },
   "outputs": [
    {
     "name": "stdout",
     "output_type": "stream",
     "text": [
      "8 [1, 0, 2, 3, 4, 5, 6, 7]\n",
      "8 ['A', 'Shift', 'm', 'a', 'd', 'e', 'u', 's']\n",
      "8 [65, 16, 77, 65, 68, 69, 85, 83]\n",
      "8 [4171825.8249999997, 4171627.2050000005, 4172020.865, 4172145.23, 4172339.715, 4172536.9250000003, 4172804.98, 4172920.1]\n",
      "8 [4171938.1750000003, 4171952.575, 4172101.525, 4172250.795, 4172438.3200000003, 4172619.0750000007, 4172880.0550000006, 4173007.6]\n",
      "50 [10, 8, 9, 11, 13, 12, 15, 14, 17, 16, 20, 18, 19, 21, 22, 23, 24, 25, 26, 27, 28, 29, 30, 31, 32, 33, 34, 35, 36, 37, 38, 39, 40, 41, 42, 43, 44, 45, 46, 47, 48, 49, 50, 51, 52, 53, 54, 55, 56, 57]\n",
      "50 ['w', 'l', 'a', 'w', 'd', 'g', 'b', 'f', 'a', 'l', 'i', 's', 'd', 'Backspace', 'Backspace', 'Backspace', 'Backspace', 'Backspace', 'Backspace', 'Backspace', 'Backspace', 'Backspace', 'Backspace', 'Backspace', 'Backspace', 'Backspace', 'Backspace', 'Backspace', 'Backspace', 'Backspace', 'Backspace', 'Backspace', 'Backspace', '.', 't', 'i', 'e', '5', 'r', 'o', 'a', 'n', 'Backspace', 'Backspace', 'Backspace', 'o', 'a', 'n', 'l', 'Enter']\n",
      "50 [87, 76, 65, 87, 68, 71, 66, 70, 65, 76, 73, 83, 68, 8, 8, 8, 8, 8, 8, 8, 8, 8, 8, 8, 8, 8, 8, 8, 8, 8, 8, 8, 8, 190, 84, 73, 69, 53, 82, 79, 65, 78, 8, 8, 8, 79, 65, 78, 76, 13]\n",
      "50 [4175153.775000001, 4175116.755, 4175144.9600000004, 4175219.83, 4175273.365, 4175268.785, 4175365.505000001, 4175328.885, 4175420.7750000004, 4175397.845, 4175471.475, 4175422.5100000002, 4175460.5250000004, 4175961.9499999997, 4176448.235000001, 4176478.655, 4176508.2250000006, 4176536.590000001, 4176566.8700000006, 4176596.165, 4176625.435, 4176654.735, 4176684.5650000004, 4176714.400000001, 4176744.2300000004, 4176773.335000001, 4176802.965000001, 4176832.5450000004, 4176861.995, 4176890.9950000006, 4176921.58, 4176950.3800000004, 4176979.8600000003, 4178473.535, 4178960.89, 4179102.8100000005, 4179248.1350000007, 4180485.0500000003, 4180741.205, 4181017.8249999997, 4181173.095, 4181337.475, 4182078.8000000003, 4182245.3000000003, 4182408.0000000005, 4183141.9800000004, 4184039.3000000003, 4184160.055, 4184285.6600000006, 4185010.98]\n",
      "50 [4175155.8350000004, 4175218.1250000005, 4175251.6450000005, 4175295.3150000004, 4175327.4250000003, 4175396.1450000005, 4175399.235000001, 4175416.2400000007, 4175503.125, 4175506.2000000007, 4175525.3200000008, 4175528.4550000005, 4175531.0800000005, 4177006.325, 4177006.325, 4177006.325, 4177006.325, 4177006.325, 4177006.325, 4177006.325, 4177006.325, 4177006.325, 4177006.325, 4177006.325, 4177006.325, 4177006.325, 4177006.325, 4177006.325, 4177006.325, 4177006.325, 4177006.325, 4177006.325, 4177006.325, 4178538.775, 4179032.4200000004, 4179168.37, 4179342.7850000006, 4180549.3400000003, 4180819.4650000003, 4181132.1350000007, 4181253.715000001, 4181389.0600000005, 4182149.47, 4182316.5250000004, 4182477.1300000004, 4183208.5450000004, 4184119.6850000005, 4184243.6800000006, 4184363.670000001, 4185067.5950000007]\n",
      "Press Sequence\n",
      "['Shift', 'A', 'm', 'a', 'd', 'e', 'u', 's']\n",
      "[0, 1, 2, 3, 4, 5, 6, 7]\n",
      "['.', 't', 'i', 'e', '5', 'r', 'o', 'a', 'n', 'l', 'Enter']\n",
      "[41, 42, 43, 44, 45, 46, 53, 54, 55, 56, 57]\n"
     ]
    }
   ],
   "source": [
    "##Deal with the features extracted by the front-end\n",
    "\n",
    "print len(Username_index), Username_index;\n",
    "print len(Username_key), Username_key;\n",
    "print len(Username_which), Username_which;\n",
    "print len(Username_time_D), Username_time_D;\n",
    "print len(Username_time_U), Username_time_U;\n",
    "\n",
    "print len(Password_index), Password_index;\n",
    "print len(Password_key), Password_key;\n",
    "print len(Password_which), Password_which;\n",
    "print len(Password_time_D), Password_time_D;\n",
    "print len(Password_time_U), Password_time_U;\n",
    "\n",
    "Username_keyevent = [KeyEvent(Username_index[i], Username_key[i], Username_which[i], \n",
    "                     Username_time_D[i], Username_time_U[i]) for i in range(len(Username_index))];\n",
    "\n",
    "Password_keyevent = [KeyEvent(Password_index[i], Password_key[i], Password_which[i], \n",
    "                     Password_time_D[i], Password_time_U[i]) for i in range(len(Password_index))];\n",
    "\n",
    "## Deal with typing mistake and generate feature vector\n",
    "## sort by pressed index. The orginal vector is in sequence of release\n",
    "Press_Sequence_Username = sorted(Username_keyevent, key=lambda keyevent: keyevent.index);\n",
    "Press_Sequence_Password = sorted(Password_keyevent, key=lambda keyevent: keyevent.index);\n",
    "\n",
    "RemoveMistake(Press_Sequence_Username);\n",
    "RemoveMistake(Press_Sequence_Password);\n",
    "\n",
    "# print \"Release Sequence\";\n",
    "# print [Username_keyevent[i].key for i in range(len(Username_keyevent))];\n",
    "# print [Username_keyevent[i].index for i in range(len(Username_keyevent))];\n",
    "\n",
    "# print [Password_keyevent[i].key for i in range(len(Password_keyevent))];\n",
    "# print [Password_keyevent[i].index for i in range(len(Username_keyevent))];\n",
    "\n",
    "print \"Press Sequence\";\n",
    "print [Press_Sequence_Username[i].key for i in range(len(Press_Sequence_Username))];\n",
    "print [Press_Sequence_Username[i].index for i in range(len(Press_Sequence_Username))];\n",
    "\n",
    "print [Press_Sequence_Password[i].key for i in range(len(Press_Sequence_Password))];\n",
    "print [Press_Sequence_Password[i].index for i in range(len(Press_Sequence_Password))];"
   ]
  },
  {
   "cell_type": "code",
   "execution_count": 41,
   "metadata": {
    "collapsed": false
   },
   "outputs": [
    {
     "name": "stdout",
     "output_type": "stream",
     "text": [
      "A\n",
      "['Shift', 'A', 'm', 'a', 'd', 'e', 'u', 's']\n",
      "['.', 't', 'i', 'e', '5', 'r', 'o', 'a', 'n', 'l', 'Enter']\n",
      "11 [0.06523999999975785, 0.07153000000026077, 0.06555999999959022, 0.09464999999990686, 0.06429000000003725, 0.07826000000024215, 0.06656499999994413, 0.08038500000024214, 0.08362500000046566, 0.07801000000024215, 0.05661500000068918]\n",
      "10 [0.4873549999999814, 0.14192000000039115, 0.14532500000018628, 1.2369149999995717, 0.25615499999979513, 2.4007750000003725, 0.8973199999998324, 0.12075499999988824, 0.12560500000044703, 0.7253199999993667]\n",
      "10 [0.4221150000002235, 0.07039000000013039, 0.07976500000059604, 1.1422649999996648, 0.19186499999975787, 2.3225150000001302, 0.8307549999998882, 0.0403699999996461, 0.04197999999998137, 0.6473099999991245]\n",
      "10 [0.4936450000004843, 0.1359499999997206, 0.17441500000050292, 1.206554999999702, 0.270125, 2.3890800000000745, 0.9111400000001304, 0.12399500000011175, 0.11999000000022352, 0.7039249999998137]\n",
      "Length of Feature Vector:  31\n",
      "[0.06523999999975785, 0.4873549999999814, 0.4221150000002235, 0.07153000000026077, 0.14192000000039115, 0.07039000000013039, 0.06555999999959022, 0.14532500000018628, 0.07976500000059604, 0.09464999999990686, 1.2369149999995717, 1.1422649999996648, 0.06429000000003725, 0.25615499999979513, 0.19186499999975787, 0.07826000000024215, 2.4007750000003725, 2.3225150000001302, 0.06656499999994413, 0.8973199999998324, 0.8307549999998882, 0.08038500000024214, 0.12075499999988824, 0.0403699999996461, 0.08362500000046566, 0.12560500000044703, 0.04197999999998137, 0.07801000000024215, 0.7253199999993667, 0.6473099999991245, 0.05661500000068918]\n"
     ]
    }
   ],
   "source": [
    "\n",
    "## Generate the format of feature vector. We build the feature vector according to the format of CMU dataset (H, DD, UD...)\n",
    "## In the next step, we will calculate each feature's value and fill this vector with those values\n",
    "## \n",
    "User = \"Amadeus\"\n",
    "PWD = \".tie5roanl\"\n",
    "Username = [User[i] for i in range(len(User))];\n",
    "Password = [PWD[i] for i in range(len(PWD))];\n",
    "Password.append(\"Enter\");\n",
    "\n",
    "Username_Keystroke = extract_Feature(Press_Sequence_Username, Username);\n",
    "Password_Keystroke = extract_Feature(Press_Sequence_Password, Password);\n",
    "\n",
    "print [Username_Keystroke[i].key for i in range(len(Username_Keystroke))];\n",
    "print [Password_Keystroke[i].key for i in range(len(Password_Keystroke))];\n",
    "\n",
    "## Generate feature vector, four kinds of features: hold-time, DDKL, UDKL, UUKL\n",
    "H_time_Username = [(Username_Keystroke[i].time_U - Username_Keystroke[i].time_D)/1000\n",
    "                   for i in range(len(Username_Keystroke))];\n",
    "H_time_Password = [(Password_Keystroke[i].time_U - Password_Keystroke[i].time_D)/1000 \n",
    "                   for i in range(len(Password_Keystroke))];\n",
    "\n",
    "DDKL_Username = [(Username_Keystroke[i+1].time_D - Username_Keystroke[i].time_D)/1000 \n",
    "                 for i in range(len(Username_Keystroke)-1)];\n",
    "DDKL_Password = [(Password_Keystroke[i+1].time_D - Password_Keystroke[i].time_D)/1000\n",
    "                 for i in range(len(Password_Keystroke)-1)];\n",
    "\n",
    "UDKL_Username = [(Username_Keystroke[i+1].time_D - Username_Keystroke[i].time_U)/1000 \n",
    "                 for i in range(len(Username_Keystroke)-1)];\n",
    "UDKL_Password = [(Password_Keystroke[i+1].time_D - Password_Keystroke[i].time_U)/1000 \n",
    "                 for i in range(len(Password_Keystroke)-1)];\n",
    "\n",
    "UUKL_Username = [(Username_Keystroke[i+1].time_U - Username_Keystroke[i].time_U)/1000\n",
    "                 for i in range(len(Username_Keystroke)-1)];\n",
    "UUKL_Password = [(Password_Keystroke[i+1].time_U - Password_Keystroke[i].time_U)/1000 \n",
    "                 for i in range(len(Password_Keystroke)-1)];\n",
    "\n",
    "print len(H_time_Password), H_time_Password;\n",
    "print len(DDKL_Password), DDKL_Password;\n",
    "print len(UDKL_Password), UDKL_Password;\n",
    "print len(UUKL_Password), UUKL_Password;\n",
    "\n",
    "Feature_Vector = [];\n",
    "for i in range(len(H_time_Password)):\n",
    "    Feature_Vector.append(H_time_Password[i]);\n",
    "    if(i < len(DDKL_Password)):\n",
    "        Feature_Vector.append(DDKL_Password[i]);\n",
    "        Feature_Vector.append(UDKL_Password[i]);\n",
    "    \n",
    "print \"Length of Feature Vector: \", len(Feature_Vector);\n",
    "print Feature_Vector;\n"
   ]
  },
  {
   "cell_type": "markdown",
   "metadata": {},
   "source": [
    "### Verify user's identity with feature vector and GMM+LOOM\n",
    "* This is the core part of our demostration. We will use the model built by GMM+LOOM to verify user's identity. Feature vector is generated by the information extracted in the front-end. \n",
    "* Let model training be functional. This part should include setting parameter automative."
   ]
  },
  {
   "cell_type": "code",
   "execution_count": 95,
   "metadata": {
    "collapsed": true
   },
   "outputs": [],
   "source": [
    "def train_Model_GMM_LOOM(train_data, k):\n",
    "    ## TODO\n",
    "#     n_components = ..\n",
    "#     covariance_type= ..\n",
    "#     init_params = ..\n",
    "#     n_iter = ..\n",
    "    ## Set the paramter of GMM model (How to find the optimal value automatively)\n",
    "    \n",
    "    model = GMM(n_components=20, covariance_type=\"diag\", init_params='wc', n_iter=20);\n",
    "    \n",
    "    ##LOOM Method\n",
    "    loo = cross_validation.LeaveOneOut(len(train_data));\n",
    "    print(len(train_data));\n",
    "    Scores = [];\n",
    "    for train_index, test_index in loo:\n",
    "        train, test = train_data[train_index], train_data[test_index];\n",
    "        model.fit(train);\n",
    "        Scores.append(model.score(test));\n",
    "    \n",
    "    Scores = np.array(Scores).ravel();\n",
    "    mean = np.mean(Scores); std = np.std(Scores);\n",
    "    threshold = min([Scores[i] for i in range(len(Scores)) if abs(Scores[i]-mean) < k*std]);\n",
    "    \n",
    "    ##Train the GMM model\n",
    "    model.fit(train_data);\n",
    "    profile = dict({})\n",
    "    return profile;\n",
    "\n",
    "def make_Authentication(model, threshold, feature):\n",
    "    print len(feature);\n",
    "    score = model.score(feature);\n",
    "    print score;\n",
    "    if(score < threshold):\n",
    "        return False;\n",
    "    else:\n",
    "        return True;\n"
   ]
  },
  {
   "cell_type": "code",
   "execution_count": 59,
   "metadata": {
    "collapsed": false
   },
   "outputs": [
    {
     "name": "stdout",
     "output_type": "stream",
     "text": [
      "sklearn.cross_validation.KFold(n=400, n_folds=2, shuffle=True, random_state=None)\n",
      "<type 'numpy.ndarray'> (200L, 31L)\n",
      "200\n",
      "1\n",
      "[-816.89879773]\n",
      "False\n",
      "sklearn.cross_validation.KFold(n=400, n_folds=2, shuffle=True, random_state=None)\n",
      "<type 'numpy.ndarray'> (200L, 31L)\n",
      "200\n",
      "1\n",
      "[-1713.04461535]\n",
      "False\n",
      "sklearn.cross_validation.KFold(n=400, n_folds=2, shuffle=True, random_state=None)\n",
      "<type 'numpy.ndarray'> (200L, 31L)\n",
      "200\n",
      "1\n",
      "[-970.26517982]\n",
      "False\n",
      "sklearn.cross_validation.KFold(n=400, n_folds=2, shuffle=True, random_state=None)\n",
      "<type 'numpy.ndarray'> (200L, 31L)\n",
      "200\n",
      "1\n",
      "[-482.57435358]\n",
      "False\n",
      "sklearn.cross_validation.KFold(n=400, n_folds=2, shuffle=True, random_state=None)\n",
      "<type 'numpy.ndarray'> (200L, 31L)\n",
      "200\n",
      "1\n",
      "[-1082.44942494]\n",
      "False\n"
     ]
    }
   ],
   "source": [
    "Profiles = [];\n",
    "for i in range(5):\n",
    "    train_target, train_feature, test_target, test_feature = pre_process(data_user[i], 2, True);\n",
    "    print type(train_feature), train_feature.shape;\n",
    "    Profiles.append(train_Model_GMM_LOOM(train_feature, 0.35));\n",
    "    print make_Authentication(Profiles[i][0], Profiles[i][1], np.array(Feature_Vector).reshape(1, -1));\n"
   ]
  }
 ],
 "metadata": {
  "anaconda-cloud": {
   "environment": null,
   "summary": "MyCode",
   "url": "https://anaconda.org/pysherlock/demo"
  },
  "kernelspec": {
   "display_name": "Python [Root]",
   "language": "python",
   "name": "Python [Root]"
  },
  "language_info": {
   "codemirror_mode": {
    "name": "ipython",
    "version": 2
   },
   "file_extension": ".py",
   "mimetype": "text/x-python",
   "name": "python",
   "nbconvert_exporter": "python",
   "pygments_lexer": "ipython2",
   "version": "2.7.12"
  }
 },
 "nbformat": 4,
 "nbformat_minor": 0
}

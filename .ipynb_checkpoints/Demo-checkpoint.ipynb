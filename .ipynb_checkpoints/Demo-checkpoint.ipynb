{
 "cells": [
  {
   "cell_type": "markdown",
   "metadata": {},
   "source": [
    "# <center>Read Keystroke Data and Build Model to Process</center>"
   ]
  },
  {
   "cell_type": "code",
   "execution_count": 1,
   "metadata": {
    "collapsed": false
   },
   "outputs": [
    {
     "name": "stdout",
     "output_type": "stream",
     "text": [
      "Dataset/Kevin and Maxion/DSL-StrongPasswordData.csv\n"
     ]
    }
   ],
   "source": [
    "import os\n",
    "import copy\n",
    "import string\n",
    "%matplotlib inline\n",
    "import matplotlib.pyplot as plt\n",
    "import pandas as pd\n",
    "import numpy as np\n",
    "from sklearn import svm\n",
    "import sklearn.cross_validation\n",
    "\n",
    "input_path = \"Dataset/Kevin and Maxion/DSL-StrongPasswordData.csv\"\n",
    "print input_path;"
   ]
  },
  {
   "cell_type": "markdown",
   "metadata": {},
   "source": [
    "## Import Raw Data and Extract Features. Pre-process the data \n",
    "\n",
    "### Dataset (The CMU keystroke dynamics dataset)\n",
    "\n",
    "* The CMU benchmark dataset contains keystroke dynamics consisting of the dwell time for each key and the latencies between two successive keys for static password string “.tie5Roanl”.\n",
    "* For each subject, there were data collection sessions with at least one day apart between two sessions. 50 repeated keystroke strings were collected in each session, resulting in a total 400 sample for each subject.\n",
    "* For each typed 10-letter password and the final enter key, the dwell time and diagraphs give rise to a 31 dimensional feature vector.\n",
    "\n",
    "Although the keystroke features provide sufficiently distinguishing patterns for each subject, they are highly correlated, with large scale variations, and typical of noise and outliers. Someone has previously proposed a new distance metric to effectively handle these challenges that are intrinsic to keystroke dynamics data."
   ]
  },
  {
   "cell_type": "code",
   "execution_count": 124,
   "metadata": {
    "collapsed": false
   },
   "outputs": [
    {
     "name": "stdout",
     "output_type": "stream",
     "text": [
      "<type 'str'>\n",
      "subject,sessionIndex,rep,H.period,DD.period.t,UD.period.t,H.t,DD.t.i,UD.t.i,H.i,DD.i.e,UD.i.e,H.e,DD.e.five,UD.e.five,H.five,DD.five.Shift.r,UD.five.Shift.r,H.Shift.r,DD.Shift.r.o,UD.Shift.r.o,H.o,DD.o.a,UD.o.a,H.a,DD.a.n,UD.a.n,H.n,DD.n.l,UD.n.l,H.l,DD.l.Return,UD.l.Return,H.Return\n",
      "(20400L, 34L)\n",
      "(51L, 400L, 34L)\n"
     ]
    }
   ],
   "source": [
    "file = open(input_path, \"r\");\n",
    "\n",
    "raw_data = file.read();\n",
    "print type(raw_data);\n",
    "\n",
    "data_lines = np.array(raw_data.splitlines());\n",
    "print data_lines[0];\n",
    "\n",
    "data = np.array([x.split(\",\") for x in data_lines]);\n",
    "data = np.delete(data, 0, 0);\n",
    "\n",
    "# change username to index (0-50)\n",
    "for i in range(len(data)):\n",
    "    data[i][0] = i/400;\n",
    "\n",
    "data = data.astype(np.float);\n",
    "data_two = data[0:2*400];\n",
    "data_user = np.array([data[i*400:(i+1)*400] for i in range(51)]);\n",
    "\n",
    "print data.shape;\n",
    "print data_user.shape; ## All the data organized by different users"
   ]
  },
  {
   "cell_type": "markdown",
   "metadata": {},
   "source": [
    "### Build train dataset and test dataset"
   ]
  },
  {
   "cell_type": "code",
   "execution_count": 3,
   "metadata": {
    "collapsed": true
   },
   "outputs": [],
   "source": [
    "# split data to train_data and test_data for cross validation\n",
    "\n",
    "def pre_process(data, fold, shuffle):\n",
    "    kf = sklearn.cross_validation.KFold(len(data), n_folds=fold, shuffle=shuffle);\n",
    "    print kf;\n",
    "    for train_index, test_index in kf:\n",
    "        train, test = data[train_index], data[test_index];\n",
    "        \n",
    "    train_targets = train[:, 0:1].ravel();\n",
    "    train_features = train[:, 3:];\n",
    "    test_targets = test[:, 0:1].ravel();\n",
    "    test_features = test[:, 3:];\n",
    "    \n",
    "    return train_targets, train_features, test_targets, test_features;\n",
    "    "
   ]
  },
  {
   "cell_type": "code",
   "execution_count": 4,
   "metadata": {
    "collapsed": false
   },
   "outputs": [
    {
     "name": "stdout",
     "output_type": "stream",
     "text": [
      "sklearn.cross_validation.KFold(n=20400, n_folds=5, shuffle=True, random_state=None)\n",
      "sklearn.cross_validation.KFold(n=800, n_folds=5, shuffle=True, random_state=None)\n",
      "[  0.   1.   2.   3.   4.   5.   6.   7.   8.   9.  10.  11.  12.  13.  14.\n",
      "  15.  16.  17.  18.  19.  20.  21.  22.  23.  24.  25.  26.  27.  28.  29.\n",
      "  30.  31.  32.  33.  34.  35.  36.  37.  38.  39.  40.  41.  42.  43.  44.\n",
      "  45.  46.  47.  48.  49.  50.]\n",
      "51\n"
     ]
    }
   ],
   "source": [
    "\n",
    "train_target, train_feature, test_target, test_feature = pre_process(data, 5, True);\n",
    "train_target_two, train_feature_two, test_target_two, test_feature_two = pre_process(data_two, 5, True);\n",
    "\n",
    "subjects = np.unique(train_target);\n",
    "subjects_two = subjects[0:2];\n",
    "n_classes = len(subjects);\n",
    "n_classes_two = len(subjects_two);\n",
    "print subjects;\n",
    "print n_classes;"
   ]
  },
  {
   "cell_type": "markdown",
   "metadata": {},
   "source": [
    "### Train the SVM model to analyze data\n",
    "\n",
    "When training an SVM with the Radial Basis Function (RBF) kernel, two parameters must be considered: C and gamma. \n",
    "* The parameter C, common to all SVM kernels, trades off misclassification of training examples against simplicity of the decision surface. A low C makes the decision surface smooth, while a high C aims at classifying all training examples correctly.\n",
    "* gamma defines how much influence a single training example has. The larger gamma is, the closer other examples must be to be affected.\n",
    "* Proper choice of C and gamma is critical to the SVM’s performance. One is advised to use sklearn.grid_search.GridSearchCV with C and gamma spaced exponentially far apart to choose good values."
   ]
  },
  {
   "cell_type": "code",
   "execution_count": null,
   "metadata": {
    "collapsed": false
   },
   "outputs": [],
   "source": [
    "clf = svm.SVC(gamma=1, C=300.);\n",
    "clf2 = svm.SVC(gamma=1, C=300., decision_function_shape='ovo');\n",
    "## for now, gamma = 1, C = 300 is my best combination of those two parameters in this model\n",
    "\n",
    "#clf.fit(train_data, train_target);\n",
    "clf2.fit(train_feature_two, train_target_two);\n",
    "# libsvm = svm.libsvm.fit(x, y);\n",
    "\n",
    "#print (clf, \"\\n\", clf2);\n",
    "print (clf2.score(test_feature_two, test_target_two));\n",
    "print (sklearn.cross_validation.cross_val_score(clf, train_feature_two, train_target_two, cv=5));\n",
    "\n",
    "# for i in range(20):\n",
    "#     print (clf.predict(test_data[i]), test_target[i]);\n",
    "\n",
    "    "
   ]
  },
  {
   "cell_type": "markdown",
   "metadata": {
    "collapsed": true
   },
   "source": [
    "### Use Neutral Network to analyze \n",
    "* In scikit-learn, the neural network model is Restricted Boltzmann machines (RBM). The features extracted by an RBM or a hierarchy of RBMs often give good results when fed into a linear classifier such as a linear SVM or a perceptron. \n",
    "\n",
    "* A Restricted Boltzmann Machine with binary visible units and binary hiddens. Parameters are estimated using Stochastic Maximum Likelihood (SML), also known as Persistent Contrastive Divergence (PCD)\n",
    "\n",
    "* Two simple and easy search strategies for tuning parameter: Grid Search; Random Search"
   ]
  },
  {
   "cell_type": "code",
   "execution_count": null,
   "metadata": {
    "collapsed": false
   },
   "outputs": [],
   "source": [
    "# from sklearn.neural_network import BernoulliRBM\n",
    "# from sklearn.cross_validation import train_test_split\n",
    "\n",
    "# a = np.array([train_data[train_target == user] for user in subjects]);\n",
    "# print a[0:5];\n",
    "# print len(a[0]);\n",
    "\n",
    "\n",
    "d = np.array([1, 2, 3, 4, 5]);\n",
    "b = np.array(['1', '1', '2', '2', '4']);\n",
    "c = np.array(['1', '2', '3', '4', '5']);\n",
    "print np.array([d[b == x].mean() for x in c]);"
   ]
  },
  {
   "cell_type": "markdown",
   "metadata": {},
   "source": [
    "### Gaussian Mixture Models with Universal Background Model\n",
    "* A Gaussian mixture model is a probabilistic model that assumes all the data points are generated from a mixture of a finite number of Gaussian distributions wih unknown parameters. (Gaussian Distribution = Normal Distribution)\n",
    "* The GMM object implements the EM algorithm for fitting mixture-of-Gaussian models. \n",
    "* GMM.fit method learns a Gaussian Mixture Model from train data. Gmm.predict method can assign each sample of test data to the Gaussian class which it mostly probably belong to.\n",
    "* The GMM has different options to constrain the covariance: spherical, diagonal, tied or full covariance. Since we have class labels for the training data, we can initialize the GMM parameters in a supervised manner."
   ]
  },
  {
   "cell_type": "code",
   "execution_count": null,
   "metadata": {
    "collapsed": true
   },
   "outputs": [],
   "source": [
    "## Draw the ellipses of the clusters\n",
    "def make_ellipses(gmm, ax):\n",
    "    for n, color in enumerate('rgb'):\n",
    "        v, w = np.linalg.eigh(gmm._get_covars()[n][:2, :2])\n",
    "        u = w[0] / np.linalg.norm(w[0])\n",
    "        angle = np.arctan2(u[1], u[0])\n",
    "        angle = 180 * angle / np.pi  # convert to degrees\n",
    "        v *= 9\n",
    "        ell = mpl.patches.Ellipse(gmm.means_[n, :2], v[0], v[1],\n",
    "                                  180 + angle, color=color)\n",
    "        ell.set_clip_box(ax.bbox)\n",
    "        ell.set_alpha(0.5)\n",
    "        ax.add_artist(ell)\n",
    "        "
   ]
  },
  {
   "cell_type": "markdown",
   "metadata": {},
   "source": [
    "* Existing works in applying GMM to keystroke authentication is to train a GMM for each genuine user. At testing time, a keystroke feature is evaluated against the genuine user's GMM and a threshold is applied to the likelihood of the feature vector to make the decision.\n",
    "\n",
    "* The idea of TMM-UBM is to train another GMM from a large pool of so-called background subjects (except the genuine user and the actual testing subjects). When the pool of background subjects is large enough, the UBM will have a good chance to reasonably represent any imposter's data. Thus, the imposter can have a relatively high likelihood score under UBM.\n",
    "\n",
    "* A key common feature of these algorithms is that an unsupervised training is conducted on a large pool of subjects at the first stage to allow the classifier take advantage of the overall data distribution in the feature space for improved performance."
   ]
  },
  {
   "cell_type": "code",
   "execution_count": 5,
   "metadata": {
    "collapsed": false,
    "scrolled": true
   },
   "outputs": [
    {
     "name": "stdout",
     "output_type": "stream",
     "text": [
      "('spherical', GMM(covariance_type='spherical', init_params='wc', min_covar=0.001,\n",
      "  n_components=2, n_init=1, n_iter=20, params='wmc', random_state=None,\n",
      "  thresh=None, tol=0.001, verbose=0))\n",
      "('Train_accuracy', 61.5625)\n",
      "('Test_accuracy', 60.0)\n",
      "(43L, 31L)\n",
      "(117L, 31L)\n",
      "('diag', GMM(covariance_type='diag', init_params='wc', min_covar=0.001, n_components=2,\n",
      "  n_init=1, n_iter=20, params='wmc', random_state=None, thresh=None,\n",
      "  tol=0.001, verbose=0))\n",
      "('Train_accuracy', 54.218750000000007)\n",
      "('Test_accuracy', 51.875000000000007)\n",
      "(40L, 31L)\n",
      "(120L, 31L)\n",
      "('full', GMM(covariance_type='full', init_params='wc', min_covar=0.001, n_components=2,\n",
      "  n_init=1, n_iter=20, params='wmc', random_state=None, thresh=None,\n",
      "  tol=0.001, verbose=0))\n",
      "('Train_accuracy', 57.03125)\n",
      "('Test_accuracy', 57.499999999999993)\n",
      "(135L, 31L)\n",
      "(25L, 31L)\n",
      "('tied', GMM(covariance_type='tied', init_params='wc', min_covar=0.001, n_components=2,\n",
      "  n_init=1, n_iter=20, params='wmc', random_state=None, thresh=None,\n",
      "  tol=0.001, verbose=0))\n",
      "('Train_accuracy', 90.9375)\n",
      "('Test_accuracy', 91.875)\n",
      "(80L, 31L)\n",
      "(80L, 31L)\n"
     ]
    },
    {
     "data": {
      "image/png": "[encoded data removed]",
      "text/plain": [
       "<matplotlib.figure.Figure at 0xccb8240>"
      ]
     },
     "metadata": {},
     "output_type": "display_data"
    },
    {
     "data": {
      "image/png": "[encoded data removed]",
      "text/plain": [
       "<matplotlib.figure.Figure at 0xad2eac8>"
      ]
     },
     "metadata": {},
     "output_type": "display_data"
    }
   ],
   "source": [
    "from sklearn.mixture import GMM\n",
    "from sklearn import cross_validation\n",
    "from sklearn.cross_validation import StratifiedKFold\n",
    "\n",
    "#Try GMMs with different types of covariances\n",
    "# How to find the best n_components\n",
    "classifiers = dict((covar_type, GMM(n_components=2, covariance_type=covar_type, init_params='wc', n_iter=20)) \n",
    "                   for covar_type in ['spherical', 'diag', 'tied', 'full']);\n",
    "\n",
    "n_classifiers = len(classifiers);\n",
    "\n",
    "plt.figure(figsize = (6, 4));\n",
    "for n, color in enumerate('rg'):\n",
    "    visual = test_feature_two[test_target_two == n];\n",
    "    plt.plot(visual[:, 0], visual[:, 1], 'o', color=color);\n",
    "    \n",
    "plt.title(\"Test data distribution\");\n",
    "\n",
    "\n",
    "plt.figure(figsize=(3 * n_classifiers * 0.75, 8));\n",
    "plt.subplots_adjust(bottom=.01, top=0.95, hspace=.15, wspace=.05, left=.01, right=.99);\n",
    "\n",
    "for index, (name, clf) in enumerate(classifiers.items()):\n",
    "    # Since we have class labels for the training data, \n",
    "    # we can initialize the GMM parameters in a supervised manner.\n",
    "    print (name, clf);\n",
    "    \n",
    "    clf.means_ = np.array([train_feature_two[train_target_two == user].mean(axis=0) for user in subjects_two]);\n",
    "\n",
    "    # means_ : array, shape (n_components, n_features) Mean parameters for each mixture component.\n",
    "    # axis : Axis or axes along which the means are computed. The default is to compute the mean of the flattened array. \n",
    "    # If this is a tuple of ints, a mean is performed over multiple axes, instead of a single axis or all the axes as before.\n",
    "    # Compute the mean of features of every user seperately\n",
    "    \n",
    "    # Train the other parameters using the EM algorithm\n",
    "    clf.fit(train_feature_two);\n",
    "    \n",
    "    plt.subplot(2, n_classifiers/2, index+1); #subplot(nrows, ncols, plot_number)\n",
    "    \n",
    "    train_pred = clf.predict(train_feature_two);\n",
    "    test_pred = clf.predict(test_feature_two);\n",
    "    train_accuracy = np.mean(train_pred == train_target_two)*100;\n",
    "    test_accuracy = np.mean(test_pred == test_target_two)*100;\n",
    "    print (\"Train_accuracy\", train_accuracy);\n",
    "    print (\"Test_accuracy\", test_accuracy);\n",
    "\n",
    "    # Visualization of the result\n",
    "#     for n, color in enumerate('r'):\n",
    "#         visual_test = test_feature_two[test_pred == n];\n",
    "#         print visual_test.shape;\n",
    "#         plt.plot(visual_test[0:40,0], 'o', color=color);   \n",
    "    \n",
    "    for n, color in enumerate('rg'):\n",
    "        visual_test = test_feature_two[test_pred == n];\n",
    "        print visual_test.shape;\n",
    "        plt.plot(visual_test[:,0], visual_test[:,1], 'o', color=color);      \n",
    "    \n",
    "    plt.xticks(());\n",
    "    plt.yticks(());\n",
    "    plt.title(name);\n",
    "     "
   ]
  },
  {
   "cell_type": "code",
   "execution_count": 11,
   "metadata": {
    "collapsed": false,
    "scrolled": true
   },
   "outputs": [
    {
     "name": "stdout",
     "output_type": "stream",
     "text": [
      "sklearn.cross_validation.KFold(n=400, n_folds=5, shuffle=True, random_state=None)\n"
     ]
    },
    {
     "data": {
      "image/png": "[encoded data removed]",
      "text/plain": [
       "<matplotlib.figure.Figure at 0xb00bda0>"
      ]
     },
     "metadata": {},
     "output_type": "display_data"
    }
   ],
   "source": [
    "train_target_user, train_feature_user, test_target_user, test_feature_user = pre_process(data_user[0], 5, True);\n",
    "\n",
    "num_components = 50; ## max number of components\n",
    "covariances=('spherical', 'diag', 'tied', 'full');\n",
    "models = np.array([dict((covar_type, GMM(n_components=i, covariance_type=covar_type)) \n",
    "                        for covar_type in covariances) for i in np.arange(1, num_components+1)]);\n",
    "\n",
    "AIC = [[0]*(num_components)]*4;\n",
    "BIC = [[0]*(num_components)]*4;\n",
    "\n",
    "plt.figure(figsize=(20,20));\n",
    "plt.subplots_adjust(left=0.12, right=0.97,\n",
    "                    bottom=0.21, top=0.9, wspace=0.2);\n",
    "\n",
    "for n_components in range(num_components):\n",
    "    for index, (name, model) in enumerate(models[n_components].items()):\n",
    "#         print (name, model);\n",
    "#         model.means_ = np.array([train_feature_user.mean(axis=0)]*(n_components+1));\n",
    "        model.fit(train_feature_user);\n",
    "        AIC[index][n_components] = model.aic(train_feature_user);\n",
    "        BIC[index][n_components] = model.bic(train_feature_user);\n",
    "\n",
    "# print AIC;\n",
    "# print BIC;\n",
    "\n",
    "plt.subplot(221);\n",
    "plt.plot(np.arange(1,num_components+1), AIC[0], '--k', label = \"AIC\");\n",
    "plt.plot(np.arange(1,num_components+1), BIC[0], '--m', label = \"BIC\");\n",
    "plt.xlabel(\"n.components\");\n",
    "plt.ylabel(\"information criterion\");\n",
    "plt.title(\"spherical\");\n",
    "\n",
    "plt.subplot(222);\n",
    "plt.plot(np.arange(1,num_components+1), AIC[1], '--k', label = \"AIC\");\n",
    "plt.plot(np.arange(1,num_components+1), BIC[1], '--m', label = \"BIC\");\n",
    "plt.xlabel(\"n.components\");\n",
    "plt.ylabel(\"information criterion\");\n",
    "plt.title(\"diag\");\n",
    "\n",
    "plt.subplot(223);\n",
    "plt.plot(np.arange(1,num_components+1), AIC[2], '--k', label = \"AIC\");\n",
    "plt.plot(np.arange(1,num_components+1), BIC[2], '--m', label = \"BIC\");\n",
    "plt.xlabel(\"n.components\");\n",
    "plt.ylabel(\"information criterion\");\n",
    "plt.title(\"tied\");\n",
    "\n",
    "plt.subplot(224);\n",
    "plt.plot(np.arange(1,num_components+1), AIC[3], '--k', label = \"AIC\");\n",
    "plt.plot(np.arange(1,num_components+1), BIC[3], '--m', label = \"BIC\");\n",
    "plt.xlabel(\"n.components\");\n",
    "plt.ylabel(\"information criterion\");\n",
    "plt.title(\"full\");\n"
   ]
  },
  {
   "cell_type": "code",
   "execution_count": 122,
   "metadata": {
    "collapsed": false,
    "scrolled": true
   },
   "outputs": [
    {
     "name": "stdout",
     "output_type": "stream",
     "text": [
      "mean:  56.1005650333 std:  12.0190839299\n",
      "51.320944508\n",
      "[0.1, 0.2, 0.3, 0.4, 0.5, 0.6, 0.7, 0.8, 0.9, 1.0, 1.1, 1.2, 1.3, 1.4, 1.5, 1.6, 1.7, 1.8, 1.9, 2.0]\n"
     ]
    },
    {
     "data": {
      "image/png": "[encoded data removed]",
      "text/plain": [
       "<matplotlib.figure.Figure at 0xc464fd0>"
      ]
     },
     "metadata": {},
     "output_type": "display_data"
    }
   ],
   "source": [
    "import random\n",
    "\n",
    "imposter_index = [random.randrange(400, len(train_feature), 13) for i in range(100)];\n",
    "imposter_target = np.array([train_target[i] for i in imposter_index]); \n",
    "imposter_feature = np.array([train_feature[i] for i in imposter_index]);\n",
    "\n",
    "feature_user = np.concatenate((train_feature_user, test_feature_user), axis=0);\n",
    "genuine_index = [random.randrange(0, len(feature_user), 3) for i in range(100)];\n",
    "genuine_user = np.array([feature_user[i] for i in genuine_index]);\n",
    "\n",
    "profiles = dict((covar_type, GMM(n_components=20, covariance_type=covar_type, init_params='wc', n_iter=20)) \n",
    "                   for covar_type in covariances);\n",
    "\n",
    "model = profiles[\"diag\"]\n",
    "loo = cross_validation.LeaveOneOut(len(feature_user));\n",
    "Scores = [];\n",
    "\n",
    "for train_index, test_index in loo:\n",
    "    train, test = feature_user[train_index], feature_user[test_index];\n",
    "    model.fit(train);\n",
    "    Scores.append(model.score(test));\n",
    "\n",
    "model.fit(feature_user);\n",
    "Scores = np.array(Scores).ravel();\n",
    "mean = np.mean(Scores);\n",
    "std = np.std(Scores);\n",
    "k = 0.4;\n",
    "threshold_user = min([Scores[i] for i in range(len(Scores)) if abs(Scores[i]-mean) < k*std]);\n",
    "print \"mean: \", mean, \"std: \", std;\n",
    "print threshold_user;\n",
    "\n",
    "#Evalutation of the model\n",
    "FAR, FRR = [], [];\n",
    "K = [float(i)/10 for i in range(1, 21)];\n",
    "print K;\n",
    "for index in range(20):\n",
    "    threshold_user = min([Scores[j] for j in range(len(Scores)) if abs(Scores[j]-mean) < K[index]*std]);\n",
    "    reject, accept = 0, 0;\n",
    "    for i in range(len(imposter_feature)):\n",
    "        score = model.score(imposter_feature[i].reshape(1,-1));\n",
    "        if(score > threshold_user):\n",
    "            accept = accept+1;\n",
    "    \n",
    "    FAR.append(accept);\n",
    "\n",
    "    for i in range(len(genuine_user)):\n",
    "        score = model.score(genuine_user[i].reshape(1,-1));\n",
    "        if(score < threshold_user):\n",
    "            reject = reject+1;\n",
    "    \n",
    "    FRR.append(reject);\n",
    "\n",
    "plt.figure(figsize=(8,8));\n",
    "plt.plot(K, FAR, '--k', label = \"FAR\");\n",
    "plt.plot(K, FRR, '--m', label = \"FRR\");\n",
    "plt.xlabel(\"K\");\n",
    "plt.ylabel(\"FAR & FRR\");\n",
    "plt.title(\"Model Estimation\");"
   ]
  },
  {
   "cell_type": "markdown",
   "metadata": {},
   "source": [
    "## Demonstration of Verification System\n",
    "* Use HTML and Javascript build a front end page to simulate the login page of authentication system. Record what the user types in and extract keystroke features. (Front-End: HTML + Javascript)\n",
    "\n",
    "* Back-end receive the keystroke information and pre-process it (Filter the mistake and extract the features in proper format). Use the model built with GMM+LOOM to verify the user. (Python)\n",
    "\n",
    "* Back-end passes the verification result to front-end. Front-end visualizes the result whether user's authentication is successful."
   ]
  },
  {
   "cell_type": "code",
   "execution_count": 14,
   "metadata": {
    "collapsed": true
   },
   "outputs": [],
   "source": [
    "from IPython.display import HTML\n",
    "\n",
    "## Use this class to record the keystroke information from the front-end (Javascript)\n",
    "class KeyEvent:\n",
    "    keyCount = 0;\n",
    "    \n",
    "    def __init__(self, index, key, which, time_D, time_U):\n",
    "        self.index = index; ## The index of pressing sequence\n",
    "        self.key = key; \n",
    "        self.which = which; ## Keycode\n",
    "        self.time_D = time_D;\n",
    "        self.time_U = time_U;\n",
    "        KeyEvent.keyCount += 1;\n",
    "        \n",
    "Username_index, Username_key, Username_which, Username_time_D, Username_time_U = [], [], [], [], [];\n",
    "Password_index, Password_key, Password_which, Password_time_D, Password_time_U = [], [], [], [], [];"
   ]
  },
  {
   "cell_type": "markdown",
   "metadata": {},
   "source": [
    "### Front-End (HTML+Javascript)\n",
    "   The front-end of this demo is written by html and javascript. For the convinence, I integrate the front-end code in notebook. With integrating back-end and front-end in one notebook, we can easily tune the algorithm and find the implicit problems in our system"
   ]
  },
  {
   "cell_type": "code",
   "execution_count": 130,
   "metadata": {
    "collapsed": false
   },
   "outputs": [
    {
     "data": {
      "text/html": [
       "<head>\n",
       "    <meta http-equiv=\"Content-Type\" content=\"text/html; charset=ISO-8859-1\"/>\n",
       "    <title>Keystroke demo</title>\n",
       "    <script type=\"text/javascript\" src=\"WebContent/js/UI.js\"></script>\n",
       "    <script type=\"text/javascript\" src=\"WebContent/js/demo.js\"></script>\n",
       "    <link rel=\"stylesheet\" type=\"text/css\" href=\"WebContent/css/style_notebook.css\"/>\n",
       "</head>\n",
       "\n",
       "<body id=\"body_inside\">\n",
       "\n",
       "    <h1 id=\"h1\">Keystroke Demo</h1>\n",
       "    <div class=\"target\">\n",
       "        <fieldset class=\"input\">\n",
       "            <label for=\"username\" >Username:</label>\n",
       "            <input id=\"username\" type=\"text\">\n",
       "        </fieldset>\n",
       "    \n",
       "        <fieldset class=\"input\">\n",
       "            <label for=\"password\">Password:</label>\n",
       "            <input id=\"password\" type=\"text\">\n",
       "        </fieldset>\n",
       "    \n",
       "        <button id=\"triger\" onclick=\"exec_code()\">Login</button>\n",
       "    </div>\n",
       "    \n",
       "    <h2 id=\"h2\">Typed Text</h2>\n",
       "    \n",
       "    <div class=\"print-output\">\n",
       "        <fieldset class=\"output\">\n",
       "            <label for=\"Output\">Output:</label>\n",
       "            <input id=\"username-typed\" type=\"text\" size=\"50\"><br>\n",
       "            <input id=\"password-typed\" type=\"text\" size=\"50\"><br>\n",
       "        </fieldset>\n",
       "    </div>\n",
       "    \n",
       "    <script type=\"text/Javascript\">\n",
       "        function exec_code() {\n",
       "            document.getElementById(\"username-typed\").value = Username;\n",
       "            document.getElementById(\"password-typed\").value = Password;\n",
       "            \n",
       "            var kernel = IPython.notebook.kernel;\n",
       "            \n",
       "            kernel.execute(\"Username_index, Username_key, Username_which, Username_time_D, Username_time_U = [], [], [], [], [];\");\n",
       "            kernel.execute(\"Password_index, Password_key, Password_which, Password_time_D, Password_time_U = [], [], [], [], [];\");\n",
       "\n",
       "            \n",
       "            for(i = 0; i < Feature_Username.length; i++) {\n",
       "                var command_index = \"Username_index.append(\" + Feature_Username[i].index + \")\";\n",
       "                var command_key = \"Username_key.append('\" + Feature_Username[i].key + \"')\";\n",
       "                var command_which = \"Username_which.append(\" + Feature_Username[i].which + \")\";\n",
       "                var command_time_D = \"Username_time_D.append(\" + Feature_Username[i].time_D + \")\";\n",
       "                var command_time_U = \"Username_time_U.append(\" + Feature_Username[i].time_U + \")\";\n",
       "                \n",
       "                console.log(\"Executing Command: \" + command_index + command_key + command_which\n",
       "                            + command_time_D + command_time_U);\n",
       "                kernel.execute(command_index);\n",
       "                kernel.execute(command_key);\n",
       "                kernel.execute(command_which);\n",
       "                kernel.execute(command_time_D);\n",
       "                kernel.execute(command_time_U);\n",
       "            }\n",
       "            \n",
       "            for(i = 0; i < Feature_Password.length; i++) {\n",
       "                var command_index = \"Password_index.append(\" + Feature_Password[i].index + \")\";\n",
       "                var command_key = \"Password_key.append('\" + Feature_Password[i].key + \"')\";\n",
       "                var command_which = \"Password_which.append(\" + Feature_Password[i].which + \")\";\n",
       "                var command_time_D = \"Password_time_D.append(\" + Feature_Password[i].time_D + \")\";\n",
       "                var command_time_U = \"Password_time_U.append(\" + Feature_Password[i].time_U + \")\";\n",
       "                \n",
       "                console.log(\"Executing Command: \" + command_index + command_key + command_which\n",
       "                            + command_time_D + command_time_U);\n",
       "                kernel.execute(command_index);\n",
       "                kernel.execute(command_key);\n",
       "                kernel.execute(command_which);\n",
       "                kernel.execute(command_time_D);\n",
       "                kernel.execute(command_time_U);\n",
       "            }\n",
       "            \n",
       "            //var command = \"Index = [Released_Key[i].index for i in range(\"+Released_Key.length+\")]\";\n",
       "            \n",
       "            //console.log(\"Executing Command: \" + command);\n",
       "            //kernel.execute(command);\n",
       "            \n",
       "            //var command_test_2 = \"Index = \" + Released_Key[0].index;\n",
       "            //kernel.execute(command_test_2);\n",
       "        }\n",
       "        \n",
       "    </script>\n",
       "    \n",
       "</body>"
      ],
      "text/plain": [
       "<IPython.core.display.HTML object>"
      ]
     },
     "metadata": {},
     "output_type": "display_data"
    }
   ],
   "source": [
    "\n",
    "%%html\n",
    "<head>\n",
    "    <meta http-equiv=\"Content-Type\" content=\"text/html; charset=ISO-8859-1\"/>\n",
    "    <title>Keystroke demo</title>\n",
    "    <script type=\"text/javascript\" src=\"WebContent/js/UI.js\"></script>\n",
    "    <script type=\"text/javascript\" src=\"WebContent/js/demo.js\"></script>\n",
    "    <link rel=\"stylesheet\" type=\"text/css\" href=\"WebContent/css/style_notebook.css\"/>\n",
    "</head>\n",
    "\n",
    "<body id=\"body_inside\">\n",
    "\n",
    "    <h1 id=\"h1\">Keystroke Demo</h1>\n",
    "    <div class=\"target\">\n",
    "        <fieldset class=\"input\">\n",
    "            <label for=\"username\" >Username:</label>\n",
    "            <input id=\"username\" type=\"text\">\n",
    "        </fieldset>\n",
    "    \n",
    "        <fieldset class=\"input\">\n",
    "            <label for=\"password\">Password:</label>\n",
    "            <input id=\"password\" type=\"text\">\n",
    "        </fieldset>\n",
    "    \n",
    "        <button id=\"triger\" onclick=\"exec_code()\">Login</button>\n",
    "    </div>\n",
    "    \n",
    "    <h2 id=\"h2\">Typed Text</h2>\n",
    "    \n",
    "    <div class=\"print-output\">\n",
    "        <fieldset class=\"output\">\n",
    "            <label for=\"Output\">Output:</label>\n",
    "            <input id=\"username-typed\" type=\"text\" size=\"50\"><br>\n",
    "            <input id=\"password-typed\" type=\"text\" size=\"50\"><br>\n",
    "        </fieldset>\n",
    "    </div>\n",
    "    \n",
    "    <script type=\"text/Javascript\">\n",
    "        function exec_code() {\n",
    "            document.getElementById(\"username-typed\").value = Username;\n",
    "            document.getElementById(\"password-typed\").value = Password;\n",
    "            \n",
    "            var kernel = IPython.notebook.kernel;\n",
    "            \n",
    "            kernel.execute(\"Username_index, Username_key, Username_which, Username_time_D, Username_time_U = [], [], [], [], [];\");\n",
    "            kernel.execute(\"Password_index, Password_key, Password_which, Password_time_D, Password_time_U = [], [], [], [], [];\");\n",
    "\n",
    "            \n",
    "            for(i = 0; i < Feature_Username.length; i++) {\n",
    "                var command_index = \"Username_index.append(\" + Feature_Username[i].index + \")\";\n",
    "                var command_key = \"Username_key.append('\" + Feature_Username[i].key + \"')\";\n",
    "                var command_which = \"Username_which.append(\" + Feature_Username[i].which + \")\";\n",
    "                var command_time_D = \"Username_time_D.append(\" + Feature_Username[i].time_D + \")\";\n",
    "                var command_time_U = \"Username_time_U.append(\" + Feature_Username[i].time_U + \")\";\n",
    "                \n",
    "                console.log(\"Executing Command: \" + command_index + command_key + command_which\n",
    "                            + command_time_D + command_time_U);\n",
    "                kernel.execute(command_index);\n",
    "                kernel.execute(command_key);\n",
    "                kernel.execute(command_which);\n",
    "                kernel.execute(command_time_D);\n",
    "                kernel.execute(command_time_U);\n",
    "            }\n",
    "            \n",
    "            for(i = 0; i < Feature_Password.length; i++) {\n",
    "                var command_index = \"Password_index.append(\" + Feature_Password[i].index + \")\";\n",
    "                var command_key = \"Password_key.append('\" + Feature_Password[i].key + \"')\";\n",
    "                var command_which = \"Password_which.append(\" + Feature_Password[i].which + \")\";\n",
    "                var command_time_D = \"Password_time_D.append(\" + Feature_Password[i].time_D + \")\";\n",
    "                var command_time_U = \"Password_time_U.append(\" + Feature_Password[i].time_U + \")\";\n",
    "                \n",
    "                console.log(\"Executing Command: \" + command_index + command_key + command_which\n",
    "                            + command_time_D + command_time_U);\n",
    "                kernel.execute(command_index);\n",
    "                kernel.execute(command_key);\n",
    "                kernel.execute(command_which);\n",
    "                kernel.execute(command_time_D);\n",
    "                kernel.execute(command_time_U);\n",
    "            }\n",
    "            \n",
    "            //var command = \"Index = [Released_Key[i].index for i in range(\"+Released_Key.length+\")]\";\n",
    "            \n",
    "            //console.log(\"Executing Command: \" + command);\n",
    "            //kernel.execute(command);\n",
    "            \n",
    "            //var command_test_2 = \"Index = \" + Released_Key[0].index;\n",
    "            //kernel.execute(command_test_2);\n",
    "        }\n",
    "        \n",
    "    </script>\n",
    "    \n",
    "</body>"
   ]
  },
  {
   "cell_type": "markdown",
   "metadata": {},
   "source": [
    "### Extract and generate feature vector from the what user types in the front-end\n",
    "   * Extract four kinds of keystroke feature: hold-time, DDKL, UDKL, UUKL. Feature vector stands for user's typing habit behavior. \n",
    "   * One important point is that, the sequence of key-press and key-release could be a chaos. So we should generate thefeature vector with a predefine format. This format depends on user's true username and password\n",
    "\n",
    "* The function \"RemoveMistake\" is used for the user's typing mistake. Typing mistake means the mistake that users make while typing their username and password. Generally, if users make some typing mistakes, they will delete mistakes and type in again.\n",
    "\n",
    "* So we should filter the typing mistakes and extract the effective typed charactors. (Attentation!! \"Enter\" is printable)\n",
    "\n",
    "* The function below: \"extract_Feature\", is able to remove the redundency in the data. Get keys which contain the keystroke feature's information"
   ]
  },
  {
   "cell_type": "code",
   "execution_count": 131,
   "metadata": {
    "collapsed": false
   },
   "outputs": [],
   "source": [
    "import string\n",
    "\n",
    "def isPrintable(text):\n",
    "    printset = set(string.printable);\n",
    "    return set(text).issubset(printset);\n",
    "\n",
    "def RemoveMistake(Content):\n",
    "    ## Deal with typing mistake and generate feature vector\n",
    "    ## Backspace: \n",
    "    length = len(Content);\n",
    "    i = 0;\n",
    "    while(i < length):\n",
    "        item = Content[i];\n",
    "        if(item.which == 8):\n",
    "            ## remove Backspace and other keys that user deletes because of mistake\n",
    "            ## if find a Backspace, delete the Backspace and the key in front of it\n",
    "            ## additional Backspace: only remove Backspace\n",
    "            if(i == 0):\n",
    "                del Content[i];\n",
    "                length -= 1;\n",
    "                i -= 1;\n",
    "            ## remove the Backspace and wrong characters\n",
    "            else:\n",
    "                ## remove all the other non-printable char before the Backspace\n",
    "                while(not isPrintable(Content[i-1].key)):\n",
    "                    del Content[i-1];\n",
    "                    i -= 1; length -= 1;\n",
    "                    \n",
    "                ## remove the printable char that should be remove by this Backspace    \n",
    "                del Content[i-1:i+1];\n",
    "                length -= 2;\n",
    "                i -= 2;\n",
    "        i += 1;\n",
    "\n",
    "        \n",
    "## After removing the typing mistakes, the text still may have lots of redundancy. \n",
    "## Like continuous 'Shift (which:16)', non-printable charactors at the begining and the end.\n",
    "## This function help us to remove those redundancy and extract the correct charcators containing the feature information\n",
    "\n",
    "def extract_Feature(Press_Sequence, Reference):## Reference means the correct username or password\n",
    "    Feature = [];\n",
    "    i, j = 0, 0;\n",
    "    while(i < len(Press_Sequence) and j < len(Reference)):\n",
    "        if(Press_Sequence[i].key == Reference[j]):\n",
    "            ## if the char is in upper case, and the previous pressed key is 'shift'\n",
    "            ## if so, take the 'shift' into the feature vector\n",
    "#             print Press_Sequence[i].key;\n",
    "            if(Press_Sequence[i].key.isupper() and Press_Sequence[i-1].which == 16):\n",
    "                print Press_Sequence[i].key;\n",
    "                Feature.append(Press_Sequence[i-1]);\n",
    "\n",
    "            Feature.append(Press_Sequence[i]);\n",
    "            j += 1;\n",
    "        i += 1;\n",
    "            \n",
    "    return Feature;"
   ]
  },
  {
   "cell_type": "markdown",
   "metadata": {},
   "source": [
    "\n",
    "* Pre-process the typing data collected from the front-end. Including removing typing mistakes and arranging it in press sequence "
   ]
  },
  {
   "cell_type": "code",
   "execution_count": 132,
   "metadata": {
    "collapsed": false
   },
   "outputs": [
    {
     "name": "stdout",
     "output_type": "stream",
     "text": [
      "8 [0, 1, 2, 3, 4, 5, 6, 7]\n",
      "8 ['Shift', 'A', 'm', 'a', 'd', 'e', 'u', 's']\n",
      "8 [16, 65, 77, 65, 68, 69, 85, 83]\n",
      "8 [28659278.425000004, 28659534.48, 28659863.580000002, 28659991.215000004, 28660247.07, 28660447.045, 28660671.735000003, 28660831.110000003]\n",
      "8 [28659671.32, 28659671.515, 28659958.490000002, 28660086.76, 28660318.830000006, 28660518.710000005, 28660742.89, 28660935.130000003]\n",
      "18 [8, 9, 10, 11, 12, 14, 13, 15, 16, 17, 18, 19, 20, 21, 22, 23, 24, 25]\n",
      "18 ['.', 't', 'i', 'e', '5', 'R', 'Shift', 'o', 'n', 'a', 'l', 'Backspace', 'Backspace', 'Backspace', 'a', 'n', 'l', 'Enter']\n",
      "18 [190, 84, 73, 69, 53, 82, 16, 79, 78, 65, 76, 8, 8, 8, 65, 78, 76, 13]\n",
      "18 [28662790.355, 28663079.215, 28663255.16, 28663590.315, 28665230.310000002, 28666055.050000004, 28665662.96, 28666758.955000002, 28667358.730000004, 28667542.760000005, 28667711.235000003, 28668070.220000003, 28668278.63, 28668655.01, 28668990.490000002, 28669255.060000002, 28669399.105000004, 28670030.455000002]\n",
      "18 [28662862.830000002, 28663166.915000003, 28663318.730000004, 28663662.8, 28665302.8, 28666182.795, 28666222.89, 28666862.59, 28667438.77, 28667614.245, 28667798.705000002, 28668166.900000002, 28668342.620000005, 28668734.480000004, 28669070.435000002, 28669326.360000003, 28669494.330000002, 28670150.16]\n",
      "Press Sequence\n",
      "['Shift', 'A', 'm', 'a', 'd', 'e', 'u', 's']\n",
      "[0, 1, 2, 3, 4, 5, 6, 7]\n",
      "['.', 't', 'i', 'e', '5', 'Shift', 'R', 'o', 'a', 'n', 'l', 'Enter']\n",
      "[8, 9, 10, 11, 12, 13, 14, 15, 22, 23, 24, 25]\n"
     ]
    }
   ],
   "source": [
    "##Deal with the features extracted by the front-end\n",
    "\n",
    "print len(Username_index), Username_index;\n",
    "print len(Username_key), Username_key;\n",
    "print len(Username_which), Username_which;\n",
    "print len(Username_time_D), Username_time_D;\n",
    "print len(Username_time_U), Username_time_U;\n",
    "\n",
    "print len(Password_index), Password_index;\n",
    "print len(Password_key), Password_key;\n",
    "print len(Password_which), Password_which;\n",
    "print len(Password_time_D), Password_time_D;\n",
    "print len(Password_time_U), Password_time_U;\n",
    "\n",
    "Username_keyevent = [KeyEvent(Username_index[i], Username_key[i], Username_which[i], \n",
    "                     Username_time_D[i], Username_time_U[i]) for i in range(len(Username_index))];\n",
    "\n",
    "Password_keyevent = [KeyEvent(Password_index[i], Password_key[i], Password_which[i], \n",
    "                     Password_time_D[i], Password_time_U[i]) for i in range(len(Password_index))];\n",
    "\n",
    "## Deal with typing mistake and generate feature vector\n",
    "## sort by pressed index. The orginal vector is in sequence of release\n",
    "Press_Sequence_Username = sorted(Username_keyevent, key=lambda keyevent: keyevent.index);\n",
    "Press_Sequence_Password = sorted(Password_keyevent, key=lambda keyevent: keyevent.index);\n",
    "\n",
    "RemoveMistake(Press_Sequence_Username);\n",
    "RemoveMistake(Press_Sequence_Password);\n",
    "\n",
    "# print \"Release Sequence\";\n",
    "# print [Username_keyevent[i].key for i in range(len(Username_keyevent))];\n",
    "# print [Username_keyevent[i].index for i in range(len(Username_keyevent))];\n",
    "\n",
    "# print [Password_keyevent[i].key for i in range(len(Password_keyevent))];\n",
    "# print [Password_keyevent[i].index for i in range(len(Username_keyevent))];\n",
    "\n",
    "print \"Press Sequence\";\n",
    "print [Press_Sequence_Username[i].key for i in range(len(Press_Sequence_Username))];\n",
    "print [Press_Sequence_Username[i].index for i in range(len(Press_Sequence_Username))];\n",
    "\n",
    "print [Press_Sequence_Password[i].key for i in range(len(Press_Sequence_Password))];\n",
    "print [Press_Sequence_Password[i].index for i in range(len(Press_Sequence_Password))];"
   ]
  },
  {
   "cell_type": "code",
   "execution_count": 135,
   "metadata": {
    "collapsed": false
   },
   "outputs": [
    {
     "name": "stdout",
     "output_type": "stream",
     "text": [
      "A\n",
      "R\n",
      "['Shift', 'A', 'm', 'a', 'd', 'e', 'u', 's']\n",
      "['.', 't', 'i', 'e', '5', 'Shift', 'R', 'o', 'a', 'n', 'l', 'Enter']\n",
      "12 [0.07247500000149011, 0.08770000000298023, 0.06357000000402331, 0.07248499999940396, 0.07248999999836087, 0.5599299999997019, 0.12774499999731778, 0.10363499999791384, 0.07994500000029803, 0.07130000000074506, 0.09522499999776482, 0.11970499999821187]\n",
      "11 [0.2888599999994039, 0.17594500000029803, 0.3351550000011921, 1.639995000001043, 0.4326499999985099, 0.3920900000035763, 0.7039049999974668, 2.231535000000149, 0.264570000000298, 0.14404500000178813, 0.6313499999977649]\n",
      "11 [0.21638499999791383, 0.08824499999731779, 0.2715849999971688, 1.567510000001639, 0.360160000000149, -0.1678399999961257, 0.576160000000149, 2.127900000002235, 0.184625, 0.07274500000104309, 0.536125]\n",
      "11 [0.30408500000089406, 0.1518150000013411, 0.34406999999657273, 1.64, 0.920089999999851, -0.040094999998807904, 0.6797949999980628, 2.2078450000025334, 0.2559250000007451, 0.1679699999988079, 0.6558299999982119]\n",
      "Length of Feature Vector:  34\n",
      "[0.07247500000149011, 0.2888599999994039, 0.21638499999791383, 0.08770000000298023, 0.17594500000029803, 0.08824499999731779, 0.06357000000402331, 0.3351550000011921, 0.2715849999971688, 0.07248499999940396, 1.639995000001043, 1.567510000001639, 0.07248999999836087, 0.4326499999985099, 0.360160000000149, 0.5599299999997019, 0.3920900000035763, -0.1678399999961257, 0.12774499999731778, 0.7039049999974668, 0.576160000000149, 0.10363499999791384, 2.231535000000149, 2.127900000002235, 0.07994500000029803, 0.264570000000298, 0.184625, 0.07130000000074506, 0.14404500000178813, 0.07274500000104309, 0.09522499999776482, 0.6313499999977649, 0.536125, 0.11970499999821187]\n"
     ]
    }
   ],
   "source": [
    "\n",
    "## Generate the format of feature vector. We build the feature vector according to the format of CMU dataset (H, DD, UD...)\n",
    "## In the next step, we will calculate each feature's value and fill this vector with those values\n",
    "## \n",
    "User = \"Amadeus\"\n",
    "PWD = \".tie5Roanl\"\n",
    "Username = [User[i] for i in range(len(User))];\n",
    "Password = [PWD[i] for i in range(len(PWD))];\n",
    "Password.append(\"Enter\");\n",
    "\n",
    "Username_Keystroke = extract_Feature(Press_Sequence_Username, Username);\n",
    "Password_Keystroke = extract_Feature(Press_Sequence_Password, Password);\n",
    "\n",
    "print [Username_Keystroke[i].key for i in range(len(Username_Keystroke))];\n",
    "print [Password_Keystroke[i].key for i in range(len(Password_Keystroke))];\n",
    "\n",
    "## Generate feature vector, four kinds of features: hold-time, DDKL, UDKL, UUKL\n",
    "H_time_Username = [(Username_Keystroke[i].time_U - Username_Keystroke[i].time_D)/1000\n",
    "                   for i in range(len(Username_Keystroke))];\n",
    "H_time_Password = [(Password_Keystroke[i].time_U - Password_Keystroke[i].time_D)/1000 \n",
    "                   for i in range(len(Password_Keystroke))];\n",
    "\n",
    "DDKL_Username = [(Username_Keystroke[i+1].time_D - Username_Keystroke[i].time_D)/1000 \n",
    "                 for i in range(len(Username_Keystroke)-1)];\n",
    "DDKL_Password = [(Password_Keystroke[i+1].time_D - Password_Keystroke[i].time_D)/1000\n",
    "                 for i in range(len(Password_Keystroke)-1)];\n",
    "\n",
    "UDKL_Username = [(Username_Keystroke[i+1].time_D - Username_Keystroke[i].time_U)/1000 \n",
    "                 for i in range(len(Username_Keystroke)-1)];\n",
    "UDKL_Password = [(Password_Keystroke[i+1].time_D - Password_Keystroke[i].time_U)/1000 \n",
    "                 for i in range(len(Password_Keystroke)-1)];\n",
    "\n",
    "UUKL_Username = [(Username_Keystroke[i+1].time_U - Username_Keystroke[i].time_U)/1000\n",
    "                 for i in range(len(Username_Keystroke)-1)];\n",
    "UUKL_Password = [(Password_Keystroke[i+1].time_U - Password_Keystroke[i].time_U)/1000 \n",
    "                 for i in range(len(Password_Keystroke)-1)];\n",
    "\n",
    "print len(H_time_Password), H_time_Password;\n",
    "print len(DDKL_Password), DDKL_Password;\n",
    "print len(UDKL_Password), UDKL_Password;\n",
    "print len(UUKL_Password), UUKL_Password;\n",
    "\n",
    "Feature_Vector = [];\n",
    "for i in range(len(H_time_Password)):\n",
    "    Feature_Vector.append(H_time_Password[i]);\n",
    "    if(i < len(DDKL_Password)):\n",
    "        Feature_Vector.append(DDKL_Password[i]);\n",
    "        Feature_Vector.append(UDKL_Password[i]);\n",
    "    \n",
    "print \"Length of Feature Vector: \", len(Feature_Vector);\n",
    "print Feature_Vector;\n"
   ]
  },
  {
   "cell_type": "markdown",
   "metadata": {},
   "source": [
    "### Verify user's identity with feature vector and GMM+LOOM\n",
    "* This is the core part of our demostration. We will use the model built by GMM+LOOM to verify user's identity. Feature vector is generated by the information extracted in the front-end. \n",
    "* Let model training be functional. This part should include setting parameter automative."
   ]
  },
  {
   "cell_type": "code",
   "execution_count": 161,
   "metadata": {
    "collapsed": true
   },
   "outputs": [],
   "source": [
    "def train_Model_GMM_LOOM(train_data, k):\n",
    "    ## TODO\n",
    "#     n_components = ..\n",
    "#     covariance_type= ..\n",
    "#     init_params = ..\n",
    "#     n_iter = ..\n",
    "    ## Set the paramter of GMM model (How to find the optimal value automatively)\n",
    "    \n",
    "    model = GMM(n_components=20, covariance_type=\"diag\", init_params='wc', n_iter=20);\n",
    "    \n",
    "    ##LOOM Method\n",
    "    loo = cross_validation.LeaveOneOut(len(train_data));\n",
    "    print(len(train_data));\n",
    "    Scores = [];\n",
    "    for train_index, test_index in loo:\n",
    "        train, test = train_data[train_index], train_data[test_index];\n",
    "        model.fit(train);\n",
    "        Scores.append(model.score(test));\n",
    "    \n",
    "    Scores = np.array(Scores).ravel();\n",
    "    mean = np.mean(Scores); std = np.std(Scores);\n",
    "    threshold = min([Scores[i] for i in range(len(Scores)) if abs(Scores[i]-mean) < k*std]);\n",
    "    \n",
    "    ##Train the GMM model\n",
    "    model.fit(train_data);\n",
    "    profile = [model, threshold]\n",
    "    return profile;\n",
    "\n",
    "def make_Authentication(model, threshold, feature):\n",
    "    score = model.score(np.array(feature));\n",
    "    if(score < threshold):\n",
    "        return false;\n",
    "    else:\n",
    "        return true;\n"
   ]
  },
  {
   "cell_type": "code",
   "execution_count": 163,
   "metadata": {
    "collapsed": false
   },
   "outputs": [
    {
     "name": "stdout",
     "output_type": "stream",
     "text": [
      "sklearn.cross_validation.KFold(n=400, n_folds=2, shuffle=True, random_state=None)\n",
      "<type 'numpy.ndarray'>\n",
      "200\n",
      "sklearn.cross_validation.KFold(n=400, n_folds=2, shuffle=True, random_state=None)\n",
      "<type 'numpy.ndarray'>\n",
      "200\n",
      "sklearn.cross_validation.KFold(n=400, n_folds=2, shuffle=True, random_state=None)\n",
      "<type 'numpy.ndarray'>\n",
      "200\n",
      "sklearn.cross_validation.KFold(n=400, n_folds=2, shuffle=True, random_state=None)\n",
      "<type 'numpy.ndarray'>\n",
      "200\n"
     ]
    },
    {
     "ename": "KeyboardInterrupt",
     "evalue": "",
     "output_type": "error",
     "traceback": [
      "\u001b[1;31m---------------------------------------------------------------------------\u001b[0m",
      "\u001b[1;31mKeyboardInterrupt\u001b[0m                         Traceback (most recent call last)",
      "\u001b[1;32m<ipython-input-163-00a93bcb968e>\u001b[0m in \u001b[0;36m<module>\u001b[1;34m()\u001b[0m\n\u001b[0;32m      3\u001b[0m     \u001b[0mtrain_target\u001b[0m\u001b[1;33m,\u001b[0m \u001b[0mtrain_feature\u001b[0m\u001b[1;33m,\u001b[0m \u001b[0mtest_target\u001b[0m\u001b[1;33m,\u001b[0m \u001b[0mtest_feature\u001b[0m \u001b[1;33m=\u001b[0m \u001b[0mpre_process\u001b[0m\u001b[1;33m(\u001b[0m\u001b[0mdata_user\u001b[0m\u001b[1;33m[\u001b[0m\u001b[0mi\u001b[0m\u001b[1;33m]\u001b[0m\u001b[1;33m,\u001b[0m \u001b[1;36m2\u001b[0m\u001b[1;33m,\u001b[0m \u001b[0mTrue\u001b[0m\u001b[1;33m)\u001b[0m\u001b[1;33m;\u001b[0m\u001b[1;33m\u001b[0m\u001b[0m\n\u001b[0;32m      4\u001b[0m     \u001b[1;32mprint\u001b[0m \u001b[0mtype\u001b[0m\u001b[1;33m(\u001b[0m\u001b[0mtrain_feature\u001b[0m\u001b[1;33m)\u001b[0m\u001b[1;33m;\u001b[0m\u001b[1;33m\u001b[0m\u001b[0m\n\u001b[1;32m----> 5\u001b[1;33m     \u001b[0mProfiles\u001b[0m\u001b[1;33m.\u001b[0m\u001b[0mappend\u001b[0m\u001b[1;33m(\u001b[0m\u001b[0mtrain_Model_GMM_LOOM\u001b[0m\u001b[1;33m(\u001b[0m\u001b[0mtrain_feature\u001b[0m\u001b[1;33m,\u001b[0m \u001b[1;36m0.35\u001b[0m\u001b[1;33m)\u001b[0m\u001b[1;33m)\u001b[0m\u001b[1;33m;\u001b[0m\u001b[1;33m\u001b[0m\u001b[0m\n\u001b[0m\u001b[0;32m      6\u001b[0m \u001b[1;33m\u001b[0m\u001b[0m\n\u001b[0;32m      7\u001b[0m \u001b[1;32mprint\u001b[0m \u001b[0mProfiles\u001b[0m\u001b[1;33m[\u001b[0m\u001b[1;36m0\u001b[0m\u001b[1;33m]\u001b[0m\u001b[1;33m[\u001b[0m\u001b[1;36m1\u001b[0m\u001b[1;33m]\u001b[0m\u001b[1;33m;\u001b[0m\u001b[1;33m\u001b[0m\u001b[0m\n",
      "\u001b[1;32m<ipython-input-161-c561d1eb25b6>\u001b[0m in \u001b[0;36mtrain_Model_GMM_LOOM\u001b[1;34m(train_data, k)\u001b[0m\n\u001b[0;32m     15\u001b[0m     \u001b[1;32mfor\u001b[0m \u001b[0mtrain_index\u001b[0m\u001b[1;33m,\u001b[0m \u001b[0mtest_index\u001b[0m \u001b[1;32min\u001b[0m \u001b[0mloo\u001b[0m\u001b[1;33m:\u001b[0m\u001b[1;33m\u001b[0m\u001b[0m\n\u001b[0;32m     16\u001b[0m         \u001b[0mtrain\u001b[0m\u001b[1;33m,\u001b[0m \u001b[0mtest\u001b[0m \u001b[1;33m=\u001b[0m \u001b[0mtrain_data\u001b[0m\u001b[1;33m[\u001b[0m\u001b[0mtrain_index\u001b[0m\u001b[1;33m]\u001b[0m\u001b[1;33m,\u001b[0m \u001b[0mtrain_data\u001b[0m\u001b[1;33m[\u001b[0m\u001b[0mtest_index\u001b[0m\u001b[1;33m]\u001b[0m\u001b[1;33m;\u001b[0m\u001b[1;33m\u001b[0m\u001b[0m\n\u001b[1;32m---> 17\u001b[1;33m         \u001b[0mmodel\u001b[0m\u001b[1;33m.\u001b[0m\u001b[0mfit\u001b[0m\u001b[1;33m(\u001b[0m\u001b[0mtrain\u001b[0m\u001b[1;33m)\u001b[0m\u001b[1;33m;\u001b[0m\u001b[1;33m\u001b[0m\u001b[0m\n\u001b[0m\u001b[0;32m     18\u001b[0m         \u001b[0mScores\u001b[0m\u001b[1;33m.\u001b[0m\u001b[0mappend\u001b[0m\u001b[1;33m(\u001b[0m\u001b[0mmodel\u001b[0m\u001b[1;33m.\u001b[0m\u001b[0mscore\u001b[0m\u001b[1;33m(\u001b[0m\u001b[0mtest\u001b[0m\u001b[1;33m)\u001b[0m\u001b[1;33m)\u001b[0m\u001b[1;33m;\u001b[0m\u001b[1;33m\u001b[0m\u001b[0m\n\u001b[0;32m     19\u001b[0m \u001b[1;33m\u001b[0m\u001b[0m\n",
      "\u001b[1;32mD:\\Anaconda2\\lib\\site-packages\\sklearn\\mixture\\gmm.pyc\u001b[0m in \u001b[0;36mfit\u001b[1;34m(self, X, y)\u001b[0m\n\u001b[0;32m    596\u001b[0m         \u001b[0mself\u001b[0m\u001b[1;33m\u001b[0m\u001b[0m\n\u001b[0;32m    597\u001b[0m         \"\"\"\n\u001b[1;32m--> 598\u001b[1;33m         \u001b[0mself\u001b[0m\u001b[1;33m.\u001b[0m\u001b[0m_fit\u001b[0m\u001b[1;33m(\u001b[0m\u001b[0mX\u001b[0m\u001b[1;33m,\u001b[0m \u001b[0my\u001b[0m\u001b[1;33m)\u001b[0m\u001b[1;33m\u001b[0m\u001b[0m\n\u001b[0m\u001b[0;32m    599\u001b[0m         \u001b[1;32mreturn\u001b[0m \u001b[0mself\u001b[0m\u001b[1;33m\u001b[0m\u001b[0m\n\u001b[0;32m    600\u001b[0m \u001b[1;33m\u001b[0m\u001b[0m\n",
      "\u001b[1;32mD:\\Anaconda2\\lib\\site-packages\\sklearn\\mixture\\gmm.pyc\u001b[0m in \u001b[0;36m_fit\u001b[1;34m(self, X, y, do_prediction)\u001b[0m\n\u001b[0;32m    522\u001b[0m                 \u001b[1;31m# Expectation step\u001b[0m\u001b[1;33m\u001b[0m\u001b[1;33m\u001b[0m\u001b[0m\n\u001b[0;32m    523\u001b[0m                 \u001b[0mlog_likelihoods\u001b[0m\u001b[1;33m,\u001b[0m \u001b[0mresponsibilities\u001b[0m \u001b[1;33m=\u001b[0m \u001b[0mself\u001b[0m\u001b[1;33m.\u001b[0m\u001b[0mscore_samples\u001b[0m\u001b[1;33m(\u001b[0m\u001b[0mX\u001b[0m\u001b[1;33m)\u001b[0m\u001b[1;33m\u001b[0m\u001b[0m\n\u001b[1;32m--> 524\u001b[1;33m                 \u001b[0mcurrent_log_likelihood\u001b[0m \u001b[1;33m=\u001b[0m \u001b[0mlog_likelihoods\u001b[0m\u001b[1;33m.\u001b[0m\u001b[0mmean\u001b[0m\u001b[1;33m(\u001b[0m\u001b[1;33m)\u001b[0m\u001b[1;33m\u001b[0m\u001b[0m\n\u001b[0m\u001b[0;32m    525\u001b[0m \u001b[1;33m\u001b[0m\u001b[0m\n\u001b[0;32m    526\u001b[0m                 \u001b[1;31m# Check for convergence.\u001b[0m\u001b[1;33m\u001b[0m\u001b[1;33m\u001b[0m\u001b[0m\n",
      "\u001b[1;32mD:\\Anaconda2\\lib\\site-packages\\numpy\\core\\_methods.pyc\u001b[0m in \u001b[0;36m_mean\u001b[1;34m(a, axis, dtype, out, keepdims)\u001b[0m\n\u001b[0;32m     64\u001b[0m \u001b[1;33m\u001b[0m\u001b[0m\n\u001b[0;32m     65\u001b[0m     \u001b[0mret\u001b[0m \u001b[1;33m=\u001b[0m \u001b[0mumr_sum\u001b[0m\u001b[1;33m(\u001b[0m\u001b[0marr\u001b[0m\u001b[1;33m,\u001b[0m \u001b[0maxis\u001b[0m\u001b[1;33m,\u001b[0m \u001b[0mdtype\u001b[0m\u001b[1;33m,\u001b[0m \u001b[0mout\u001b[0m\u001b[1;33m,\u001b[0m \u001b[0mkeepdims\u001b[0m\u001b[1;33m)\u001b[0m\u001b[1;33m\u001b[0m\u001b[0m\n\u001b[1;32m---> 66\u001b[1;33m     \u001b[1;32mif\u001b[0m \u001b[0misinstance\u001b[0m\u001b[1;33m(\u001b[0m\u001b[0mret\u001b[0m\u001b[1;33m,\u001b[0m \u001b[0mmu\u001b[0m\u001b[1;33m.\u001b[0m\u001b[0mndarray\u001b[0m\u001b[1;33m)\u001b[0m\u001b[1;33m:\u001b[0m\u001b[1;33m\u001b[0m\u001b[0m\n\u001b[0m\u001b[0;32m     67\u001b[0m         ret = um.true_divide(\n\u001b[0;32m     68\u001b[0m                 ret, rcount, out=ret, casting='unsafe', subok=False)\n",
      "\u001b[1;31mKeyboardInterrupt\u001b[0m: "
     ]
    }
   ],
   "source": [
    "Profiles = [];\n",
    "for i in range(5):\n",
    "    train_target, train_feature, test_target, test_feature = pre_process(data_user[i], 2, True);\n",
    "    Profiles.append(train_Model_GMM_LOOM(train_feature, 0.35));\n",
    "    \n",
    "print Profiles[0][1];\n",
    "print make_Authentication(Profiles[0][0], Profiles[0][1], Feature_Vector);\n"
   ]
  }
 ],
 "metadata": {
  "anaconda-cloud": {
   "environment": null,
   "summary": "MyCode",
   "url": "https://anaconda.org/pysherlock/demo"
  },
  "kernelspec": {
   "display_name": "Python [Root]",
   "language": "python",
   "name": "Python [Root]"
  },
  "language_info": {
   "codemirror_mode": {
    "name": "ipython",
    "version": 2
   },
   "file_extension": ".py",
   "mimetype": "text/x-python",
   "name": "python",
   "nbconvert_exporter": "python",
   "pygments_lexer": "ipython2",
   "version": "2.7.12"
  }
 },
 "nbformat": 4,
 "nbformat_minor": 0
}

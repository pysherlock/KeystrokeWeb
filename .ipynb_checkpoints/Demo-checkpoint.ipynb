{
 "cells": [
  {
   "cell_type": "markdown",
   "metadata": {},
   "source": [
    "# <center>Read Keystroke Data and Build Model to Process</center>"
   ]
  },
  {
   "cell_type": "code",
   "execution_count": 1,
   "metadata": {
    "collapsed": false
   },
   "outputs": [
    {
     "name": "stdout",
     "output_type": "stream",
     "text": [
      "Dataset/Kevin and Maxion/DSL-StrongPasswordData.csv\n"
     ]
    }
   ],
   "source": [
    "import os\n",
    "import copy\n",
    "%matplotlib inline\n",
    "import matplotlib.pyplot as plt\n",
    "import pandas as pd\n",
    "import numpy as np\n",
    "from sklearn import svm\n",
    "import sklearn.cross_validation\n",
    "\n",
    "input_path = \"Dataset/Kevin and Maxion/DSL-StrongPasswordData.csv\"\n",
    "print input_path;"
   ]
  },
  {
   "cell_type": "markdown",
   "metadata": {},
   "source": [
    "## Import Raw Data and Extract Features. Pre-process the data \n",
    "\n",
    "### Dataset (The CMU keystroke dynamics dataset)\n",
    "\n",
    "* The CMU benchmark dataset contains keystroke dynamics consisting of the dwell time for each key and the latencies between two successive keys for static password string “.tie5Roanl”.\n",
    "* For each subject, there were data collection sessions with at least one day apart between two sessions. 50 repeated keystroke strings were collected in each session, resulting in a total 400 sample for each subject.\n",
    "* For each typed 10-letter password and the final enter key, the dwell time and diagraphs give rise to a 31 dimensional feature vector.\n",
    "\n",
    "Although the keystroke features provide sufficiently distinguishing patterns for each subject, they are highly correlated, with large scale variations, and typical of noise and outliers. Someone has previously proposed a new distance metric to effectively handle these challenges that are intrinsic to keystroke dynamics data."
   ]
  },
  {
   "cell_type": "code",
   "execution_count": 8,
   "metadata": {
    "collapsed": false
   },
   "outputs": [
    {
     "name": "stdout",
     "output_type": "stream",
     "text": [
      "<type 'str'>\n",
      "subject,sessionIndex,rep,H.period,DD.period.t,UD.period.t,H.t,DD.t.i,UD.t.i,H.i,DD.i.e,UD.i.e,H.e,DD.e.five,UD.e.five,H.five,DD.five.Shift.r,UD.five.Shift.r,H.Shift.r,DD.Shift.r.o,UD.Shift.r.o,H.o,DD.o.a,UD.o.a,H.a,DD.a.n,UD.a.n,H.n,DD.n.l,UD.n.l,H.l,DD.l.Return,UD.l.Return,H.Return\n",
      "(20400L, 34L)\n",
      "(51L, 400L, 34L)\n"
     ]
    }
   ],
   "source": [
    "file = open(input_path, \"r\");\n",
    "\n",
    "raw_data = file.read();\n",
    "print type(raw_data);\n",
    "\n",
    "data_lines = np.array(raw_data.splitlines());\n",
    "print data_lines[0];\n",
    "\n",
    "data = np.array([ x.split(\",\") for x in data_lines]);\n",
    "data = np.delete(data, 0, 0);\n",
    "\n",
    "# change username to index (0-50)\n",
    "for i in range(len(data)):\n",
    "    data[i][0] = i/400;\n",
    "\n",
    "data = data.astype(np.float);\n",
    "data_two = data[0:2*400];\n",
    "data_user = np.array([data[i*400:(i+1)*400] for i in range(51)]);\n",
    "\n",
    "print data.shape;\n",
    "# print data;\n",
    "print data_user.shape;\n",
    "# print data_user;"
   ]
  },
  {
   "cell_type": "markdown",
   "metadata": {},
   "source": [
    "### Build train dataset and test dataset"
   ]
  },
  {
   "cell_type": "code",
   "execution_count": 3,
   "metadata": {
    "collapsed": true
   },
   "outputs": [],
   "source": [
    "# split data to train_data and test_data for cross validation\n",
    "\n",
    "def pre_process(data, fold, shuffle):\n",
    "    kf = sklearn.cross_validation.KFold(len(data), n_folds=fold, shuffle=shuffle);\n",
    "    print kf;\n",
    "    for train_index, test_index in kf:\n",
    "        train, test = data[train_index], data[test_index];\n",
    "        \n",
    "    train_targets = train[:, 0:1].ravel();\n",
    "    train_features = train[:, 3:];\n",
    "    test_targets = test[:, 0:1].ravel();\n",
    "    test_features = test[:, 3:];\n",
    "    \n",
    "    return train_targets, train_features, test_targets, test_features;\n",
    "    "
   ]
  },
  {
   "cell_type": "code",
   "execution_count": 4,
   "metadata": {
    "collapsed": false
   },
   "outputs": [
    {
     "name": "stdout",
     "output_type": "stream",
     "text": [
      "sklearn.cross_validation.KFold(n=20400, n_folds=5, shuffle=True, random_state=None)\n",
      "sklearn.cross_validation.KFold(n=800, n_folds=5, shuffle=True, random_state=None)\n",
      "sklearn.cross_validation.KFold(n=400, n_folds=5, shuffle=True, random_state=None)\n",
      "[  0.   1.   2.   3.   4.   5.   6.   7.   8.   9.  10.  11.  12.  13.  14.\n",
      "  15.  16.  17.  18.  19.  20.  21.  22.  23.  24.  25.  26.  27.  28.  29.\n",
      "  30.  31.  32.  33.  34.  35.  36.  37.  38.  39.  40.  41.  42.  43.  44.\n",
      "  45.  46.  47.  48.  49.  50.]\n",
      "51\n"
     ]
    }
   ],
   "source": [
    "\n",
    "train_target, train_feature, test_target, test_feature = pre_process(data, 5, True);\n",
    "train_target_two, train_feature_two, test_target_two, test_feature_two = pre_process(data_two, 5, True);\n",
    "\n",
    "subjects = np.unique(train_target);\n",
    "subjects_two = subjects[0:2];\n",
    "n_classes = len(subjects);\n",
    "n_classes_two = len(subjects_two);\n",
    "print subjects;\n",
    "print n_classes;"
   ]
  },
  {
   "cell_type": "markdown",
   "metadata": {},
   "source": [
    "### Train the SVM model to analyze data\n",
    "\n",
    "When training an SVM with the Radial Basis Function (RBF) kernel, two parameters must be considered: C and gamma. \n",
    "* The parameter C, common to all SVM kernels, trades off misclassification of training examples against simplicity of the decision surface. A low C makes the decision surface smooth, while a high C aims at classifying all training examples correctly.\n",
    "* gamma defines how much influence a single training example has. The larger gamma is, the closer other examples must be to be affected.\n",
    "* Proper choice of C and gamma is critical to the SVM’s performance. One is advised to use sklearn.grid_search.GridSearchCV with C and gamma spaced exponentially far apart to choose good values."
   ]
  },
  {
   "cell_type": "code",
   "execution_count": null,
   "metadata": {
    "collapsed": false
   },
   "outputs": [],
   "source": [
    "clf = svm.SVC(gamma=1, C=300.);\n",
    "clf2 = svm.SVC(gamma=1, C=300., decision_function_shape='ovo');\n",
    "## for now, gamma = 1, C = 300 is my best combination of those two parameters in this model\n",
    "\n",
    "#clf.fit(train_data, train_target);\n",
    "clf2.fit(train_data, train_target);\n",
    "# libsvm = svm.libsvm.fit(x, y);\n",
    "\n",
    "#print (clf, \"\\n\", clf2);\n",
    "#print (clf.score(test_data, test_target), clf2.score(test_data, test_target));\n",
    "print (cross_validation.cross_val_score(clf, train_data, train_target, cv=5));\n",
    "\n",
    "# for i in range(20):\n",
    "#     print (clf.predict(test_data[i]), test_target[i]);\n",
    "\n",
    "    "
   ]
  },
  {
   "cell_type": "markdown",
   "metadata": {
    "collapsed": true
   },
   "source": [
    "### Use Neutral Network to analyze \n",
    "* In scikit-learn, the neural network model is Restricted Boltzmann machines (RBM). The features extracted by an RBM or a hierarchy of RBMs often give good results when fed into a linear classifier such as a linear SVM or a perceptron. \n",
    "\n",
    "* A Restricted Boltzmann Machine with binary visible units and binary hiddens. Parameters are estimated using Stochastic Maximum Likelihood (SML), also known as Persistent Contrastive Divergence (PCD)\n",
    "\n",
    "* Two simple and easy search strategies for tuning parameter: Grid Search; Random Search"
   ]
  },
  {
   "cell_type": "code",
   "execution_count": null,
   "metadata": {
    "collapsed": false
   },
   "outputs": [],
   "source": [
    "# from sklearn.neural_network import BernoulliRBM\n",
    "# from sklearn.cross_validation import train_test_split\n",
    "\n",
    "# a = np.array([train_data[train_target == user] for user in subjects]);\n",
    "# print a[0:5];\n",
    "# print len(a[0]);\n",
    "\n",
    "\n",
    "d = np.array([1, 2, 3, 4, 5]);\n",
    "b = np.array(['1', '1', '2', '2', '4']);\n",
    "c = np.array(['1', '2', '3', '4', '5']);\n",
    "print np.array([d[b == x].mean() for x in c]);"
   ]
  },
  {
   "cell_type": "markdown",
   "metadata": {},
   "source": [
    "### Gaussian Mixture Models with Universal Background Model\n",
    "* A Gaussian mixture model is a probabilistic model that assumes all the data points are generated from a mixture of a finite number of Gaussian distributions wih unknown parameters. (Gaussian Distribution = Normal Distribution)\n",
    "* The GMM object implements the EM algorithm for fitting mixture-of-Gaussian models. \n",
    "* GMM.fit method learns a Gaussian Mixture Model from train data. Gmm.predict method can assign each sample of test data to the Gaussian class which it mostly probably belong to.\n",
    "* The GMM has different options to constrain the covariance: spherical, diagonal, tied or full covariance. Since we have class labels for the training data, we can initialize the GMM parameters in a supervised manner."
   ]
  },
  {
   "cell_type": "code",
   "execution_count": null,
   "metadata": {
    "collapsed": true
   },
   "outputs": [],
   "source": [
    "## Draw the ellipses of the clusters\n",
    "def make_ellipses(gmm, ax):\n",
    "    for n, color in enumerate('rgb'):\n",
    "        v, w = np.linalg.eigh(gmm._get_covars()[n][:2, :2])\n",
    "        u = w[0] / np.linalg.norm(w[0])\n",
    "        angle = np.arctan2(u[1], u[0])\n",
    "        angle = 180 * angle / np.pi  # convert to degrees\n",
    "        v *= 9\n",
    "        ell = mpl.patches.Ellipse(gmm.means_[n, :2], v[0], v[1],\n",
    "                                  180 + angle, color=color)\n",
    "        ell.set_clip_box(ax.bbox)\n",
    "        ell.set_alpha(0.5)\n",
    "        ax.add_artist(ell)\n",
    "        "
   ]
  },
  {
   "cell_type": "markdown",
   "metadata": {},
   "source": [
    "* Existing works in applying GMM to keystroke authentication is to train a GMM for each genuine user. At testing time, a keystroke feature is evaluated against the genuine user's GMM and a threshold is applied to the likelihood of the feature vector to make the decision.\n",
    "\n",
    "* The idea of TMM-UBM is to train another GMM from a large pool of so-called background subjects (except the genuine user and the actual testing subjects). When the pool of background subjects is large enough, the UBM will have a good chance to reasonably represent any imposter's data. Thus, the imposter can have a relatively high likelihood score under UBM.\n",
    "\n",
    "* A key common feature of these algorithms is that an unsupervised training is conducted on a large pool of subjects at the first stage to allow the classifier take advantage of the overall data distribution in the feature space for improved performance."
   ]
  },
  {
   "cell_type": "code",
   "execution_count": 14,
   "metadata": {
    "collapsed": false,
    "scrolled": false
   },
   "outputs": [
    {
     "name": "stdout",
     "output_type": "stream",
     "text": [
      "('spherical', GMM(covariance_type='spherical', init_params='wc', min_covar=0.001,\n",
      "  n_components=2, n_init=1, n_iter=20, params='wmc', random_state=None,\n",
      "  thresh=None, tol=0.001, verbose=0))\n",
      "('Train_accuracy', 60.78125)\n",
      "('Test_accuracy', 62.5)\n",
      "(45L, 31L)\n",
      "(115L, 31L)\n",
      "('diag', GMM(covariance_type='diag', init_params='wc', min_covar=0.001, n_components=2,\n",
      "  n_init=1, n_iter=20, params='wmc', random_state=None, thresh=None,\n",
      "  tol=0.001, verbose=0))\n",
      "('Train_accuracy', 53.593749999999993)\n",
      "('Test_accuracy', 54.374999999999993)\n",
      "(40L, 31L)\n",
      "(120L, 31L)\n",
      "('full', GMM(covariance_type='full', init_params='wc', min_covar=0.001, n_components=2,\n",
      "  n_init=1, n_iter=20, params='wmc', random_state=None, thresh=None,\n",
      "  tol=0.001, verbose=0))\n",
      "('Train_accuracy', 56.25)\n",
      "('Test_accuracy', 54.374999999999993)\n",
      "(134L, 31L)\n",
      "(26L, 31L)\n",
      "('tied', GMM(covariance_type='tied', init_params='wc', min_covar=0.001, n_components=2,\n",
      "  n_init=1, n_iter=20, params='wmc', random_state=None, thresh=None,\n",
      "  tol=0.001, verbose=0))\n",
      "('Train_accuracy', 90.625)\n",
      "('Test_accuracy', 90.625)\n",
      "(78L, 31L)\n",
      "(82L, 31L)\n"
     ]
    },
    {
     "data": {
      "image/png": "[encoded data removed]",
      "text/plain": [
       "<matplotlib.figure.Figure at 0x128b93c8>"
      ]
     },
     "metadata": {},
     "output_type": "display_data"
    },
    {
     "data": {
      "image/png": "[encoded data removed]",
      "text/plain": [
       "<matplotlib.figure.Figure at 0xe916240>"
      ]
     },
     "metadata": {},
     "output_type": "display_data"
    }
   ],
   "source": [
    "from sklearn.mixture import GMM\n",
    "from sklearn import cross_validation\n",
    "from sklearn.cross_validation import StratifiedKFold\n",
    "\n",
    "#Try GMMs with different types of covariances\n",
    "# How to find the best n_components\n",
    "classifiers = dict((covar_type, GMM(n_components=2, covariance_type=covar_type, init_params='wc', n_iter=20)) \n",
    "                   for covar_type in ['spherical', 'diag', 'tied', 'full']);\n",
    "\n",
    "n_classifiers = len(classifiers);\n",
    "\n",
    "plt.figure(figsize = (6, 4));\n",
    "for n, color in enumerate('rg'):\n",
    "    visual = test_feature_two[test_target_two == n];\n",
    "    plt.plot(visual[:, 0], visual[:, 1], 'o', color=color);\n",
    "    \n",
    "plt.title(\"Test data distribution\");\n",
    "\n",
    "\n",
    "plt.figure(figsize=(3 * n_classifiers * 0.75, 8));\n",
    "plt.subplots_adjust(bottom=.01, top=0.95, hspace=.15, wspace=.05, left=.01, right=.99);\n",
    "\n",
    "for index, (name, clf) in enumerate(classifiers.items()):\n",
    "    # Since we have class labels for the training data, \n",
    "    # we can initialize the GMM parameters in a supervised manner.\n",
    "    print (name, clf);\n",
    "    \n",
    "    clf.means_ = np.array([train_feature_two[train_target_two == user].mean(axis=0) for user in subjects_two]);\n",
    "\n",
    "    # means_ : array, shape (n_components, n_features) Mean parameters for each mixture component.\n",
    "    # axis : Axis or axes along which the means are computed. The default is to compute the mean of the flattened array. \n",
    "    # If this is a tuple of ints, a mean is performed over multiple axes, instead of a single axis or all the axes as before.\n",
    "    # Compute the mean of features of every user seperately\n",
    "    \n",
    "    # Train the other parameters using the EM algorithm\n",
    "    clf.fit(train_feature_two);\n",
    "    \n",
    "    h = plt.subplot(2, n_classifiers/2, index+1); #subplot(nrows, ncols, plot_number)\n",
    "    \n",
    "    train_pred = clf.predict(train_feature_two);\n",
    "    test_pred = clf.predict(test_feature_two);\n",
    "    train_accuracy = np.mean(train_pred == train_target_two)*100;\n",
    "    test_accuracy = np.mean(test_pred == test_target_two)*100;\n",
    "    print (\"Train_accuracy\", train_accuracy);\n",
    "    print (\"Test_accuracy\", test_accuracy);\n",
    "\n",
    "    # Visualization of the result\n",
    "    for n, color in enumerate('rg'):\n",
    "        visual_test = test_feature_two[test_pred == n];\n",
    "        print visual_test.shape;\n",
    "        plt.plot(visual_test[:,0], visual_test[:,1], 'o', color=color);      \n",
    "    \n",
    "    plt.xticks(());\n",
    "    plt.yticks(());\n",
    "    plt.title(name);\n",
    "     "
   ]
  },
  {
   "cell_type": "code",
   "execution_count": 22,
   "metadata": {
    "collapsed": false
   },
   "outputs": [
    {
     "name": "stdout",
     "output_type": "stream",
     "text": [
      "sklearn.cross_validation.KFold(n=400, n_folds=5, shuffle=True, random_state=None)\n",
      "('spherical', GMM(covariance_type='spherical', init_params='wc', min_covar=0.001,\n",
      "  n_components=1, n_init=1, n_iter=20, params='wmc', random_state=None,\n",
      "  thresh=None, tol=0.001, verbose=0))\n",
      "[  -0.74671763   32.7361275    13.07842383   15.67976143    4.59845768\n",
      "   39.86390511   15.9382599   -33.99316217  -39.16184667   38.34013653\n",
      "   38.30593258   27.386919    -54.39076424   28.30354685   32.48184647\n",
      "   41.0419895    37.42330529   40.32600025   42.90059755   42.97475109\n",
      "   41.34555612   42.67536947   17.25334691   42.24317155   42.37910473\n",
      "   42.36747419 -133.62230982   42.48480258   41.32095048   41.44978904\n",
      "   41.17567578   40.6312685    22.64453725   41.78607257   41.75280163\n",
      "   41.80054478   41.70790856   41.39802681   37.14859651   39.00375016\n",
      "   40.98512361   40.34924725   37.76169022   -3.86184934   36.86400228\n",
      "   39.92077378   28.82145011   36.10820548   40.25583883   31.15732968\n",
      "   36.71067305   37.82845594   37.10938914   39.6443358    33.02860489\n",
      "   36.86002716   36.89073247   40.01532241   38.7805271    38.45304627\n",
      "   39.15968476   39.28738107   38.24271096   38.86500974   38.12157081\n",
      "   36.42692875   38.45697098   39.19502713   39.43798162   36.34953593\n",
      "   30.98531612   38.39435405   40.75648519   34.61169071   36.85851919\n",
      "   29.77321303   29.96977361   33.52684407   34.96920341   36.01144805] [ 36.9224672   34.40117676 -65.11195811   6.59583298  22.54288231\n",
      "  26.77162989 -25.51226     24.14460308  39.05161408  28.45706988]\n",
      "Mean value:  30.0639560374 12.8263058076\n",
      "('diag', GMM(covariance_type='diag', init_params='wc', min_covar=0.001, n_components=1,\n",
      "  n_init=1, n_iter=20, params='wmc', random_state=None, thresh=None,\n",
      "  tol=0.001, verbose=0))\n",
      "[ 16.34750013  40.49612382  13.60181692  43.35947351  37.8554147\n",
      "  49.93685806  39.03562219  33.96369776  34.43973529  52.37095148\n",
      "  43.74757457  47.71604108  33.61759627  49.90917637  50.49772693\n",
      "  53.67479396  53.10331288  52.74666497  53.66244048  54.16315825\n",
      "  53.26638485  53.30955074  47.09431724  53.7631478   51.71189459\n",
      "  53.63182637   5.58247675  52.81265628  53.3598284   51.93528369\n",
      "  52.18860182  50.6346948   45.45006649  53.35938847  52.49891055\n",
      "  53.18286426  53.13157078  53.30510196  50.84234629  51.33567077\n",
      "  53.20815604  52.11462652  53.08312972  23.02761833  48.91364378\n",
      "  50.97754549  48.90154347  51.71162594  51.96888885  50.45761182\n",
      "  51.34640225  50.91755108  51.4704254   51.31742995  48.29327434\n",
      "  50.93837796  43.98384123  52.23553185  50.95168423  52.02936518\n",
      "  51.36555623  52.57881345  51.62469477  51.39504308  46.40313347\n",
      "  51.37247073  51.97382613  47.76621869  44.02666473  43.67561408\n",
      "  40.35389812  47.85980405  47.11665423  45.81008056  46.14231613\n",
      "  41.25908247  42.56244823  35.62320786  43.64889312  50.97487211] [ 42.50574488  42.73050951 -82.68617213   7.81236415  32.68359099\n",
      "  43.87590889  33.78191654  44.4253964   45.78228604  43.67553689]\n",
      "Mean value:  47.1002978529 25.4587082177\n",
      "('full', GMM(covariance_type='full', init_params='wc', min_covar=0.001, n_components=1,\n",
      "  n_init=1, n_iter=20, params='wmc', random_state=None, thresh=None,\n",
      "  tol=0.001, verbose=0))\n",
      "[ 44.64165051  53.2356144   41.51503293  59.58093817  54.771055\n",
      "  60.32210514  57.20284353  51.50289809  51.82366193  61.38394078\n",
      "  56.70434121  59.54690584  47.60430715  59.95034799  61.05031931\n",
      "  62.45348772  61.99998489  61.50037436  62.39501221  63.03008402\n",
      "  61.7109371   62.44484517  57.46284112  62.12178076  61.74993298\n",
      "  62.452127    23.10951625  62.39161698  62.54065222  60.24155908\n",
      "  61.6868397   59.52468812  54.90887513  62.66275649  62.22897122\n",
      "  61.97933577  62.36771301  62.15017336  61.91488791  61.35995404\n",
      "  62.30323996  61.85378563  62.22261898  27.10804698  60.63896778\n",
      "  59.69446209  57.66956076  61.4441201   61.72628232  59.06577675\n",
      "  61.08558757  61.94393743  60.39368018  60.55257624  60.3804125\n",
      "  62.33400376  55.47987406  62.09214062  60.86549885  62.41925562\n",
      "  61.3252469   62.61719367  61.92438887  61.29732965  56.90546132\n",
      "  62.22501051  61.82997691  59.00290686  57.06921066  55.39108417\n",
      "  53.81972995  59.03172005  57.85627281  57.70595266  58.46317204\n",
      "  54.16936821  56.20927727  52.07316669  55.65316759  59.5931866 ] [ 55.67747363  55.56768318 -18.38180193  25.45388047  42.32464282\n",
      "  53.88856153  40.64666489  53.77313565  55.96341778  54.68820511]\n",
      "Mean value:  58.3082695024 41.9601863131\n",
      "('tied', GMM(covariance_type='tied', init_params='wc', min_covar=0.001, n_components=1,\n",
      "  n_init=1, n_iter=20, params='wmc', random_state=None, thresh=None,\n",
      "  tol=0.001, verbose=0))\n",
      "[ 44.64165051  53.2356144   41.51503293  59.58093817  54.771055\n",
      "  60.32210514  57.20284353  51.50289809  51.82366193  61.38394078\n",
      "  56.70434121  59.54690584  47.60430715  59.95034799  61.05031931\n",
      "  62.45348772  61.99998489  61.50037436  62.39501221  63.03008402\n",
      "  61.7109371   62.44484517  57.46284112  62.12178076  61.74993298\n",
      "  62.452127    23.10951625  62.39161698  62.54065222  60.24155908\n",
      "  61.6868397   59.52468812  54.90887513  62.66275649  62.22897122\n",
      "  61.97933577  62.36771301  62.15017336  61.91488791  61.35995404\n",
      "  62.30323996  61.85378563  62.22261898  27.10804698  60.63896778\n",
      "  59.69446209  57.66956076  61.4441201   61.72628232  59.06577675\n",
      "  61.08558757  61.94393743  60.39368018  60.55257624  60.3804125\n",
      "  62.33400376  55.47987406  62.09214062  60.86549885  62.41925562\n",
      "  61.3252469   62.61719367  61.92438887  61.29732965  56.90546132\n",
      "  62.22501051  61.82997691  59.00290686  57.06921066  55.39108417\n",
      "  53.81972995  59.03172005  57.85627281  57.70595266  58.46317204\n",
      "  54.16936821  56.20927727  52.07316669  55.65316759  59.5931866 ] [ 55.67747363  55.56768318 -18.38180193  25.45388047  42.32464282\n",
      "  53.88856153  40.64666489  53.77313565  55.96341778  54.68820511]\n",
      "Mean value:  58.3082695024 41.9601863131\n"
     ]
    }
   ],
   "source": [
    "import random\n",
    "\n",
    "# The data only comes from the first user\n",
    "train_target_user, train_feature_user, test_target_user, test_feature_user = pre_process(data_user[0], 5, True);\n",
    "\n",
    "profiles = dict((covar_type, GMM(n_components=1, covariance_type=covar_type, init_params='wc', n_iter=20)) \n",
    "                   for covar_type in ['spherical', 'diag', 'tied', 'full']);\n",
    "\n",
    "imposter_targe = np.array([train_target[random.randrange(400,len(train_target),13)] for i in range(10)]); \n",
    "imposter_feature = np.array([train_feature[random.randrange(400,len(train_feature),13)] for i in range(10)]); \n",
    "\n",
    "    \n",
    "for index, (name, model) in enumerate(profiles.items()):\n",
    "    \n",
    "    print (name, model);\n",
    "    # prf.means_ = np.array(train_feature_user.mean(axis=0));\n",
    "    model.fit(train_feature_user);\n",
    "    \n",
    "    # I want to get the probability of every user who belong to this cluster under the current model\n",
    "    score_genuine = model.score(test_feature_user);\n",
    "    score_imposter = model.score(imposter_feature);\n",
    "    \n",
    "    print score_genuine, score_imposter;\n",
    "    print \"Mean value: \", score_genuine.mean(), score_imposter.mean();\n",
    "\n",
    "    "
   ]
  },
  {
   "cell_type": "code",
   "execution_count": null,
   "metadata": {
    "collapsed": false
   },
   "outputs": [],
   "source": [
    "# plt.figure(figsize=(3 * 4 / 2, 6));\n",
    "\n",
    "plt.subplots_adjust(bottom=.01, top=0.95, hspace=.15, wspace=.05, left=.01, right=.99);\n",
    "\n",
    "plt.subplot(121);\n",
    "plt.plot([1,2,3,4,5], [1,4,9,16,25], [9,10,11,12,13], 'x');\n",
    "# plt.plot([1, 2, 3], 'x', color = 'red');\n",
    "plt.xticks(range(12), rotation=17);\n",
    "# plt.xticks(range(5), ('Tom', 'Dick', 'Harry', 'Sally', 'Sue'));\n",
    "plt.subplot(122);\n",
    "# plt.scatter([1,2], 'o');"
   ]
  },
  {
   "cell_type": "code",
   "execution_count": null,
   "metadata": {
    "collapsed": false
   },
   "outputs": [],
   "source": [
    "from sklearn.mixture import GMM\n",
    "\n",
    "gmm = GMM(n_components=n_classes, covariance_type='spherical', init_params='wc', n_iter=20);\n",
    "gmm.means_ = np.array([train_data[train_target == user].mean(axis=0) for user in subjects]);\n",
    "gmm.fit(train_data);\n"
   ]
  },
  {
   "cell_type": "code",
   "execution_count": null,
   "metadata": {
    "collapsed": false
   },
   "outputs": [],
   "source": [
    "print gmm.predict(test_data[3000:3020]);\n",
    "print test_target[3000:3020];"
   ]
  },
  {
   "cell_type": "markdown",
   "metadata": {},
   "source": []
  }
 ],
 "metadata": {
  "anaconda-cloud": {
   "environment": null,
   "summary": "MyCode",
   "url": "https://anaconda.org/pysherlock/demo"
  },
  "kernelspec": {
   "display_name": "Python [Root]",
   "language": "python",
   "name": "Python [Root]"
  },
  "language_info": {
   "codemirror_mode": {
    "name": "ipython",
    "version": 2
   },
   "file_extension": ".py",
   "mimetype": "text/x-python",
   "name": "python",
   "nbconvert_exporter": "python",
   "pygments_lexer": "ipython2",
   "version": "2.7.12"
  }
 },
 "nbformat": 4,
 "nbformat_minor": 0
}

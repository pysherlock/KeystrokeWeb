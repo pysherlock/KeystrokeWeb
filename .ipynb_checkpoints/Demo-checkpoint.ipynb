{
 "cells": [
  {
   "cell_type": "markdown",
   "metadata": {},
   "source": [
    "# <center>Read Keystroke Data and Build Model to Process</center>"
   ]
  },
  {
   "cell_type": "code",
   "execution_count": 36,
   "metadata": {
    "collapsed": false
   },
   "outputs": [
    {
     "name": "stdout",
     "output_type": "stream",
     "text": [
      "Dataset/Kevin and Maxion/DSL-StrongPasswordData.csv\n"
     ]
    }
   ],
   "source": [
    "import os\n",
    "%matplotlib inline\n",
    "import matplotlib.pyplot as plt\n",
    "import pandas as pd\n",
    "import numpy as np\n",
    "from sklearn import svm\n",
    "import sklearn.cross_validation\n",
    "\n",
    "input_path = \"Dataset/Kevin and Maxion/DSL-StrongPasswordData.csv\"\n",
    "print input_path;"
   ]
  },
  {
   "cell_type": "markdown",
   "metadata": {},
   "source": [
    "## Import Raw Data and Extract Features. Pre-process the data \n",
    "\n",
    "### Dataset (The CMU keystroke dynamics dataset)\n",
    "\n",
    "* The CMU benchmark dataset contains keystroke dynamics consisting of the dwell time for each key and the latencies between two successive keys for static password string “.tie5Roanl”.\n",
    "* For each subject, there were data collection sessions with at least one day apart between two sessions. 50 repeated keystroke strings were collected in each session, resulting in a total 400 sample for each subject.\n",
    "* For each typed 10-letter password and the final enter key, the dwell time and diagraphs give rise to a 31 dimensional feature vector.\n",
    "\n",
    "Although the keystroke features provide sufficiently distinguishing patterns for each subject, they are highly correlated, with large scale variations, and typical of noise and outliers. Someone has previously proposed a new distance metric to effectively handle these challenges that are intrinsic to keystroke dynamics data."
   ]
  },
  {
   "cell_type": "code",
   "execution_count": 100,
   "metadata": {
    "collapsed": false
   },
   "outputs": [
    {
     "name": "stdout",
     "output_type": "stream",
     "text": [
      "<type 'str'>\n",
      "subject,sessionIndex,rep,H.period,DD.period.t,UD.period.t,H.t,DD.t.i,UD.t.i,H.i,DD.i.e,UD.i.e,H.e,DD.e.five,UD.e.five,H.five,DD.five.Shift.r,UD.five.Shift.r,H.Shift.r,DD.Shift.r.o,UD.Shift.r.o,H.o,DD.o.a,UD.o.a,H.a,DD.a.n,UD.a.n,H.n,DD.n.l,UD.n.l,H.l,DD.l.Return,UD.l.Return,H.Return\n",
      "[['0' '1' '1' ..., '0.3509' '0.2171' '0.0742']\n",
      " ['0' '1' '2' ..., '0.2756' '0.1917' '0.0747']\n",
      " ['0' '1' '3' ..., '0.2847' '0.1762' '0.0945']\n",
      " ..., \n",
      " ['50' '8' '48' ..., '0.2017' '0.0983' '0.0905']\n",
      " ['50' '8' '49' ..., '0.1917' '0.0938' '0.0931']\n",
      " ['50' '8' '50' ..., '0.1993' '0.1186' '0.1018']]\n",
      "<type 'numpy.ndarray'>\n",
      "(20400L, 34L)\n"
     ]
    }
   ],
   "source": [
    "file = open(input_path, \"r\");\n",
    "\n",
    "raw_data = file.read();\n",
    "print type(raw_data);\n",
    "\n",
    "data_lines = np.array(raw_data.splitlines());\n",
    "print data_lines[0];\n",
    "\n",
    "data = np.array([ x.split(\",\") for x in data_lines]);\n",
    "data = np.delete(data, 0, 0);\n",
    "\n",
    "for i in range(len(data)):\n",
    "    data[i][0] = i/400;\n",
    "\n",
    "    \n",
    "data_four = data[0:4*400];\n",
    "data_two = data[0:2*400];\n",
    "print data;\n",
    "print type(data);\n",
    "print data.shape;"
   ]
  },
  {
   "cell_type": "markdown",
   "metadata": {},
   "source": [
    "### Build train dataset and test dataset"
   ]
  },
  {
   "cell_type": "code",
   "execution_count": 115,
   "metadata": {
    "collapsed": false
   },
   "outputs": [
    {
     "name": "stdout",
     "output_type": "stream",
     "text": [
      "sklearn.cross_validation.KFold(n=20400, n_folds=5, shuffle=True, random_state=None)\n",
      "sklearn.cross_validation.KFold(n=1600, n_folds=5, shuffle=True, random_state=None)\n",
      "sklearn.cross_validation.KFold(n=800, n_folds=5, shuffle=True, random_state=None)\n",
      "(16320L, 34L)\n",
      "(4080L, 34L)\n",
      "[ 0.  0.  0. ...,  3.  3.  3.]\n",
      "[  0.   1.   2.   3.   4.   5.   6.   7.   8.   9.  10.  11.  12.  13.  14.\n",
      "  15.  16.  17.  18.  19.  20.  21.  22.  23.  24.  25.  26.  27.  28.  29.\n",
      "  30.  31.  32.  33.  34.  35.  36.  37.  38.  39.  40.  41.  42.  43.  44.\n",
      "  45.  46.  47.  48.  49.  50.]\n",
      "51\n"
     ]
    }
   ],
   "source": [
    "# split data to train_data and test_data for cross validation\n",
    "\n",
    "kf = sklearn.cross_validation.KFold(len(data), 5, True);\n",
    "print kf;\n",
    "\n",
    "for train_index, test_index in kf:\n",
    "    train, test = data[train_index], data[test_index];\n",
    "    \n",
    "kf_four = sklearn.cross_validation.KFold(len(data_four), 5, True);\n",
    "print kf_four;\n",
    "\n",
    "for train_index, test_index in kf_four:\n",
    "    train_four, test_four = data_four[train_index], data_four[test_index];\n",
    "      \n",
    "\n",
    "kf_two = sklearn.cross_validation.KFold(len(data_two), 5, True);\n",
    "print kf_two;\n",
    "\n",
    "for train_index, test_index in kf_two:\n",
    "    train_two, test_two = data_two[train_index], data_two[test_index];\n",
    "    \n",
    "print train.shape;\n",
    "print test.shape;\n",
    "\n",
    "##change features' value from string to numerical(float)\n",
    "train = train.astype(np.float);\n",
    "test = test.astype(np.float);\n",
    "train_four = train_four.astype(np.float);\n",
    "test_four = test_four.astype(np.float);\n",
    "train_two = train_two.astype(np.float);\n",
    "test_two = test_two.astype(np.float);\n",
    "\n",
    "\n",
    "train_target = train[:, 0:1].ravel();\n",
    "train_data = train[:, 3:];\n",
    "train_target_four = train_four[:, 0:1].ravel();\n",
    "train_data_four = train_four[:, 3:];\n",
    "train_target_two = train_two[:, 0:1].ravel();\n",
    "train_data_two = train_two[:, 3:];\n",
    "\n",
    "\n",
    "test_target = test[:, 0:1].ravel();\n",
    "test_data = test[:, 3:];\n",
    "test_target_four = test_four[:, 0:1].ravel();\n",
    "test_data_four = test_four[:, 3:];\n",
    "test_target_two = test_two[:, 0:1].ravel();\n",
    "test_data_two = test_two[:, 3:];\n",
    "\n",
    "print train_target_four\n",
    "\n",
    "subjects = np.unique(train_target);\n",
    "subjects_four = subjects[0:4];\n",
    "subjects_two = subjects[0:2];\n",
    "n_classes = len(subjects);\n",
    "n_classes_four = len(subjects_four);\n",
    "n_classes_two = len(subjects_two);\n",
    "print subjects;\n",
    "# print (np.unique(train_target), np.unique(test_target));\n",
    "print n_classes;"
   ]
  },
  {
   "cell_type": "markdown",
   "metadata": {},
   "source": [
    "### Train the SVM model to analyze data\n",
    "\n",
    "When training an SVM with the Radial Basis Function (RBF) kernel, two parameters must be considered: C and gamma. \n",
    "* The parameter C, common to all SVM kernels, trades off misclassification of training examples against simplicity of the decision surface. A low C makes the decision surface smooth, while a high C aims at classifying all training examples correctly.\n",
    "* gamma defines how much influence a single training example has. The larger gamma is, the closer other examples must be to be affected.\n",
    "* Proper choice of C and gamma is critical to the SVM’s performance. One is advised to use sklearn.grid_search.GridSearchCV with C and gamma spaced exponentially far apart to choose good values."
   ]
  },
  {
   "cell_type": "code",
   "execution_count": 119,
   "metadata": {
    "collapsed": false
   },
   "outputs": [
    {
     "name": "stdout",
     "output_type": "stream",
     "text": [
      "(SVC(C=300.0, cache_size=200, class_weight=None, coef0=0.0,\n",
      "  decision_function_shape=None, degree=3, gamma=1, kernel='rbf',\n",
      "  max_iter=-1, probability=False, random_state=None, shrinking=True,\n",
      "  tol=0.001, verbose=False), SVC(C=300.0, cache_size=200, class_weight=None, coef0=0.0,\n",
      "  decision_function_shape='ovo', degree=3, gamma=1, kernel='rbf',\n",
      "  max_iter=-1, probability=False, random_state=None, shrinking=True,\n",
      "  tol=0.001, verbose=False))\n",
      "(0.87132352941176472, 0.87132352941176472)\n",
      "(array([ 0.]), 0.0)\n",
      "(array([ 3.]), 0.0)\n",
      "(array([ 0.]), 0.0)\n",
      "(array([ 0.]), 0.0)\n",
      "(array([ 2.]), 0.0)\n",
      "(array([ 0.]), 0.0)\n",
      "(array([ 0.]), 0.0)\n",
      "(array([ 0.]), 0.0)\n",
      "(array([ 0.]), 0.0)\n",
      "(array([ 0.]), 0.0)\n",
      "(array([ 0.]), 0.0)\n",
      "(array([ 0.]), 0.0)\n",
      "(array([ 0.]), 0.0)\n",
      "(array([ 0.]), 0.0)\n",
      "(array([ 2.]), 0.0)\n",
      "(array([ 0.]), 0.0)\n",
      "(array([ 40.]), 0.0)\n",
      "(array([ 0.]), 0.0)\n",
      "(array([ 0.]), 0.0)\n",
      "(array([ 0.]), 0.0)\n"
     ]
    },
    {
     "name": "stderr",
     "output_type": "stream",
     "text": [
      "D:\\Anaconda2\\lib\\site-packages\\sklearn\\utils\\validation.py:386: DeprecationWarning: Passing 1d arrays as data is deprecated in 0.17 and willraise ValueError in 0.19. Reshape your data either using X.reshape(-1, 1) if your data has a single feature or X.reshape(1, -1) if it contains a single sample.\n",
      "  DeprecationWarning)\n",
      "D:\\Anaconda2\\lib\\site-packages\\sklearn\\utils\\validation.py:386: DeprecationWarning: Passing 1d arrays as data is deprecated in 0.17 and willraise ValueError in 0.19. Reshape your data either using X.reshape(-1, 1) if your data has a single feature or X.reshape(1, -1) if it contains a single sample.\n",
      "  DeprecationWarning)\n",
      "D:\\Anaconda2\\lib\\site-packages\\sklearn\\utils\\validation.py:386: DeprecationWarning: Passing 1d arrays as data is deprecated in 0.17 and willraise ValueError in 0.19. Reshape your data either using X.reshape(-1, 1) if your data has a single feature or X.reshape(1, -1) if it contains a single sample.\n",
      "  DeprecationWarning)\n",
      "D:\\Anaconda2\\lib\\site-packages\\sklearn\\utils\\validation.py:386: DeprecationWarning: Passing 1d arrays as data is deprecated in 0.17 and willraise ValueError in 0.19. Reshape your data either using X.reshape(-1, 1) if your data has a single feature or X.reshape(1, -1) if it contains a single sample.\n",
      "  DeprecationWarning)\n",
      "D:\\Anaconda2\\lib\\site-packages\\sklearn\\utils\\validation.py:386: DeprecationWarning: Passing 1d arrays as data is deprecated in 0.17 and willraise ValueError in 0.19. Reshape your data either using X.reshape(-1, 1) if your data has a single feature or X.reshape(1, -1) if it contains a single sample.\n",
      "  DeprecationWarning)\n",
      "D:\\Anaconda2\\lib\\site-packages\\sklearn\\utils\\validation.py:386: DeprecationWarning: Passing 1d arrays as data is deprecated in 0.17 and willraise ValueError in 0.19. Reshape your data either using X.reshape(-1, 1) if your data has a single feature or X.reshape(1, -1) if it contains a single sample.\n",
      "  DeprecationWarning)\n",
      "D:\\Anaconda2\\lib\\site-packages\\sklearn\\utils\\validation.py:386: DeprecationWarning: Passing 1d arrays as data is deprecated in 0.17 and willraise ValueError in 0.19. Reshape your data either using X.reshape(-1, 1) if your data has a single feature or X.reshape(1, -1) if it contains a single sample.\n",
      "  DeprecationWarning)\n",
      "D:\\Anaconda2\\lib\\site-packages\\sklearn\\utils\\validation.py:386: DeprecationWarning: Passing 1d arrays as data is deprecated in 0.17 and willraise ValueError in 0.19. Reshape your data either using X.reshape(-1, 1) if your data has a single feature or X.reshape(1, -1) if it contains a single sample.\n",
      "  DeprecationWarning)\n",
      "D:\\Anaconda2\\lib\\site-packages\\sklearn\\utils\\validation.py:386: DeprecationWarning: Passing 1d arrays as data is deprecated in 0.17 and willraise ValueError in 0.19. Reshape your data either using X.reshape(-1, 1) if your data has a single feature or X.reshape(1, -1) if it contains a single sample.\n",
      "  DeprecationWarning)\n",
      "D:\\Anaconda2\\lib\\site-packages\\sklearn\\utils\\validation.py:386: DeprecationWarning: Passing 1d arrays as data is deprecated in 0.17 and willraise ValueError in 0.19. Reshape your data either using X.reshape(-1, 1) if your data has a single feature or X.reshape(1, -1) if it contains a single sample.\n",
      "  DeprecationWarning)\n",
      "D:\\Anaconda2\\lib\\site-packages\\sklearn\\utils\\validation.py:386: DeprecationWarning: Passing 1d arrays as data is deprecated in 0.17 and willraise ValueError in 0.19. Reshape your data either using X.reshape(-1, 1) if your data has a single feature or X.reshape(1, -1) if it contains a single sample.\n",
      "  DeprecationWarning)\n",
      "D:\\Anaconda2\\lib\\site-packages\\sklearn\\utils\\validation.py:386: DeprecationWarning: Passing 1d arrays as data is deprecated in 0.17 and willraise ValueError in 0.19. Reshape your data either using X.reshape(-1, 1) if your data has a single feature or X.reshape(1, -1) if it contains a single sample.\n",
      "  DeprecationWarning)\n",
      "D:\\Anaconda2\\lib\\site-packages\\sklearn\\utils\\validation.py:386: DeprecationWarning: Passing 1d arrays as data is deprecated in 0.17 and willraise ValueError in 0.19. Reshape your data either using X.reshape(-1, 1) if your data has a single feature or X.reshape(1, -1) if it contains a single sample.\n",
      "  DeprecationWarning)\n",
      "D:\\Anaconda2\\lib\\site-packages\\sklearn\\utils\\validation.py:386: DeprecationWarning: Passing 1d arrays as data is deprecated in 0.17 and willraise ValueError in 0.19. Reshape your data either using X.reshape(-1, 1) if your data has a single feature or X.reshape(1, -1) if it contains a single sample.\n",
      "  DeprecationWarning)\n",
      "D:\\Anaconda2\\lib\\site-packages\\sklearn\\utils\\validation.py:386: DeprecationWarning: Passing 1d arrays as data is deprecated in 0.17 and willraise ValueError in 0.19. Reshape your data either using X.reshape(-1, 1) if your data has a single feature or X.reshape(1, -1) if it contains a single sample.\n",
      "  DeprecationWarning)\n",
      "D:\\Anaconda2\\lib\\site-packages\\sklearn\\utils\\validation.py:386: DeprecationWarning: Passing 1d arrays as data is deprecated in 0.17 and willraise ValueError in 0.19. Reshape your data either using X.reshape(-1, 1) if your data has a single feature or X.reshape(1, -1) if it contains a single sample.\n",
      "  DeprecationWarning)\n",
      "D:\\Anaconda2\\lib\\site-packages\\sklearn\\utils\\validation.py:386: DeprecationWarning: Passing 1d arrays as data is deprecated in 0.17 and willraise ValueError in 0.19. Reshape your data either using X.reshape(-1, 1) if your data has a single feature or X.reshape(1, -1) if it contains a single sample.\n",
      "  DeprecationWarning)\n",
      "D:\\Anaconda2\\lib\\site-packages\\sklearn\\utils\\validation.py:386: DeprecationWarning: Passing 1d arrays as data is deprecated in 0.17 and willraise ValueError in 0.19. Reshape your data either using X.reshape(-1, 1) if your data has a single feature or X.reshape(1, -1) if it contains a single sample.\n",
      "  DeprecationWarning)\n",
      "D:\\Anaconda2\\lib\\site-packages\\sklearn\\utils\\validation.py:386: DeprecationWarning: Passing 1d arrays as data is deprecated in 0.17 and willraise ValueError in 0.19. Reshape your data either using X.reshape(-1, 1) if your data has a single feature or X.reshape(1, -1) if it contains a single sample.\n",
      "  DeprecationWarning)\n",
      "D:\\Anaconda2\\lib\\site-packages\\sklearn\\utils\\validation.py:386: DeprecationWarning: Passing 1d arrays as data is deprecated in 0.17 and willraise ValueError in 0.19. Reshape your data either using X.reshape(-1, 1) if your data has a single feature or X.reshape(1, -1) if it contains a single sample.\n",
      "  DeprecationWarning)\n"
     ]
    }
   ],
   "source": [
    "clf = svm.SVC(gamma=1, C=300.);\n",
    "clf2 = svm.SVC(gamma=1, C=300., decision_function_shape='ovo');\n",
    "## for now, gamma = 1, C = 300 is my best combination of those two parameters in this model\n",
    "\n",
    "clf.fit(train_data, train_target);\n",
    "clf2.fit(train_data, train_target);\n",
    "# libsvm = svm.libsvm.fit(x, y);\n",
    "\n",
    "print (clf, clf2);\n",
    "print (clf.score(test_data, test_target), clf2.score(test_data, test_target));\n",
    "\n",
    "for i in range(20):\n",
    "    print (clf.predict(test_data[i]), test_target[i]);\n",
    "\n",
    "    "
   ]
  },
  {
   "cell_type": "markdown",
   "metadata": {
    "collapsed": true
   },
   "source": [
    "### Use Neutral Network to analyze \n",
    "* In scikit-learn, the neural network model is Restricted Boltzmann machines (RBM). The features extracted by an RBM or a hierarchy of RBMs often give good results when fed into a linear classifier such as a linear SVM or a perceptron. \n",
    "\n",
    "* A Restricted Boltzmann Machine with binary visible units and binary hiddens. Parameters are estimated using Stochastic Maximum Likelihood (SML), also known as Persistent Contrastive Divergence (PCD)\n",
    "\n",
    "* Two simple and easy search strategies for tuning parameter: Grid Search; Random Search"
   ]
  },
  {
   "cell_type": "code",
   "execution_count": 71,
   "metadata": {
    "collapsed": false
   },
   "outputs": [
    {
     "name": "stdout",
     "output_type": "stream",
     "text": [
      "[ 1.5  3.5  nan  5.   nan]\n"
     ]
    },
    {
     "name": "stderr",
     "output_type": "stream",
     "text": [
      "D:\\Anaconda2\\lib\\site-packages\\numpy\\core\\_methods.py:59: RuntimeWarning: Mean of empty slice.\n",
      "  warnings.warn(\"Mean of empty slice.\", RuntimeWarning)\n"
     ]
    }
   ],
   "source": [
    "# from sklearn.neural_network import BernoulliRBM\n",
    "# from sklearn.cross_validation import train_test_split\n",
    "\n",
    "# a = np.array([train_data[train_target == user] for user in subjects]);\n",
    "# print a[0:5];\n",
    "# print len(a[0]);\n",
    "\n",
    "\n",
    "d = np.array([1, 2, 3, 4, 5]);\n",
    "b = np.array(['1', '1', '2', '2', '4']);\n",
    "c = np.array(['1', '2', '3', '4', '5']);\n",
    "print np.array([d[b == x].mean() for x in c]);"
   ]
  },
  {
   "cell_type": "markdown",
   "metadata": {},
   "source": [
    "### Gaussian Mixture Models with Universal Background Model\n",
    "* A Gaussian mixture model is a probabilistic model that assumes all the data points are generated from a mixture of a finite number of Gaussian distributions wih unknown parameters. (Gaussian Distribution = Normal Distribution)\n",
    "* The GMM object implements the EM algorithm for fitting mixture-of-Gaussian models. \n",
    "* GMM.fit method learns a Gaussian Mixture Model from train data. Gmm.predict method can assign each sample of test data to the Gaussian class which it mostly probably belong to.\n",
    "* The GMM has different options to constrain the covariance: spherical, diagonal, tied or full covariance. Since we have class labels for the training data, we can initialize the GMM parameters in a supervised manner."
   ]
  },
  {
   "cell_type": "code",
   "execution_count": 39,
   "metadata": {
    "collapsed": true
   },
   "outputs": [],
   "source": [
    "## Draw the ellipses of the clusters\n",
    "def make_ellipses(gmm, ax):\n",
    "    for n, color in enumerate('rgb'):\n",
    "        v, w = np.linalg.eigh(gmm._get_covars()[n][:2, :2])\n",
    "        u = w[0] / np.linalg.norm(w[0])\n",
    "        angle = np.arctan2(u[1], u[0])\n",
    "        angle = 180 * angle / np.pi  # convert to degrees\n",
    "        v *= 9\n",
    "        ell = mpl.patches.Ellipse(gmm.means_[n, :2], v[0], v[1],\n",
    "                                  180 + angle, color=color)\n",
    "        ell.set_clip_box(ax.bbox)\n",
    "        ell.set_alpha(0.5)\n",
    "        ax.add_artist(ell)\n",
    "        "
   ]
  },
  {
   "cell_type": "code",
   "execution_count": 118,
   "metadata": {
    "collapsed": false
   },
   "outputs": [
    {
     "name": "stdout",
     "output_type": "stream",
     "text": [
      "('spherical', GMM(covariance_type='spherical', init_params='wc', min_covar=0.001,\n",
      "  n_components=2, n_init=1, n_iter=20, params='wmc', random_state=None,\n",
      "  thresh=None, tol=0.001, verbose=0))\n",
      "(65L, 31L)\n",
      "(95L, 31L)\n",
      "('Train_accuracy', 59.843749999999993)\n",
      "('Test_accuracy', 63.125)\n",
      "('diag', GMM(covariance_type='diag', init_params='wc', min_covar=0.001, n_components=2,\n",
      "  n_init=1, n_iter=20, params='wmc', random_state=None, thresh=None,\n",
      "  tol=0.001, verbose=0))\n",
      "(65L, 31L)\n",
      "(95L, 31L)\n",
      "('Train_accuracy', 88.59375)\n",
      "('Test_accuracy', 87.5)\n",
      "('full', GMM(covariance_type='full', init_params='wc', min_covar=0.001, n_components=2,\n",
      "  n_init=1, n_iter=20, params='wmc', random_state=None, thresh=None,\n",
      "  tol=0.001, verbose=0))\n",
      "(65L, 31L)\n",
      "(95L, 31L)\n",
      "('Train_accuracy', 78.75)\n",
      "('Test_accuracy', 69.375)\n",
      "('tied', GMM(covariance_type='tied', init_params='wc', min_covar=0.001, n_components=2,\n",
      "  n_init=1, n_iter=20, params='wmc', random_state=None, thresh=None,\n",
      "  tol=0.001, verbose=0))\n",
      "(65L, 31L)\n",
      "(95L, 31L)\n",
      "('Train_accuracy', 90.78125)\n",
      "('Test_accuracy', 91.25)\n"
     ]
    },
    {
     "data": {
      "image/png": "[encoded data removed]",
      "text/plain": [
       "<matplotlib.figure.Figure at 0x106de9b0>"
      ]
     },
     "metadata": {},
     "output_type": "display_data"
    }
   ],
   "source": [
    "from sklearn.mixture import GMM\n",
    "from sklearn.cross_validation import StratifiedKFold\n",
    "\n",
    "#Try GMMs with different types of covariances\n",
    "# classifiers = dict((covar_type, GMM(n_components=n_classes_four, covariance_type=covar_type, init_params='wc', n_iter=20)) \n",
    "#                    for covar_type in ['spherical', 'diag', 'tied', 'full']);\n",
    "# classifiers = dict((covar_type, GMM(n_components=n_classes, covariance_type=covar_type, init_params='wc', n_iter=20)) \n",
    "#                    for covar_type in ['spherical', 'diag', 'tied', 'full']);\n",
    "classifiers = dict((covar_type, GMM(n_components=n_classes_two, covariance_type=covar_type, init_params='wc', n_iter=20)) \n",
    "                   for covar_type in ['spherical', 'diag', 'tied', 'full']);\n",
    "\n",
    "n_classifiers = len(classifiers);\n",
    "\n",
    "plt.figure(figsize=(3 * n_classifiers / 2, 6));\n",
    "plt.subplots_adjust(bottom=.01, top=0.95, hspace=.15, wspace=.05, left=.01, right=.99);\n",
    "\n",
    "for index, (name, clf) in enumerate(classifiers.items()):\n",
    "    # Since we have class labels for the training data, \n",
    "    # we can initialize the GMM parameters in a supervised manner.\n",
    "    print (name, clf);\n",
    "    \n",
    "    clf.means_ = np.array([train_data_two[train_target_two == user].mean(axis=0) for user in subjects_two]);\n",
    "#     print clf.means_.shape;\n",
    "    # means_ : array, shape (n_components, n_features) Mean parameters for each mixture component.\n",
    "    # axis : Axis or axes along which the means are computed. The default is to compute the mean of the flattened array. \n",
    "    # If this is a tuple of ints, a mean is performed over multiple axes, instead of a single axis or all the axes as before.\n",
    "    # Compute the mean of features of every user seperately\n",
    "    \n",
    "    # Train the other parameters using the EM algorithm\n",
    "    clf.fit(train_data_two);\n",
    "    \n",
    "    h = plt.subplot(2, n_classifiers/2, index+1); #subplot(nrows, ncols, plot_number)\n",
    "    \n",
    "    # Visualization of the result\n",
    "    for n, color in enumerate('rg'):\n",
    "#         visual_test = test_data[test_target == n+1];\n",
    "        visual_test = test_data_two[test_target_two == n];\n",
    "        print visual_test.shape;\n",
    "        plt.plot(visual_test[:,0], visual_test[:,1], 'x', color=color);\n",
    "        \n",
    "        \n",
    "#     # Plot the test data with crosses\n",
    "#     for n, color in enumerate('rgb'):\n",
    "        \n",
    "    train_pred = clf.predict(train_data_two);\n",
    "    test_pred = clf.predict(test_data_two);\n",
    "    train_accuracy = np.mean(train_pred == train_target_two)*100;\n",
    "    test_accuracy = np.mean(test_pred == test_target_two)*100;\n",
    "    print (\"Train_accuracy\", train_accuracy);\n",
    "    print (\"Test_accuracy\", test_accuracy)\n",
    "    \n",
    "    plt.xticks(());\n",
    "    plt.yticks(());\n",
    "    plt.title(name);\n",
    "     "
   ]
  },
  {
   "cell_type": "code",
   "execution_count": 93,
   "metadata": {
    "collapsed": false
   },
   "outputs": [
    {
     "name": "stdout",
     "output_type": "stream",
     "text": [
      "(111L, 4L)\n"
     ]
    },
    {
     "data": {
      "image/png": "[encoded data removed]",
      "text/plain": [
       "<matplotlib.figure.Figure at 0xe21dc50>"
      ]
     },
     "metadata": {},
     "output_type": "display_data"
    }
   ],
   "source": [
    "import matplotlib.pyplot as plt\n",
    "import matplotlib as mpl\n",
    "import numpy as np\n",
    "\n",
    "from sklearn import datasets\n",
    "from sklearn.cross_validation import StratifiedKFold\n",
    "from sklearn.externals.six.moves import xrange\n",
    "from sklearn.mixture import GMM\n",
    "\n",
    "\n",
    "def make_ellipses(gmm, ax):\n",
    "    for n, color in enumerate('rgb'):\n",
    "        v, w = np.linalg.eigh(gmm._get_covars()[n][:2, :2])\n",
    "        u = w[0] / np.linalg.norm(w[0])\n",
    "        angle = np.arctan2(u[1], u[0])\n",
    "        angle = 180 * angle / np.pi  # convert to degrees\n",
    "        v *= 9\n",
    "        ell = mpl.patches.Ellipse(gmm.means_[n, :2], v[0], v[1],\n",
    "                                  180 + angle, color=color)\n",
    "        ell.set_clip_box(ax.bbox)\n",
    "        ell.set_alpha(0.5)\n",
    "        ax.add_artist(ell)\n",
    "\n",
    "iris = datasets.load_iris()\n",
    "\n",
    "# Break up the dataset into non-overlapping training (75%) and testing\n",
    "# (25%) sets.\n",
    "skf = StratifiedKFold(iris.target, n_folds=4)\n",
    "# Only take the first fold.\n",
    "train_index, test_index = next(iter(skf))\n",
    "\n",
    "\n",
    "X_train = iris.data[train_index]\n",
    "y_train = iris.target[train_index]\n",
    "X_test = iris.data[test_index]\n",
    "y_test = iris.target[test_index]\n",
    "\n",
    "print X_train.shape\n",
    "\n",
    "n_classes = len(np.unique(y_train))\n",
    "\n",
    "# Try GMMs using different types of covariances.\n",
    "classifiers = dict((covar_type, GMM(n_components=n_classes,\n",
    "                    covariance_type=covar_type, init_params='wc', n_iter=20))\n",
    "                   for covar_type in ['spherical', 'diag', 'tied', 'full'])\n",
    "\n",
    "n_classifiers = len(classifiers)\n",
    "\n",
    "plt.figure(figsize=(3 * n_classifiers / 2, 6))\n",
    "plt.subplots_adjust(bottom=.01, top=0.95, hspace=.15, wspace=.05,\n",
    "                    left=.01, right=.99)\n",
    "\n",
    "\n",
    "for index, (name, classifier) in enumerate(classifiers.items()):\n",
    "    # Since we have class labels for the training data, we can\n",
    "    # initialize the GMM parameters in a supervised manner.\n",
    "    classifier.means_ = np.array([X_train[y_train == i].mean(axis=0)\n",
    "                                  for i in xrange(n_classes)])\n",
    "\n",
    "    # Train the other parameters using the EM algorithm.\n",
    "    classifier.fit(X_train)\n",
    "\n",
    "    h = plt.subplot(2, n_classifiers / 2, index + 1)\n",
    "    #make_ellipses(classifier, h)\n",
    "\n",
    "    for n, color in enumerate('rgb'):\n",
    "        data = iris.data[iris.target == n]\n",
    "        plt.scatter(data[:, 0], data[:, 1], 0.8, color=color,\n",
    "                    label=iris.target_names[n])\n",
    "    # Plot the test data with crosses\n",
    "    for n, color in enumerate('rgb'):\n",
    "        data = X_test[y_test == n]\n",
    "        plt.plot(data[:, 0], data[:, 1], 'x', color=color)\n",
    "\n",
    "    y_train_pred = classifier.predict(X_train)\n",
    "    train_accuracy = np.mean(y_train_pred.ravel() == y_train.ravel()) * 100\n",
    "    plt.text(0.05, 0.9, 'Train accuracy: %.1f' % train_accuracy,\n",
    "             transform=h.transAxes)\n",
    "\n",
    "    y_test_pred = classifier.predict(X_test)\n",
    "    test_accuracy = np.mean(y_test_pred.ravel() == y_test.ravel()) * 100\n",
    "    plt.text(0.05, 0.8, 'Test accuracy: %.1f' % test_accuracy,\n",
    "             transform=h.transAxes)\n",
    "\n",
    "    plt.xticks(())\n",
    "    plt.yticks(())\n",
    "    plt.title(name)\n",
    "\n",
    "plt.legend(loc='lower right', prop=dict(size=12))\n",
    "\n",
    "\n",
    "plt.show()"
   ]
  },
  {
   "cell_type": "code",
   "execution_count": 71,
   "metadata": {
    "collapsed": false
   },
   "outputs": [
    {
     "data": {
      "image/png": "[encoded data removed]",
      "text/plain": [
       "<matplotlib.figure.Figure at 0x10538908>"
      ]
     },
     "metadata": {},
     "output_type": "display_data"
    }
   ],
   "source": [
    "# plt.figure(figsize=(3 * 4 / 2, 6));\n",
    "\n",
    "plt.subplots_adjust(bottom=.01, top=0.95, hspace=.15, wspace=.05, left=.01, right=.99);\n",
    "\n",
    "plt.subplot(121);\n",
    "plt.plot([1, 2, 3],[1,2,3], 'x', color = 'red');\n",
    "plt.xticks(());\n",
    "# plt.xticks(range(5), ('Tom', 'Dick', 'Harry', 'Sally', 'Sue'));\n",
    "plt.subplot(122);"
   ]
  },
  {
   "cell_type": "code",
   "execution_count": 23,
   "metadata": {
    "collapsed": false
   },
   "outputs": [],
   "source": [
    "from sklearn.mixture import GMM\n",
    "\n",
    "gmm = GMM(n_components=n_classes, covariance_type='spherical', init_params='wc', n_iter=20);\n",
    "gmm.means_ = np.array([train_data[train_target == user].mean(axis=0) for user in subjects]);\n",
    "gmm.fit(train_data);\n"
   ]
  },
  {
   "cell_type": "code",
   "execution_count": 24,
   "metadata": {
    "collapsed": false
   },
   "outputs": [
    {
     "name": "stdout",
     "output_type": "stream",
     "text": [
      "[25 25 25 25 25 25 25 25 25 25 35 25 25 25 25 25 25 22 35 25]\n",
      "[38 38 38 38 38 38 38 38 38 38 38 38 38 38 38 38 38 38 38 38]\n"
     ]
    }
   ],
   "source": [
    "print gmm.predict(test_data[3000:3020]);\n",
    "print test_target[3000:3020];"
   ]
  },
  {
   "cell_type": "markdown",
   "metadata": {},
   "source": []
  }
 ],
 "metadata": {
  "anaconda-cloud": {
   "environment": null,
   "summary": "MyCode",
   "url": "https://anaconda.org/pysherlock/demo"
  },
  "kernelspec": {
   "display_name": "Python [Root]",
   "language": "python",
   "name": "Python [Root]"
  },
  "language_info": {
   "codemirror_mode": {
    "name": "ipython",
    "version": 2
   },
   "file_extension": ".py",
   "mimetype": "text/x-python",
   "name": "python",
   "nbconvert_exporter": "python",
   "pygments_lexer": "ipython2",
   "version": "2.7.12"
  }
 },
 "nbformat": 4,
 "nbformat_minor": 0
}

{
 "cells": [
  {
   "cell_type": "markdown",
   "metadata": {},
   "source": [
    "# Read Keystroke Data and Build Model to Process "
   ]
  },
  {
   "cell_type": "markdown",
   "metadata": {},
   "source": []
  },
  {
   "cell_type": "code",
   "execution_count": 24,
   "metadata": {
    "collapsed": false
   },
   "outputs": [
    {
     "name": "stdout",
     "output_type": "stream",
     "text": [
      "Dataset/Kevin and Maxion/DSL-StrongPasswordData.csv\n"
     ]
    }
   ],
   "source": [
    "import os\n",
    "%matplotlib inline\n",
    "import matplotlib.pyplot as plt\n",
    "import pandas as pd\n",
    "import numpy as np\n",
    "from sklearn import svm\n",
    "from sklearn import datasets\n",
    "\n",
    "input_path = \"Dataset/Kevin and Maxion/DSL-StrongPasswordData.csv\"\n",
    "print input_path;"
   ]
  },
  {
   "cell_type": "markdown",
   "metadata": {},
   "source": [
    "Import Data and Extract Features"
   ]
  },
  {
   "cell_type": "code",
   "execution_count": 78,
   "metadata": {
    "collapsed": false
   },
   "outputs": [
    {
     "name": "stdout",
     "output_type": "stream",
     "text": [
      "<type 'str'>\n",
      "subject,sessionIndex,rep,H.period,DD.period.t,UD.period.t,H.t,DD.t.i,UD.t.i,H.i,DD.i.e,UD.i.e,H.e,DD.e.five,UD.e.five,H.five,DD.five.Shift.r,UD.five.Shift.r,H.Shift.r,DD.Shift.r.o,UD.Shift.r.o,H.o,DD.o.a,UD.o.a,H.a,DD.a.n,UD.a.n,H.n,DD.n.l,UD.n.l,H.l,DD.l.Return,UD.l.Return,H.Return\n",
      "20401\n",
      "<type 'numpy.ndarray'>\n",
      "693634\n",
      "['s002' 's002' 's002' ..., 's057' 's057' 's057']\n",
      "[[ 0.1491  0.3979  0.2488 ...,  0.3509  0.2171  0.0742]\n",
      " [ 0.1111  0.3451  0.234  ...,  0.2756  0.1917  0.0747]\n",
      " [ 0.1328  0.2072  0.0744 ...,  0.2847  0.1762  0.0945]\n",
      " ..., \n",
      " [ 0.0939  0.1189  0.025  ...,  0.2017  0.0983  0.0905]\n",
      " [ 0.0923  0.1294  0.0371 ...,  0.1917  0.0938  0.0931]\n",
      " [ 0.0596  0.131   0.0714 ...,  0.1993  0.1186  0.1018]]\n"
     ]
    }
   ],
   "source": [
    "#!ls\n",
    "\n",
    "file = open(input_path, \"r\");\n",
    "\n",
    "raw_data = file.read();\n",
    "print type(raw_data);\n",
    "\n",
    "data_lines = np.array(raw_data.splitlines());\n",
    "print data_lines[0];\n",
    "\n",
    "print data_lines.size;\n",
    "\n",
    "data = np.array([ x.split(\",\") for x in data_lines]);\n",
    "print type(data);\n",
    "print data.size;\n",
    "\n",
    "subject = np.array([x[0] for x in data[1:, 0:1]]);\n",
    "print subject;\n",
    "\n",
    "## raw_features: all the features' value are string rather than numerical\n",
    "raw_features = data[1:, 3:];\n",
    "\n",
    "##change features from string to float\n",
    "features = np.array([np.array([float(y) for y in x]) for x in raw_features])\n",
    "print features;\n",
    "    "
   ]
  },
  {
   "cell_type": "code",
   "execution_count": 79,
   "metadata": {
    "collapsed": false
   },
   "outputs": [
    {
     "name": "stdout",
     "output_type": "stream",
     "text": [
      "SVC(C=1.0, cache_size=200, class_weight=None, coef0=0.0,\n",
      "  decision_function_shape=None, degree=3, gamma='auto', kernel='rbf',\n",
      "  max_iter=-1, probability=False, random_state=None, shrinking=True,\n",
      "  tol=0.001, verbose=False)\n",
      "SVC(C=1.0, cache_size=200, class_weight=None, coef0=0.0,\n",
      "  decision_function_shape='ovo', degree=3, gamma='auto', kernel='rbf',\n",
      "  max_iter=-1, probability=False, random_state=None, shrinking=True,\n",
      "  tol=0.001, verbose=False)\n",
      "[[ 0.1491  0.3979  0.2488 ...,  0.3509  0.2171  0.0742]\n",
      " [ 0.1111  0.3451  0.234  ...,  0.2756  0.1917  0.0747]\n",
      " [ 0.1328  0.2072  0.0744 ...,  0.2847  0.1762  0.0945]\n",
      " ..., \n",
      " [ 0.0834  0.1305  0.0471 ...,  0.1738  0.1075  0.0501]\n",
      " [ 0.0892  0.174   0.0848 ...,  0.1808  0.1035  0.0594]\n",
      " [ 0.0778  0.2104  0.1326 ...,  0.1849  0.0964  0.0741]]\n",
      "['s002' 's002' 's002' ..., 's051' 's051' 's051']\n"
     ]
    }
   ],
   "source": [
    "clf = svm.SVC();\n",
    "clf2 = svm.SVC(decision_function_shape='ovo');\n",
    "\n",
    "x = features[0:18000];\n",
    "y = subject[0:18000];\n",
    "clf.fit(x,y);\n",
    "clf2.fit(x,y);\n",
    "# libsvm = svm.libsvm.fit(x, y);\n",
    "\n",
    "print clf;\n",
    "print clf2;\n",
    "\n",
    "print x;\n",
    "print y;\n"
   ]
  },
  {
   "cell_type": "code",
   "execution_count": 80,
   "metadata": {
    "collapsed": false,
    "scrolled": true
   },
   "outputs": [
    {
     "name": "stdout",
     "output_type": "stream",
     "text": [
      "0.475055555556\n",
      "0.475055555556\n",
      "['s016']\n",
      "['s047']\n",
      "['s024']\n",
      "['s016']\n",
      "['s024']\n",
      "['s016']\n",
      "['s016']\n",
      "['s016']\n",
      "['s002']\n",
      "['s002']\n"
     ]
    },
    {
     "name": "stderr",
     "output_type": "stream",
     "text": [
      "D:\\Anaconda2\\lib\\site-packages\\sklearn\\utils\\validation.py:386: DeprecationWarning: Passing 1d arrays as data is deprecated in 0.17 and willraise ValueError in 0.19. Reshape your data either using X.reshape(-1, 1) if your data has a single feature or X.reshape(1, -1) if it contains a single sample.\n",
      "  DeprecationWarning)\n",
      "D:\\Anaconda2\\lib\\site-packages\\sklearn\\utils\\validation.py:386: DeprecationWarning: Passing 1d arrays as data is deprecated in 0.17 and willraise ValueError in 0.19. Reshape your data either using X.reshape(-1, 1) if your data has a single feature or X.reshape(1, -1) if it contains a single sample.\n",
      "  DeprecationWarning)\n",
      "D:\\Anaconda2\\lib\\site-packages\\sklearn\\utils\\validation.py:386: DeprecationWarning: Passing 1d arrays as data is deprecated in 0.17 and willraise ValueError in 0.19. Reshape your data either using X.reshape(-1, 1) if your data has a single feature or X.reshape(1, -1) if it contains a single sample.\n",
      "  DeprecationWarning)\n",
      "D:\\Anaconda2\\lib\\site-packages\\sklearn\\utils\\validation.py:386: DeprecationWarning: Passing 1d arrays as data is deprecated in 0.17 and willraise ValueError in 0.19. Reshape your data either using X.reshape(-1, 1) if your data has a single feature or X.reshape(1, -1) if it contains a single sample.\n",
      "  DeprecationWarning)\n",
      "D:\\Anaconda2\\lib\\site-packages\\sklearn\\utils\\validation.py:386: DeprecationWarning: Passing 1d arrays as data is deprecated in 0.17 and willraise ValueError in 0.19. Reshape your data either using X.reshape(-1, 1) if your data has a single feature or X.reshape(1, -1) if it contains a single sample.\n",
      "  DeprecationWarning)\n",
      "D:\\Anaconda2\\lib\\site-packages\\sklearn\\utils\\validation.py:386: DeprecationWarning: Passing 1d arrays as data is deprecated in 0.17 and willraise ValueError in 0.19. Reshape your data either using X.reshape(-1, 1) if your data has a single feature or X.reshape(1, -1) if it contains a single sample.\n",
      "  DeprecationWarning)\n",
      "D:\\Anaconda2\\lib\\site-packages\\sklearn\\utils\\validation.py:386: DeprecationWarning: Passing 1d arrays as data is deprecated in 0.17 and willraise ValueError in 0.19. Reshape your data either using X.reshape(-1, 1) if your data has a single feature or X.reshape(1, -1) if it contains a single sample.\n",
      "  DeprecationWarning)\n",
      "D:\\Anaconda2\\lib\\site-packages\\sklearn\\utils\\validation.py:386: DeprecationWarning: Passing 1d arrays as data is deprecated in 0.17 and willraise ValueError in 0.19. Reshape your data either using X.reshape(-1, 1) if your data has a single feature or X.reshape(1, -1) if it contains a single sample.\n",
      "  DeprecationWarning)\n",
      "D:\\Anaconda2\\lib\\site-packages\\sklearn\\utils\\validation.py:386: DeprecationWarning: Passing 1d arrays as data is deprecated in 0.17 and willraise ValueError in 0.19. Reshape your data either using X.reshape(-1, 1) if your data has a single feature or X.reshape(1, -1) if it contains a single sample.\n",
      "  DeprecationWarning)\n",
      "D:\\Anaconda2\\lib\\site-packages\\sklearn\\utils\\validation.py:386: DeprecationWarning: Passing 1d arrays as data is deprecated in 0.17 and willraise ValueError in 0.19. Reshape your data either using X.reshape(-1, 1) if your data has a single feature or X.reshape(1, -1) if it contains a single sample.\n",
      "  DeprecationWarning)\n"
     ]
    }
   ],
   "source": [
    "print clf.score(x, y);\n",
    "\n",
    "print clf2.score(x, y);\n",
    "\n",
    "# print svm.libsvm.cross_validation();\n",
    "# for i in range(10):\n",
    "#     print clf.predict(features[i]);\n",
    "\n",
    "# print \"\\n\";\n",
    "\n",
    "for i in range(10):\n",
    "    print clf.predict(features[i]);\n",
    "\n",
    "    "
   ]
  },
  {
   "cell_type": "code",
   "execution_count": null,
   "metadata": {
    "collapsed": true
   },
   "outputs": [],
   "source": []
  }
 ],
 "metadata": {
  "anaconda-cloud": {
   "environment": null,
   "summary": "MyCode",
   "url": "https://anaconda.org/pysherlock/demo"
  },
  "kernelspec": {
   "display_name": "Python [Root]",
   "language": "python",
   "name": "Python [Root]"
  },
  "language_info": {
   "codemirror_mode": {
    "name": "ipython",
    "version": 2
   },
   "file_extension": ".py",
   "mimetype": "text/x-python",
   "name": "python",
   "nbconvert_exporter": "python",
   "pygments_lexer": "ipython2",
   "version": "2.7.12"
  }
 },
 "nbformat": 4,
 "nbformat_minor": 0
}

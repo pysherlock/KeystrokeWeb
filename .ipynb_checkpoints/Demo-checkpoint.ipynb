{
 "cells": [
  {
   "cell_type": "markdown",
   "metadata": {},
   "source": [
    "# <center>Read Keystroke Data and Build Model to Process</center>"
   ]
  },
  {
   "cell_type": "code",
   "execution_count": 1,
   "metadata": {
    "collapsed": false
   },
   "outputs": [
    {
     "name": "stdout",
     "output_type": "stream",
     "text": [
      "Dataset/Kevin and Maxion/DSL-StrongPasswordData.csv\n"
     ]
    }
   ],
   "source": [
    "import os\n",
    "%matplotlib inline\n",
    "import matplotlib.pyplot as plt\n",
    "import pandas as pd\n",
    "import numpy as np\n",
    "from sklearn import svm\n",
    "import sklearn.cross_validation\n",
    "\n",
    "input_path = \"Dataset/Kevin and Maxion/DSL-StrongPasswordData.csv\"\n",
    "print input_path;"
   ]
  },
  {
   "cell_type": "markdown",
   "metadata": {},
   "source": [
    "## Import Raw Data and Extract Features. Pre-process the data \n",
    "\n",
    "### Dataset (The CMU keystroke dynamics dataset)\n",
    "\n",
    "* The CMU benchmark dataset contains keystroke dynamics consisting of the dwell time for each key and the latencies between two successive keys for static password string “.tie5Roanl”.\n",
    "* For each subject, there were data collection sessions with at least one day apart between two sessions. 50 repeated keystroke strings were collected in each session, resulting in a total 400 sample for each subject.\n",
    "* For each typed 10-letter password and the final enter key, the dwell time and diagraphs give rise to a 31 dimensional feature vector.\n",
    "\n",
    "Although the keystroke features provide sufficiently distinguishing patterns for each subject, they are highly correlated, with large scale variations, and typical of noise and outliers. Someone has previously proposed a new distance metric to effectively handle these challenges that are intrinsic to keystroke dynamics data."
   ]
  },
  {
   "cell_type": "code",
   "execution_count": 2,
   "metadata": {
    "collapsed": false
   },
   "outputs": [
    {
     "name": "stdout",
     "output_type": "stream",
     "text": [
      "<type 'str'>\n",
      "subject,sessionIndex,rep,H.period,DD.period.t,UD.period.t,H.t,DD.t.i,UD.t.i,H.i,DD.i.e,UD.i.e,H.e,DD.e.five,UD.e.five,H.five,DD.five.Shift.r,UD.five.Shift.r,H.Shift.r,DD.Shift.r.o,UD.Shift.r.o,H.o,DD.o.a,UD.o.a,H.a,DD.a.n,UD.a.n,H.n,DD.n.l,UD.n.l,H.l,DD.l.Return,UD.l.Return,H.Return\n",
      "[['s002' '1' '1' ..., '0.3509' '0.2171' '0.0742']\n",
      " ['s002' '1' '2' ..., '0.2756' '0.1917' '0.0747']\n",
      " ['s002' '1' '3' ..., '0.2847' '0.1762' '0.0945']\n",
      " ..., \n",
      " ['s057' '8' '48' ..., '0.2017' '0.0983' '0.0905']\n",
      " ['s057' '8' '49' ..., '0.1917' '0.0938' '0.0931']\n",
      " ['s057' '8' '50' ..., '0.1993' '0.1186' '0.1018']]\n",
      "<type 'numpy.ndarray'>\n",
      "(20400L, 34L)\n"
     ]
    }
   ],
   "source": [
    "file = open(input_path, \"r\");\n",
    "\n",
    "raw_data = file.read();\n",
    "print type(raw_data);\n",
    "\n",
    "data_lines = np.array(raw_data.splitlines());\n",
    "print data_lines[0];\n",
    "\n",
    "data = np.array([ x.split(\",\") for x in data_lines]);\n",
    "data = np.delete(data, 0, 0);\n",
    "print data;\n",
    "print type(data);\n",
    "print data.shape;"
   ]
  },
  {
   "cell_type": "markdown",
   "metadata": {},
   "source": [
    "### Build train dataset and test dataset"
   ]
  },
  {
   "cell_type": "code",
   "execution_count": 62,
   "metadata": {
    "collapsed": false
   },
   "outputs": [
    {
     "name": "stdout",
     "output_type": "stream",
     "text": [
      "sklearn.cross_validation.KFold(n=20400, n_folds=5, shuffle=True, random_state=None)\n",
      "(16320L, 34L)\n",
      "(4080L, 34L)\n",
      "[[ 0.1491  0.3979  0.2488 ...,  0.3509  0.2171  0.0742]\n",
      " [ 0.1111  0.3451  0.234  ...,  0.2756  0.1917  0.0747]\n",
      " [ 0.1328  0.2072  0.0744 ...,  0.2847  0.1762  0.0945]\n",
      " ..., \n",
      " [ 0.0655  0.063  -0.0025 ...,  0.2206  0.0761  0.1198]\n",
      " [ 0.0923  0.1294  0.0371 ...,  0.1917  0.0938  0.0931]\n",
      " [ 0.0596  0.131   0.0714 ...,  0.1993  0.1186  0.1018]]\n",
      "[[ 0.1064  0.2069  0.1005 ...,  0.2907  0.2028  0.089 ]\n",
      " [ 0.1093  0.1807  0.0714 ...,  0.3187  0.1983  0.0866]\n",
      " [ 0.0911  0.1525  0.0614 ...,  0.2599  0.1857  0.0779]\n",
      " ..., \n",
      " [ 0.0874  0.0717 -0.0157 ...,  0.1952  0.0856  0.1176]\n",
      " [ 0.0678  0.1073  0.0395 ...,  0.2027  0.1027  0.106 ]\n",
      " [ 0.0939  0.1189  0.025  ...,  0.2017  0.0983  0.0905]]\n",
      "['s002' 's003' 's004' 's005' 's007' 's008' 's010' 's011' 's012' 's013'\n",
      " 's015' 's016' 's017' 's018' 's019' 's020' 's021' 's022' 's024' 's025'\n",
      " 's026' 's027' 's028' 's029' 's030' 's031' 's032' 's033' 's034' 's035'\n",
      " 's036' 's037' 's038' 's039' 's040' 's041' 's042' 's043' 's044' 's046'\n",
      " 's047' 's048' 's049' 's050' 's051' 's052' 's053' 's054' 's055' 's056'\n",
      " 's057']\n",
      "51\n"
     ]
    }
   ],
   "source": [
    "# split data to train_data and test_data for cross validation\n",
    "\n",
    "kf = sklearn.cross_validation.KFold(len(data), 5, True);\n",
    "print kf;\n",
    "\n",
    "for train_index, test_index in kf:\n",
    "    train, test = data[train_index], data[test_index];\n",
    "    \n",
    "print train.shape;\n",
    "print test.shape;\n",
    "\n",
    "train_target = train[:, 0:1];\n",
    "train_data = train[:, 3:];\n",
    "\n",
    "test_target = test[:, 0:1];\n",
    "test_data = test[:, 3:];\n",
    "\n",
    "##change features' value from string to numerical(float)\n",
    "train_data = train_data.astype(np.float);\n",
    "test_data = test_data.astype(np.float);\n",
    "\n",
    "print train_data;\n",
    "print test_data;\n",
    "\n",
    "subjects = np.unique(train_target);\n",
    "n_classes = len(np.unique(train_target));\n",
    "print subjects;\n",
    "# print (np.unique(train_target), np.unique(test_target));\n",
    "print n_classes;"
   ]
  },
  {
   "cell_type": "markdown",
   "metadata": {},
   "source": [
    "### Train the SVM model to analyze data\n",
    "\n",
    "When training an SVM with the Radial Basis Function (RBF) kernel, two parameters must be considered: C and gamma. \n",
    "* The parameter C, common to all SVM kernels, trades off misclassification of training examples against simplicity of the decision surface. A low C makes the decision surface smooth, while a high C aims at classifying all training examples correctly.\n",
    "* gamma defines how much influence a single training example has. The larger gamma is, the closer other examples must be to be affected.\n",
    "* Proper choice of C and gamma is critical to the SVM’s performance. One is advised to use sklearn.grid_search.GridSearchCV with C and gamma spaced exponentially far apart to choose good values."
   ]
  },
  {
   "cell_type": "code",
   "execution_count": 5,
   "metadata": {
    "collapsed": false
   },
   "outputs": [
    {
     "name": "stderr",
     "output_type": "stream",
     "text": [
      "D:\\Anaconda2\\lib\\site-packages\\sklearn\\svm\\base.py:514: DataConversionWarning: A column-vector y was passed when a 1d array was expected. Please change the shape of y to (n_samples, ), for example using ravel().\n",
      "  y_ = column_or_1d(y, warn=True)\n",
      "D:\\Anaconda2\\lib\\site-packages\\sklearn\\svm\\base.py:514: DataConversionWarning: A column-vector y was passed when a 1d array was expected. Please change the shape of y to (n_samples, ), for example using ravel().\n",
      "  y_ = column_or_1d(y, warn=True)\n"
     ]
    },
    {
     "name": "stdout",
     "output_type": "stream",
     "text": [
      "(SVC(C=300.0, cache_size=200, class_weight=None, coef0=0.0,\n",
      "  decision_function_shape=None, degree=3, gamma=1, kernel='rbf',\n",
      "  max_iter=-1, probability=False, random_state=None, shrinking=True,\n",
      "  tol=0.001, verbose=False), SVC(C=300.0, cache_size=200, class_weight=None, coef0=0.0,\n",
      "  decision_function_shape='ovo', degree=3, gamma=1, kernel='rbf',\n",
      "  max_iter=-1, probability=False, random_state=None, shrinking=True,\n",
      "  tol=0.001, verbose=False))\n",
      "(0.87647058823529411, 0.87647058823529411)\n",
      "(array(['s002'], \n",
      "      dtype='|S15'), array(['s002'], \n",
      "      dtype='|S15'))\n",
      "(array(['s002'], \n",
      "      dtype='|S15'), array(['s002'], \n",
      "      dtype='|S15'))\n",
      "(array(['s002'], \n",
      "      dtype='|S15'), array(['s002'], \n",
      "      dtype='|S15'))\n",
      "(array(['s002'], \n",
      "      dtype='|S15'), array(['s002'], \n",
      "      dtype='|S15'))\n",
      "(array(['s025'], \n",
      "      dtype='|S15'), array(['s002'], \n",
      "      dtype='|S15'))\n",
      "(array(['s002'], \n",
      "      dtype='|S15'), array(['s002'], \n",
      "      dtype='|S15'))\n",
      "(array(['s002'], \n",
      "      dtype='|S15'), array(['s002'], \n",
      "      dtype='|S15'))\n",
      "(array(['s002'], \n",
      "      dtype='|S15'), array(['s002'], \n",
      "      dtype='|S15'))\n",
      "(array(['s031'], \n",
      "      dtype='|S15'), array(['s002'], \n",
      "      dtype='|S15'))\n",
      "(array(['s002'], \n",
      "      dtype='|S15'), array(['s002'], \n",
      "      dtype='|S15'))\n",
      "(array(['s002'], \n",
      "      dtype='|S15'), array(['s002'], \n",
      "      dtype='|S15'))\n",
      "(array(['s002'], \n",
      "      dtype='|S15'), array(['s002'], \n",
      "      dtype='|S15'))\n",
      "(array(['s002'], \n",
      "      dtype='|S15'), array(['s002'], \n",
      "      dtype='|S15'))\n",
      "(array(['s002'], \n",
      "      dtype='|S15'), array(['s002'], \n",
      "      dtype='|S15'))\n",
      "(array(['s002'], \n",
      "      dtype='|S15'), array(['s002'], \n",
      "      dtype='|S15'))\n",
      "(array(['s039'], \n",
      "      dtype='|S15'), array(['s002'], \n",
      "      dtype='|S15'))\n",
      "(array(['s027'], \n",
      "      dtype='|S15'), array(['s002'], \n",
      "      dtype='|S15'))\n",
      "(array(['s037'], \n",
      "      dtype='|S15'), array(['s002'], \n",
      "      dtype='|S15'))\n",
      "(array(['s047'], \n",
      "      dtype='|S15'), array(['s002'], \n",
      "      dtype='|S15'))\n",
      "(array(['s002'], \n",
      "      dtype='|S15'), array(['s002'], \n",
      "      dtype='|S15'))\n"
     ]
    },
    {
     "name": "stderr",
     "output_type": "stream",
     "text": [
      "D:\\Anaconda2\\lib\\site-packages\\sklearn\\utils\\validation.py:386: DeprecationWarning: Passing 1d arrays as data is deprecated in 0.17 and willraise ValueError in 0.19. Reshape your data either using X.reshape(-1, 1) if your data has a single feature or X.reshape(1, -1) if it contains a single sample.\n",
      "  DeprecationWarning)\n",
      "D:\\Anaconda2\\lib\\site-packages\\sklearn\\utils\\validation.py:386: DeprecationWarning: Passing 1d arrays as data is deprecated in 0.17 and willraise ValueError in 0.19. Reshape your data either using X.reshape(-1, 1) if your data has a single feature or X.reshape(1, -1) if it contains a single sample.\n",
      "  DeprecationWarning)\n",
      "D:\\Anaconda2\\lib\\site-packages\\sklearn\\utils\\validation.py:386: DeprecationWarning: Passing 1d arrays as data is deprecated in 0.17 and willraise ValueError in 0.19. Reshape your data either using X.reshape(-1, 1) if your data has a single feature or X.reshape(1, -1) if it contains a single sample.\n",
      "  DeprecationWarning)\n",
      "D:\\Anaconda2\\lib\\site-packages\\sklearn\\utils\\validation.py:386: DeprecationWarning: Passing 1d arrays as data is deprecated in 0.17 and willraise ValueError in 0.19. Reshape your data either using X.reshape(-1, 1) if your data has a single feature or X.reshape(1, -1) if it contains a single sample.\n",
      "  DeprecationWarning)\n",
      "D:\\Anaconda2\\lib\\site-packages\\sklearn\\utils\\validation.py:386: DeprecationWarning: Passing 1d arrays as data is deprecated in 0.17 and willraise ValueError in 0.19. Reshape your data either using X.reshape(-1, 1) if your data has a single feature or X.reshape(1, -1) if it contains a single sample.\n",
      "  DeprecationWarning)\n",
      "D:\\Anaconda2\\lib\\site-packages\\sklearn\\utils\\validation.py:386: DeprecationWarning: Passing 1d arrays as data is deprecated in 0.17 and willraise ValueError in 0.19. Reshape your data either using X.reshape(-1, 1) if your data has a single feature or X.reshape(1, -1) if it contains a single sample.\n",
      "  DeprecationWarning)\n",
      "D:\\Anaconda2\\lib\\site-packages\\sklearn\\utils\\validation.py:386: DeprecationWarning: Passing 1d arrays as data is deprecated in 0.17 and willraise ValueError in 0.19. Reshape your data either using X.reshape(-1, 1) if your data has a single feature or X.reshape(1, -1) if it contains a single sample.\n",
      "  DeprecationWarning)\n",
      "D:\\Anaconda2\\lib\\site-packages\\sklearn\\utils\\validation.py:386: DeprecationWarning: Passing 1d arrays as data is deprecated in 0.17 and willraise ValueError in 0.19. Reshape your data either using X.reshape(-1, 1) if your data has a single feature or X.reshape(1, -1) if it contains a single sample.\n",
      "  DeprecationWarning)\n",
      "D:\\Anaconda2\\lib\\site-packages\\sklearn\\utils\\validation.py:386: DeprecationWarning: Passing 1d arrays as data is deprecated in 0.17 and willraise ValueError in 0.19. Reshape your data either using X.reshape(-1, 1) if your data has a single feature or X.reshape(1, -1) if it contains a single sample.\n",
      "  DeprecationWarning)\n",
      "D:\\Anaconda2\\lib\\site-packages\\sklearn\\utils\\validation.py:386: DeprecationWarning: Passing 1d arrays as data is deprecated in 0.17 and willraise ValueError in 0.19. Reshape your data either using X.reshape(-1, 1) if your data has a single feature or X.reshape(1, -1) if it contains a single sample.\n",
      "  DeprecationWarning)\n",
      "D:\\Anaconda2\\lib\\site-packages\\sklearn\\utils\\validation.py:386: DeprecationWarning: Passing 1d arrays as data is deprecated in 0.17 and willraise ValueError in 0.19. Reshape your data either using X.reshape(-1, 1) if your data has a single feature or X.reshape(1, -1) if it contains a single sample.\n",
      "  DeprecationWarning)\n",
      "D:\\Anaconda2\\lib\\site-packages\\sklearn\\utils\\validation.py:386: DeprecationWarning: Passing 1d arrays as data is deprecated in 0.17 and willraise ValueError in 0.19. Reshape your data either using X.reshape(-1, 1) if your data has a single feature or X.reshape(1, -1) if it contains a single sample.\n",
      "  DeprecationWarning)\n",
      "D:\\Anaconda2\\lib\\site-packages\\sklearn\\utils\\validation.py:386: DeprecationWarning: Passing 1d arrays as data is deprecated in 0.17 and willraise ValueError in 0.19. Reshape your data either using X.reshape(-1, 1) if your data has a single feature or X.reshape(1, -1) if it contains a single sample.\n",
      "  DeprecationWarning)\n",
      "D:\\Anaconda2\\lib\\site-packages\\sklearn\\utils\\validation.py:386: DeprecationWarning: Passing 1d arrays as data is deprecated in 0.17 and willraise ValueError in 0.19. Reshape your data either using X.reshape(-1, 1) if your data has a single feature or X.reshape(1, -1) if it contains a single sample.\n",
      "  DeprecationWarning)\n",
      "D:\\Anaconda2\\lib\\site-packages\\sklearn\\utils\\validation.py:386: DeprecationWarning: Passing 1d arrays as data is deprecated in 0.17 and willraise ValueError in 0.19. Reshape your data either using X.reshape(-1, 1) if your data has a single feature or X.reshape(1, -1) if it contains a single sample.\n",
      "  DeprecationWarning)\n",
      "D:\\Anaconda2\\lib\\site-packages\\sklearn\\utils\\validation.py:386: DeprecationWarning: Passing 1d arrays as data is deprecated in 0.17 and willraise ValueError in 0.19. Reshape your data either using X.reshape(-1, 1) if your data has a single feature or X.reshape(1, -1) if it contains a single sample.\n",
      "  DeprecationWarning)\n",
      "D:\\Anaconda2\\lib\\site-packages\\sklearn\\utils\\validation.py:386: DeprecationWarning: Passing 1d arrays as data is deprecated in 0.17 and willraise ValueError in 0.19. Reshape your data either using X.reshape(-1, 1) if your data has a single feature or X.reshape(1, -1) if it contains a single sample.\n",
      "  DeprecationWarning)\n",
      "D:\\Anaconda2\\lib\\site-packages\\sklearn\\utils\\validation.py:386: DeprecationWarning: Passing 1d arrays as data is deprecated in 0.17 and willraise ValueError in 0.19. Reshape your data either using X.reshape(-1, 1) if your data has a single feature or X.reshape(1, -1) if it contains a single sample.\n",
      "  DeprecationWarning)\n",
      "D:\\Anaconda2\\lib\\site-packages\\sklearn\\utils\\validation.py:386: DeprecationWarning: Passing 1d arrays as data is deprecated in 0.17 and willraise ValueError in 0.19. Reshape your data either using X.reshape(-1, 1) if your data has a single feature or X.reshape(1, -1) if it contains a single sample.\n",
      "  DeprecationWarning)\n",
      "D:\\Anaconda2\\lib\\site-packages\\sklearn\\utils\\validation.py:386: DeprecationWarning: Passing 1d arrays as data is deprecated in 0.17 and willraise ValueError in 0.19. Reshape your data either using X.reshape(-1, 1) if your data has a single feature or X.reshape(1, -1) if it contains a single sample.\n",
      "  DeprecationWarning)\n"
     ]
    }
   ],
   "source": [
    "clf = svm.SVC(gamma=1, C=300.);\n",
    "clf2 = svm.SVC(gamma=1, C=300., decision_function_shape='ovo');\n",
    "## for now, gamma = 1, C = 300 is my best combination of those two parameters in this model\n",
    "\n",
    "clf.fit(train_data, train_target);\n",
    "clf2.fit(train_data, train_target);\n",
    "# libsvm = svm.libsvm.fit(x, y);\n",
    "\n",
    "print (clf, clf2);\n",
    "print (clf.score(test_data, test_target), clf2.score(test_data, test_target));\n",
    "\n",
    "for i in range(20):\n",
    "    print(clf.predict(test_data[i]), test_target[i]);\n",
    "\n",
    "    "
   ]
  },
  {
   "cell_type": "markdown",
   "metadata": {
    "collapsed": true
   },
   "source": [
    "### Use Neutral Network to analyze \n",
    "* In scikit-learn, the neural network model is Restricted Boltzmann machines (RBM). The features extracted by an RBM or a hierarchy of RBMs often give good results when fed into a linear classifier such as a linear SVM or a perceptron. \n",
    "\n",
    "* A Restricted Boltzmann Machine with binary visible units and binary hiddens. Parameters are estimated using Stochastic Maximum Likelihood (SML), also known as Persistent Contrastive Divergence (PCD)\n",
    "\n",
    "* Two simple and easy search strategies for tuning parameter: Grid Search; Random Search"
   ]
  },
  {
   "cell_type": "code",
   "execution_count": 71,
   "metadata": {
    "collapsed": false
   },
   "outputs": [
    {
     "name": "stdout",
     "output_type": "stream",
     "text": [
      "[ 1.5  3.5  nan  5.   nan]\n"
     ]
    },
    {
     "name": "stderr",
     "output_type": "stream",
     "text": [
      "D:\\Anaconda2\\lib\\site-packages\\numpy\\core\\_methods.py:59: RuntimeWarning: Mean of empty slice.\n",
      "  warnings.warn(\"Mean of empty slice.\", RuntimeWarning)\n"
     ]
    }
   ],
   "source": [
    "# from sklearn.neural_network import BernoulliRBM\n",
    "# from sklearn.cross_validation import train_test_split\n",
    "\n",
    "# a = np.array([train_data[train_target == user] for user in subjects]);\n",
    "# print a[0:5];\n",
    "# print len(a[0]);\n",
    "\n",
    "\n",
    "d = np.array([1, 2, 3, 4, 5]);\n",
    "b = np.array(['1', '1', '2', '2', '4']);\n",
    "c = np.array(['1', '2', '3', '4', '5']);\n",
    "print np.array([d[b == x].mean() for x in c]);"
   ]
  },
  {
   "cell_type": "markdown",
   "metadata": {},
   "source": [
    "### Gaussian Mixture Models with Universal Background Model\n",
    "* A Gaussian mixture model is a probabilistic model that assumes all the data points are generated from a mixture of a finite number of Gaussian distributions wih unknown parameters. (Gaussian Distribution = Normal Distribution)\n",
    "* The GMM object implements the EM algorithm for fitting mixture-of-Gaussian models. \n",
    "* GMM.fit method learns a Gaussian Mixture Model from train data. Gmm.predict method can assign each sample of test data to the Gaussian class which it mostly probably belong to.\n",
    "* The GMM has different options to constrain the covariance: spherical, diagonal, tied or full covariance. Since we have class labels for the training data, we can initialize the GMM parameters in a supervised manner."
   ]
  },
  {
   "cell_type": "code",
   "execution_count": 85,
   "metadata": {
    "collapsed": false
   },
   "outputs": [
    {
     "name": "stdout",
     "output_type": "stream",
     "text": [
      "('spherical', GMM(covariance_type='spherical', init_params='wc', min_covar=0.001,\n",
      "  n_components=51, n_init=1, n_iter=20, params='wmc', random_state=None,\n",
      "  thresh=None, tol=0.001, verbose=0))\n"
     ]
    },
    {
     "name": "stderr",
     "output_type": "stream",
     "text": [
      "D:\\Anaconda2\\lib\\site-packages\\ipykernel\\__main__.py:36: FutureWarning: elementwise comparison failed; returning scalar instead, but in the future will perform elementwise comparison\n"
     ]
    },
    {
     "name": "stdout",
     "output_type": "stream",
     "text": [
      "(array([24, 32, 32, ...,  0,  0,  0], dtype=int64), 0.0)\n",
      "('diag', GMM(covariance_type='diag', init_params='wc', min_covar=0.001,\n",
      "  n_components=51, n_init=1, n_iter=20, params='wmc', random_state=None,\n",
      "  thresh=None, tol=0.001, verbose=0))\n",
      "(array([38, 32, 32, ...,  3,  3,  3], dtype=int64), 0.0)\n",
      "('full', GMM(covariance_type='full', init_params='wc', min_covar=0.001,\n",
      "  n_components=51, n_init=1, n_iter=20, params='wmc', random_state=None,\n",
      "  thresh=None, tol=0.001, verbose=0))\n",
      "(array([23, 23, 42, ..., 13, 13, 13], dtype=int64), 0.0)\n",
      "('tied', GMM(covariance_type='tied', init_params='wc', min_covar=0.001,\n",
      "  n_components=51, n_init=1, n_iter=20, params='wmc', random_state=None,\n",
      "  thresh=None, tol=0.001, verbose=0))\n"
     ]
    },
    {
     "ename": "KeyboardInterrupt",
     "evalue": "",
     "output_type": "error",
     "traceback": [
      "\u001b[1;31m---------------------------------------------------------------------------\u001b[0m",
      "\u001b[1;31mKeyboardInterrupt\u001b[0m                         Traceback (most recent call last)",
      "\u001b[1;32m<ipython-input-85-c4c770f388ce>\u001b[0m in \u001b[0;36m<module>\u001b[1;34m()\u001b[0m\n\u001b[0;32m     21\u001b[0m \u001b[1;33m\u001b[0m\u001b[0m\n\u001b[0;32m     22\u001b[0m     \u001b[1;31m# Train the other parameters using the EM algorithm\u001b[0m\u001b[1;33m\u001b[0m\u001b[1;33m\u001b[0m\u001b[0m\n\u001b[1;32m---> 23\u001b[1;33m     \u001b[0mclf\u001b[0m\u001b[1;33m.\u001b[0m\u001b[0mfit\u001b[0m\u001b[1;33m(\u001b[0m\u001b[0mtrain_data\u001b[0m\u001b[1;33m)\u001b[0m\u001b[1;33m;\u001b[0m\u001b[1;33m\u001b[0m\u001b[0m\n\u001b[0m\u001b[0;32m     24\u001b[0m \u001b[1;33m\u001b[0m\u001b[0m\n\u001b[0;32m     25\u001b[0m \u001b[1;33m\u001b[0m\u001b[0m\n",
      "\u001b[1;32mD:\\Anaconda2\\lib\\site-packages\\sklearn\\mixture\\gmm.pyc\u001b[0m in \u001b[0;36mfit\u001b[1;34m(self, X, y)\u001b[0m\n\u001b[0;32m    596\u001b[0m         \u001b[0mself\u001b[0m\u001b[1;33m\u001b[0m\u001b[0m\n\u001b[0;32m    597\u001b[0m         \"\"\"\n\u001b[1;32m--> 598\u001b[1;33m         \u001b[0mself\u001b[0m\u001b[1;33m.\u001b[0m\u001b[0m_fit\u001b[0m\u001b[1;33m(\u001b[0m\u001b[0mX\u001b[0m\u001b[1;33m,\u001b[0m \u001b[0my\u001b[0m\u001b[1;33m)\u001b[0m\u001b[1;33m\u001b[0m\u001b[0m\n\u001b[0m\u001b[0;32m    599\u001b[0m         \u001b[1;32mreturn\u001b[0m \u001b[0mself\u001b[0m\u001b[1;33m\u001b[0m\u001b[0m\n\u001b[0;32m    600\u001b[0m \u001b[1;33m\u001b[0m\u001b[0m\n",
      "\u001b[1;32mD:\\Anaconda2\\lib\\site-packages\\sklearn\\mixture\\gmm.pyc\u001b[0m in \u001b[0;36m_fit\u001b[1;34m(self, X, y, do_prediction)\u001b[0m\n\u001b[0;32m    486\u001b[0m                 self.means_ = cluster.KMeans(\n\u001b[0;32m    487\u001b[0m                     \u001b[0mn_clusters\u001b[0m\u001b[1;33m=\u001b[0m\u001b[0mself\u001b[0m\u001b[1;33m.\u001b[0m\u001b[0mn_components\u001b[0m\u001b[1;33m,\u001b[0m\u001b[1;33m\u001b[0m\u001b[0m\n\u001b[1;32m--> 488\u001b[1;33m                     random_state=self.random_state).fit(X).cluster_centers_\n\u001b[0m\u001b[0;32m    489\u001b[0m                 \u001b[1;32mif\u001b[0m \u001b[0mself\u001b[0m\u001b[1;33m.\u001b[0m\u001b[0mverbose\u001b[0m \u001b[1;33m>\u001b[0m \u001b[1;36m1\u001b[0m\u001b[1;33m:\u001b[0m\u001b[1;33m\u001b[0m\u001b[0m\n\u001b[0;32m    490\u001b[0m                     \u001b[1;32mprint\u001b[0m\u001b[1;33m(\u001b[0m\u001b[1;34m'\\tMeans have been initialized.'\u001b[0m\u001b[1;33m)\u001b[0m\u001b[1;33m\u001b[0m\u001b[0m\n",
      "\u001b[1;32mD:\\Anaconda2\\lib\\site-packages\\sklearn\\cluster\\k_means_.pyc\u001b[0m in \u001b[0;36mfit\u001b[1;34m(self, X, y)\u001b[0m\n\u001b[0;32m    819\u001b[0m                 \u001b[0mprecompute_distances\u001b[0m\u001b[1;33m=\u001b[0m\u001b[0mself\u001b[0m\u001b[1;33m.\u001b[0m\u001b[0mprecompute_distances\u001b[0m\u001b[1;33m,\u001b[0m\u001b[1;33m\u001b[0m\u001b[0m\n\u001b[0;32m    820\u001b[0m                 \u001b[0mtol\u001b[0m\u001b[1;33m=\u001b[0m\u001b[0mself\u001b[0m\u001b[1;33m.\u001b[0m\u001b[0mtol\u001b[0m\u001b[1;33m,\u001b[0m \u001b[0mrandom_state\u001b[0m\u001b[1;33m=\u001b[0m\u001b[0mrandom_state\u001b[0m\u001b[1;33m,\u001b[0m \u001b[0mcopy_x\u001b[0m\u001b[1;33m=\u001b[0m\u001b[0mself\u001b[0m\u001b[1;33m.\u001b[0m\u001b[0mcopy_x\u001b[0m\u001b[1;33m,\u001b[0m\u001b[1;33m\u001b[0m\u001b[0m\n\u001b[1;32m--> 821\u001b[1;33m                 n_jobs=self.n_jobs)\n\u001b[0m\u001b[0;32m    822\u001b[0m         \u001b[1;32mreturn\u001b[0m \u001b[0mself\u001b[0m\u001b[1;33m\u001b[0m\u001b[0m\n\u001b[0;32m    823\u001b[0m \u001b[1;33m\u001b[0m\u001b[0m\n",
      "\u001b[1;32mD:\\Anaconda2\\lib\\site-packages\\sklearn\\cluster\\k_means_.pyc\u001b[0m in \u001b[0;36mk_means\u001b[1;34m(X, n_clusters, init, precompute_distances, n_init, max_iter, verbose, tol, random_state, copy_x, n_jobs, return_n_iter)\u001b[0m\n\u001b[0;32m    322\u001b[0m                 \u001b[0mX\u001b[0m\u001b[1;33m,\u001b[0m \u001b[0mn_clusters\u001b[0m\u001b[1;33m,\u001b[0m \u001b[0mmax_iter\u001b[0m\u001b[1;33m=\u001b[0m\u001b[0mmax_iter\u001b[0m\u001b[1;33m,\u001b[0m \u001b[0minit\u001b[0m\u001b[1;33m=\u001b[0m\u001b[0minit\u001b[0m\u001b[1;33m,\u001b[0m \u001b[0mverbose\u001b[0m\u001b[1;33m=\u001b[0m\u001b[0mverbose\u001b[0m\u001b[1;33m,\u001b[0m\u001b[1;33m\u001b[0m\u001b[0m\n\u001b[0;32m    323\u001b[0m                 \u001b[0mprecompute_distances\u001b[0m\u001b[1;33m=\u001b[0m\u001b[0mprecompute_distances\u001b[0m\u001b[1;33m,\u001b[0m \u001b[0mtol\u001b[0m\u001b[1;33m=\u001b[0m\u001b[0mtol\u001b[0m\u001b[1;33m,\u001b[0m\u001b[1;33m\u001b[0m\u001b[0m\n\u001b[1;32m--> 324\u001b[1;33m                 x_squared_norms=x_squared_norms, random_state=random_state)\n\u001b[0m\u001b[0;32m    325\u001b[0m             \u001b[1;31m# determine if these results are the best so far\u001b[0m\u001b[1;33m\u001b[0m\u001b[1;33m\u001b[0m\u001b[0m\n\u001b[0;32m    326\u001b[0m             \u001b[1;32mif\u001b[0m \u001b[0mbest_inertia\u001b[0m \u001b[1;32mis\u001b[0m \u001b[0mNone\u001b[0m \u001b[1;32mor\u001b[0m \u001b[0minertia\u001b[0m \u001b[1;33m<\u001b[0m \u001b[0mbest_inertia\u001b[0m\u001b[1;33m:\u001b[0m\u001b[1;33m\u001b[0m\u001b[0m\n",
      "\u001b[1;32mD:\\Anaconda2\\lib\\site-packages\\sklearn\\cluster\\k_means_.pyc\u001b[0m in \u001b[0;36m_kmeans_single\u001b[1;34m(X, n_clusters, x_squared_norms, max_iter, init, verbose, random_state, tol, precompute_distances)\u001b[0m\n\u001b[0;32m    445\u001b[0m             _labels_inertia(X, x_squared_norms, centers,\n\u001b[0;32m    446\u001b[0m                             \u001b[0mprecompute_distances\u001b[0m\u001b[1;33m=\u001b[0m\u001b[0mprecompute_distances\u001b[0m\u001b[1;33m,\u001b[0m\u001b[1;33m\u001b[0m\u001b[0m\n\u001b[1;32m--> 447\u001b[1;33m                             distances=distances)\n\u001b[0m\u001b[0;32m    448\u001b[0m \u001b[1;33m\u001b[0m\u001b[0m\n\u001b[0;32m    449\u001b[0m         \u001b[1;31m# computation of the means is also called the M-step of EM\u001b[0m\u001b[1;33m\u001b[0m\u001b[1;33m\u001b[0m\u001b[0m\n",
      "\u001b[1;32mD:\\Anaconda2\\lib\\site-packages\\sklearn\\cluster\\k_means_.pyc\u001b[0m in \u001b[0;36m_labels_inertia\u001b[1;34m(X, x_squared_norms, centers, precompute_distances, distances)\u001b[0m\n\u001b[0;32m    574\u001b[0m         \u001b[1;32mif\u001b[0m \u001b[0mprecompute_distances\u001b[0m\u001b[1;33m:\u001b[0m\u001b[1;33m\u001b[0m\u001b[0m\n\u001b[0;32m    575\u001b[0m             return _labels_inertia_precompute_dense(X, x_squared_norms,\n\u001b[1;32m--> 576\u001b[1;33m                                                     centers, distances)\n\u001b[0m\u001b[0;32m    577\u001b[0m         inertia = _k_means._assign_labels_array(\n\u001b[0;32m    578\u001b[0m             X, x_squared_norms, centers, labels, distances=distances)\n",
      "\u001b[1;32mD:\\Anaconda2\\lib\\site-packages\\sklearn\\cluster\\k_means_.pyc\u001b[0m in \u001b[0;36m_labels_inertia_precompute_dense\u001b[1;34m(X, x_squared_norms, centers, distances)\u001b[0m\n\u001b[0;32m    511\u001b[0m     \u001b[0mk\u001b[0m \u001b[1;33m=\u001b[0m \u001b[0mcenters\u001b[0m\u001b[1;33m.\u001b[0m\u001b[0mshape\u001b[0m\u001b[1;33m[\u001b[0m\u001b[1;36m0\u001b[0m\u001b[1;33m]\u001b[0m\u001b[1;33m\u001b[0m\u001b[0m\n\u001b[0;32m    512\u001b[0m     all_distances = euclidean_distances(centers, X, x_squared_norms,\n\u001b[1;32m--> 513\u001b[1;33m                                         squared=True)\n\u001b[0m\u001b[0;32m    514\u001b[0m     \u001b[0mlabels\u001b[0m \u001b[1;33m=\u001b[0m \u001b[0mnp\u001b[0m\u001b[1;33m.\u001b[0m\u001b[0mempty\u001b[0m\u001b[1;33m(\u001b[0m\u001b[0mn_samples\u001b[0m\u001b[1;33m,\u001b[0m \u001b[0mdtype\u001b[0m\u001b[1;33m=\u001b[0m\u001b[0mnp\u001b[0m\u001b[1;33m.\u001b[0m\u001b[0mint32\u001b[0m\u001b[1;33m)\u001b[0m\u001b[1;33m\u001b[0m\u001b[0m\n\u001b[0;32m    515\u001b[0m     \u001b[0mlabels\u001b[0m\u001b[1;33m.\u001b[0m\u001b[0mfill\u001b[0m\u001b[1;33m(\u001b[0m\u001b[1;33m-\u001b[0m\u001b[1;36m1\u001b[0m\u001b[1;33m)\u001b[0m\u001b[1;33m\u001b[0m\u001b[0m\n",
      "\u001b[1;32mD:\\Anaconda2\\lib\\site-packages\\sklearn\\metrics\\pairwise.pyc\u001b[0m in \u001b[0;36meuclidean_distances\u001b[1;34m(X, Y, Y_norm_squared, squared, X_norm_squared)\u001b[0m\n\u001b[0;32m    230\u001b[0m \u001b[1;33m\u001b[0m\u001b[0m\n\u001b[0;32m    231\u001b[0m     \u001b[0mdistances\u001b[0m \u001b[1;33m=\u001b[0m \u001b[0msafe_sparse_dot\u001b[0m\u001b[1;33m(\u001b[0m\u001b[0mX\u001b[0m\u001b[1;33m,\u001b[0m \u001b[0mY\u001b[0m\u001b[1;33m.\u001b[0m\u001b[0mT\u001b[0m\u001b[1;33m,\u001b[0m \u001b[0mdense_output\u001b[0m\u001b[1;33m=\u001b[0m\u001b[0mTrue\u001b[0m\u001b[1;33m)\u001b[0m\u001b[1;33m\u001b[0m\u001b[0m\n\u001b[1;32m--> 232\u001b[1;33m     \u001b[0mdistances\u001b[0m \u001b[1;33m*=\u001b[0m \u001b[1;33m-\u001b[0m\u001b[1;36m2\u001b[0m\u001b[1;33m\u001b[0m\u001b[0m\n\u001b[0m\u001b[0;32m    233\u001b[0m     \u001b[0mdistances\u001b[0m \u001b[1;33m+=\u001b[0m \u001b[0mXX\u001b[0m\u001b[1;33m\u001b[0m\u001b[0m\n\u001b[0;32m    234\u001b[0m     \u001b[0mdistances\u001b[0m \u001b[1;33m+=\u001b[0m \u001b[0mYY\u001b[0m\u001b[1;33m\u001b[0m\u001b[0m\n",
      "\u001b[1;31mKeyboardInterrupt\u001b[0m: "
     ]
    },
    {
     "data": {
      "image/png": "[encoded data removed]",
      "text/plain": [
       "<matplotlib.figure.Figure at 0xaec0470>"
      ]
     },
     "metadata": {},
     "output_type": "display_data"
    }
   ],
   "source": [
    "from sklearn.mixture import GMM\n",
    "from sklearn.cross_validation import StratifiedKFold\n",
    "\n",
    "#Try GMMs with different types of covariances\n",
    "classifiers = dict((covar_type, GMM(n_components=n_classes, covariance_type=covar_type, init_params='wc', n_iter=20)) \n",
    "                   for covar_type in ['spherical', 'diag', 'tied', 'full']);\n",
    "\n",
    "n_classifiers = len(classifiers);\n",
    "\n",
    "plt.figure(figsize=(3 * n_classifiers / 2, 6));\n",
    "plt.subplots_adjust(bottom=.01, top=0.95, hspace=.15, wspace=.05, left=.01, right=.99);\n",
    "\n",
    "for index, (name, clf) in enumerate(classifiers.items()):\n",
    "    # Since we have class labels for the training data, \n",
    "    # we can initialize the GMM parameters in a supervised manner.\n",
    "    print (name, clf);\n",
    "    \n",
    "    clf.means_ = np.array([train_data[train_target == user].mean() for user in subjects]);\n",
    "    # means_ : array, shape (n_components, n_features) Mean parameters for each mixture component.\n",
    "    # Compute the mean of features of every user seperately\n",
    "    \n",
    "    # Train the other parameters using the EM algorithm\n",
    "    clf.fit(train_data);\n",
    "    \n",
    "    \n",
    "    h = plt.subplot(2, n_classifiers/2, index+1); #subplot(nrows, ncols, plot_number)\n",
    "    \n",
    "    # Visualization of the result\n",
    "#     for n, color in enumerate('rgb'):\n",
    "#         plt.scatter(, color=color);\n",
    "        \n",
    "#     # Plot the test data with crosses\n",
    "#     for n, color in enumerate('rgb'):\n",
    "        \n",
    "    train_pred = clf.predict(train_data);\n",
    "    train_accuracy = np.mean(train_pred.ravel() == train_target.ravel())*100;\n",
    "    print (train_pred, train_accuracy);\n",
    "\n",
    "    \n",
    "# gmm = GMM(n_components=51);\n",
    "# print gmm;\n",
    "# gmm.fit(train_data);"
   ]
  },
  {
   "cell_type": "code",
   "execution_count": 34,
   "metadata": {
    "collapsed": false
   },
   "outputs": [
    {
     "data": {
      "image/png": "[encoded data removed]",
      "text/plain": [
       "<matplotlib.figure.Figure at 0xb32e908>"
      ]
     },
     "metadata": {},
     "output_type": "display_data"
    }
   ],
   "source": [
    "# plt.figure(figsize=(3 * 4 / 2, 6));\n",
    "\n",
    "plt.subplots_adjust(bottom=.01, top=0.95, hspace=.15, wspace=.05, left=.01, right=.99);\n",
    "\n",
    "plt.plot([1,2,3], [1,2,3]);\n",
    "plt.subplot(121);\n",
    "plt.xticks(());\n",
    "# plt.xticks(range(5), ('Tom', 'Dick', 'Harry', 'Sally', 'Sue'));\n",
    "plt.subplot(122);"
   ]
  },
  {
   "cell_type": "code",
   "execution_count": 78,
   "metadata": {
    "collapsed": false
   },
   "outputs": [
    {
     "name": "stdout",
     "output_type": "stream",
     "text": [
      "[ 0  0 20  8  0  0  0 20  0  0 37  0  0  0  0  0  0  0  0  0]\n",
      "[['s013']\n",
      " ['s013']\n",
      " ['s013']\n",
      " ['s013']\n",
      " ['s013']\n",
      " ['s013']\n",
      " ['s013']\n",
      " ['s013']\n",
      " ['s013']\n",
      " ['s013']\n",
      " ['s013']\n",
      " ['s013']\n",
      " ['s013']\n",
      " ['s013']\n",
      " ['s013']\n",
      " ['s013']\n",
      " ['s013']\n",
      " ['s013']\n",
      " ['s013']\n",
      " ['s013']]\n"
     ]
    }
   ],
   "source": [
    "from sklearn.mixture import GMM\n",
    "\n",
    "gmm = GMM(n_components=n_classes, covariance_type='spherical', init_params='wc', n_iter=20);\n",
    "gmm.fit(train_data);\n",
    "print gmm.predict(train_data[3000:3020]);\n",
    "print train_target[3000:3020];"
   ]
  },
  {
   "cell_type": "markdown",
   "metadata": {},
   "source": []
  }
 ],
 "metadata": {
  "anaconda-cloud": {
   "environment": null,
   "summary": "MyCode",
   "url": "https://anaconda.org/pysherlock/demo"
  },
  "kernelspec": {
   "display_name": "Python [Root]",
   "language": "python",
   "name": "Python [Root]"
  },
  "language_info": {
   "codemirror_mode": {
    "name": "ipython",
    "version": 2
   },
   "file_extension": ".py",
   "mimetype": "text/x-python",
   "name": "python",
   "nbconvert_exporter": "python",
   "pygments_lexer": "ipython2",
   "version": "2.7.12"
  }
 },
 "nbformat": 4,
 "nbformat_minor": 0
}

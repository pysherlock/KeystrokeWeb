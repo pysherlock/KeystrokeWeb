{
 "cells": [
  {
   "cell_type": "markdown",
   "metadata": {},
   "source": [
    "# <center>Read Keystroke Data and Build Model to Process</center>"
   ]
  },
  {
   "cell_type": "markdown",
   "metadata": {},
   "source": []
  },
  {
   "cell_type": "code",
   "execution_count": 1,
   "metadata": {
    "collapsed": false
   },
   "outputs": [
    {
     "name": "stdout",
     "output_type": "stream",
     "text": [
      "Dataset/Kevin and Maxion/DSL-StrongPasswordData.csv\n"
     ]
    }
   ],
   "source": [
    "import os\n",
    "%matplotlib inline\n",
    "import matplotlib.pyplot as plt\n",
    "import pandas as pd\n",
    "import numpy as np\n",
    "from sklearn import svm\n",
    "import sklearn.cross_validation\n",
    "\n",
    "input_path = \"Dataset/Kevin and Maxion/DSL-StrongPasswordData.csv\"\n",
    "print input_path;"
   ]
  },
  {
   "cell_type": "markdown",
   "metadata": {},
   "source": [
    "## Import Raw Data and Extract Features. Pre-process the data "
   ]
  },
  {
   "cell_type": "code",
   "execution_count": 31,
   "metadata": {
    "collapsed": false
   },
   "outputs": [
    {
     "name": "stdout",
     "output_type": "stream",
     "text": [
      "<type 'str'>\n",
      "subject,sessionIndex,rep,H.period,DD.period.t,UD.period.t,H.t,DD.t.i,UD.t.i,H.i,DD.i.e,UD.i.e,H.e,DD.e.five,UD.e.five,H.five,DD.five.Shift.r,UD.five.Shift.r,H.Shift.r,DD.Shift.r.o,UD.Shift.r.o,H.o,DD.o.a,UD.o.a,H.a,DD.a.n,UD.a.n,H.n,DD.n.l,UD.n.l,H.l,DD.l.Return,UD.l.Return,H.Return\n",
      "[['s002' '1' '1' ..., '0.3509' '0.2171' '0.0742']\n",
      " ['s002' '1' '2' ..., '0.2756' '0.1917' '0.0747']\n",
      " ['s002' '1' '3' ..., '0.2847' '0.1762' '0.0945']\n",
      " ..., \n",
      " ['s057' '8' '48' ..., '0.2017' '0.0983' '0.0905']\n",
      " ['s057' '8' '49' ..., '0.1917' '0.0938' '0.0931']\n",
      " ['s057' '8' '50' ..., '0.1993' '0.1186' '0.1018']]\n",
      "<type 'numpy.ndarray'>\n",
      "(20400L, 34L)\n"
     ]
    }
   ],
   "source": [
    "file = open(input_path, \"r\");\n",
    "\n",
    "raw_data = file.read();\n",
    "print type(raw_data);\n",
    "\n",
    "data_lines = np.array(raw_data.splitlines());\n",
    "print data_lines[0];\n",
    "\n",
    "data = np.array([ x.split(\",\") for x in data_lines]);\n",
    "data = np.delete(data, 0, 0);\n",
    "print data;\n",
    "print type(data);\n",
    "print data.shape;"
   ]
  },
  {
   "cell_type": "markdown",
   "metadata": {},
   "source": [
    "### Build train dataset and test dataset"
   ]
  },
  {
   "cell_type": "code",
   "execution_count": 60,
   "metadata": {
    "collapsed": false
   },
   "outputs": [
    {
     "name": "stdout",
     "output_type": "stream",
     "text": [
      "sklearn.cross_validation.KFold(n=20400, n_folds=5, shuffle=True, random_state=None)\n",
      "(16320L, 34L)\n",
      "(4080L, 34L)\n",
      "[[ 0.1111  0.3451  0.234  ...,  0.2756  0.1917  0.0747]\n",
      " [ 0.1328  0.2072  0.0744 ...,  0.2847  0.1762  0.0945]\n",
      " [ 0.1291  0.2515  0.1224 ...,  0.3232  0.2387  0.0813]\n",
      " ..., \n",
      " [ 0.0655  0.063  -0.0025 ...,  0.2206  0.0761  0.1198]\n",
      " [ 0.0923  0.1294  0.0371 ...,  0.1917  0.0938  0.0931]\n",
      " [ 0.0596  0.131   0.0714 ...,  0.1993  0.1186  0.1018]]\n",
      "[[ 0.1491  0.3979  0.2488 ...,  0.3509  0.2171  0.0742]\n",
      " [ 0.0966  0.1797  0.0831 ...,  0.2868  0.1986  0.0634]\n",
      " [ 0.0903  0.1871  0.0968 ...,  0.3889  0.2701  0.0318]\n",
      " ..., \n",
      " [ 0.0966  0.1126  0.016  ...,  0.1822  0.1046  0.1163]\n",
      " [ 0.0665  0.0678  0.0013 ...,  0.2047  0.0996  0.1105]\n",
      " [ 0.0939  0.1189  0.025  ...,  0.2017  0.0983  0.0905]]\n",
      "(array(['s002', 's003', 's004', 's005', 's007', 's008', 's010', 's011',\n",
      "       's012', 's013', 's015', 's016', 's017', 's018', 's019', 's020',\n",
      "       's021', 's022', 's024', 's025', 's026', 's027', 's028', 's029',\n",
      "       's030', 's031', 's032', 's033', 's034', 's035', 's036', 's037',\n",
      "       's038', 's039', 's040', 's041', 's042', 's043', 's044', 's046',\n",
      "       's047', 's048', 's049', 's050', 's051', 's052', 's053', 's054',\n",
      "       's055', 's056', 's057'], \n",
      "      dtype='|S15'), array(['s002', 's003', 's004', 's005', 's007', 's008', 's010', 's011',\n",
      "       's012', 's013', 's015', 's016', 's017', 's018', 's019', 's020',\n",
      "       's021', 's022', 's024', 's025', 's026', 's027', 's028', 's029',\n",
      "       's030', 's031', 's032', 's033', 's034', 's035', 's036', 's037',\n",
      "       's038', 's039', 's040', 's041', 's042', 's043', 's044', 's046',\n",
      "       's047', 's048', 's049', 's050', 's051', 's052', 's053', 's054',\n",
      "       's055', 's056', 's057'], \n",
      "      dtype='|S15'))\n",
      "51\n"
     ]
    }
   ],
   "source": [
    "# split data to train_data and test_data for cross validation\n",
    "\n",
    "kf = sklearn.cross_validation.KFold(len(data), 5, True);\n",
    "print kf;\n",
    "\n",
    "for train_index, test_index in kf:\n",
    "    train, test = data[train_index], data[test_index];\n",
    "    \n",
    "print train.shape;\n",
    "print test.shape;\n",
    "\n",
    "train_target = train[:, 0:1];\n",
    "train_data = train[:, 3:];\n",
    "\n",
    "test_target = test[:, 0:1];\n",
    "test_data = test[:, 3:];\n",
    "\n",
    "##change features' value from string to numerical(float)\n",
    "train_data = train_data.astype(np.float);\n",
    "test_data = test_data.astype(np.float);\n",
    "\n",
    "print train_data;\n",
    "print test_data;\n",
    "\n",
    "n_classes = len(np.unique(train_target));\n",
    "print (np.unique(train_target), np.unique(test_target));\n",
    "print n_classes;"
   ]
  },
  {
   "cell_type": "markdown",
   "metadata": {},
   "source": [
    "### Train the SVM model to analyze data\n",
    "\n",
    "When training an SVM with the Radial Basis Function (RBF) kernel, two parameters must be considered: C and gamma. \n",
    "* The parameter C, common to all SVM kernels, trades off misclassification of training examples against simplicity of the decision surface. A low C makes the decision surface smooth, while a high C aims at classifying all training examples correctly.\n",
    "* gamma defines how much influence a single training example has. The larger gamma is, the closer other examples must be to be affected.\n",
    "* Proper choice of C and gamma is critical to the SVM’s performance. One is advised to use sklearn.grid_search.GridSearchCV with C and gamma spaced exponentially far apart to choose good values."
   ]
  },
  {
   "cell_type": "code",
   "execution_count": 35,
   "metadata": {
    "collapsed": false
   },
   "outputs": [
    {
     "name": "stderr",
     "output_type": "stream",
     "text": [
      "D:\\Anaconda2\\lib\\site-packages\\sklearn\\svm\\base.py:514: DataConversionWarning: A column-vector y was passed when a 1d array was expected. Please change the shape of y to (n_samples, ), for example using ravel().\n",
      "  y_ = column_or_1d(y, warn=True)\n",
      "D:\\Anaconda2\\lib\\site-packages\\sklearn\\svm\\base.py:514: DataConversionWarning: A column-vector y was passed when a 1d array was expected. Please change the shape of y to (n_samples, ), for example using ravel().\n",
      "  y_ = column_or_1d(y, warn=True)\n"
     ]
    },
    {
     "name": "stdout",
     "output_type": "stream",
     "text": [
      "SVC(C=300.0, cache_size=200, class_weight=None, coef0=0.0,\n",
      "  decision_function_shape=None, degree=3, gamma=1, kernel='rbf',\n",
      "  max_iter=-1, probability=False, random_state=None, shrinking=True,\n",
      "  tol=0.001, verbose=False)\n",
      "SVC(C=300.0, cache_size=200, class_weight=None, coef0=0.0,\n",
      "  decision_function_shape='ovo', degree=3, gamma=1, kernel='rbf',\n",
      "  max_iter=-1, probability=False, random_state=None, shrinking=True,\n",
      "  tol=0.001, verbose=False)\n",
      "0.880637254902\n",
      "0.880637254902\n",
      "(array(['s002'], \n",
      "      dtype='|S15'), array(['s002'], \n",
      "      dtype='|S15'))\n",
      "(array(['s002'], \n",
      "      dtype='|S15'), array(['s002'], \n",
      "      dtype='|S15'))\n",
      "(array(['s004'], \n",
      "      dtype='|S15'), array(['s002'], \n",
      "      dtype='|S15'))\n",
      "(array(['s002'], \n",
      "      dtype='|S15'), array(['s002'], \n",
      "      dtype='|S15'))\n",
      "(array(['s002'], \n",
      "      dtype='|S15'), array(['s002'], \n",
      "      dtype='|S15'))\n",
      "(array(['s002'], \n",
      "      dtype='|S15'), array(['s002'], \n",
      "      dtype='|S15'))\n",
      "(array(['s002'], \n",
      "      dtype='|S15'), array(['s002'], \n",
      "      dtype='|S15'))\n",
      "(array(['s002'], \n",
      "      dtype='|S15'), array(['s002'], \n",
      "      dtype='|S15'))\n",
      "(array(['s002'], \n",
      "      dtype='|S15'), array(['s002'], \n",
      "      dtype='|S15'))\n",
      "(array(['s002'], \n",
      "      dtype='|S15'), array(['s002'], \n",
      "      dtype='|S15'))\n",
      "(array(['s002'], \n",
      "      dtype='|S15'), array(['s002'], \n",
      "      dtype='|S15'))\n",
      "(array(['s002'], \n",
      "      dtype='|S15'), array(['s002'], \n",
      "      dtype='|S15'))\n",
      "(array(['s005'], \n",
      "      dtype='|S15'), array(['s002'], \n",
      "      dtype='|S15'))\n",
      "(array(['s002'], \n",
      "      dtype='|S15'), array(['s002'], \n",
      "      dtype='|S15'))\n",
      "(array(['s002'], \n",
      "      dtype='|S15'), array(['s002'], \n",
      "      dtype='|S15'))\n",
      "(array(['s016'], \n",
      "      dtype='|S15'), array(['s002'], \n",
      "      dtype='|S15'))\n",
      "(array(['s047'], \n",
      "      dtype='|S15'), array(['s002'], \n",
      "      dtype='|S15'))\n",
      "(array(['s002'], \n",
      "      dtype='|S15'), array(['s002'], \n",
      "      dtype='|S15'))\n",
      "(array(['s002'], \n",
      "      dtype='|S15'), array(['s002'], \n",
      "      dtype='|S15'))\n",
      "(array(['s002'], \n",
      "      dtype='|S15'), array(['s002'], \n",
      "      dtype='|S15'))\n"
     ]
    },
    {
     "name": "stderr",
     "output_type": "stream",
     "text": [
      "D:\\Anaconda2\\lib\\site-packages\\sklearn\\utils\\validation.py:386: DeprecationWarning: Passing 1d arrays as data is deprecated in 0.17 and willraise ValueError in 0.19. Reshape your data either using X.reshape(-1, 1) if your data has a single feature or X.reshape(1, -1) if it contains a single sample.\n",
      "  DeprecationWarning)\n",
      "D:\\Anaconda2\\lib\\site-packages\\sklearn\\utils\\validation.py:386: DeprecationWarning: Passing 1d arrays as data is deprecated in 0.17 and willraise ValueError in 0.19. Reshape your data either using X.reshape(-1, 1) if your data has a single feature or X.reshape(1, -1) if it contains a single sample.\n",
      "  DeprecationWarning)\n",
      "D:\\Anaconda2\\lib\\site-packages\\sklearn\\utils\\validation.py:386: DeprecationWarning: Passing 1d arrays as data is deprecated in 0.17 and willraise ValueError in 0.19. Reshape your data either using X.reshape(-1, 1) if your data has a single feature or X.reshape(1, -1) if it contains a single sample.\n",
      "  DeprecationWarning)\n",
      "D:\\Anaconda2\\lib\\site-packages\\sklearn\\utils\\validation.py:386: DeprecationWarning: Passing 1d arrays as data is deprecated in 0.17 and willraise ValueError in 0.19. Reshape your data either using X.reshape(-1, 1) if your data has a single feature or X.reshape(1, -1) if it contains a single sample.\n",
      "  DeprecationWarning)\n",
      "D:\\Anaconda2\\lib\\site-packages\\sklearn\\utils\\validation.py:386: DeprecationWarning: Passing 1d arrays as data is deprecated in 0.17 and willraise ValueError in 0.19. Reshape your data either using X.reshape(-1, 1) if your data has a single feature or X.reshape(1, -1) if it contains a single sample.\n",
      "  DeprecationWarning)\n",
      "D:\\Anaconda2\\lib\\site-packages\\sklearn\\utils\\validation.py:386: DeprecationWarning: Passing 1d arrays as data is deprecated in 0.17 and willraise ValueError in 0.19. Reshape your data either using X.reshape(-1, 1) if your data has a single feature or X.reshape(1, -1) if it contains a single sample.\n",
      "  DeprecationWarning)\n",
      "D:\\Anaconda2\\lib\\site-packages\\sklearn\\utils\\validation.py:386: DeprecationWarning: Passing 1d arrays as data is deprecated in 0.17 and willraise ValueError in 0.19. Reshape your data either using X.reshape(-1, 1) if your data has a single feature or X.reshape(1, -1) if it contains a single sample.\n",
      "  DeprecationWarning)\n",
      "D:\\Anaconda2\\lib\\site-packages\\sklearn\\utils\\validation.py:386: DeprecationWarning: Passing 1d arrays as data is deprecated in 0.17 and willraise ValueError in 0.19. Reshape your data either using X.reshape(-1, 1) if your data has a single feature or X.reshape(1, -1) if it contains a single sample.\n",
      "  DeprecationWarning)\n",
      "D:\\Anaconda2\\lib\\site-packages\\sklearn\\utils\\validation.py:386: DeprecationWarning: Passing 1d arrays as data is deprecated in 0.17 and willraise ValueError in 0.19. Reshape your data either using X.reshape(-1, 1) if your data has a single feature or X.reshape(1, -1) if it contains a single sample.\n",
      "  DeprecationWarning)\n",
      "D:\\Anaconda2\\lib\\site-packages\\sklearn\\utils\\validation.py:386: DeprecationWarning: Passing 1d arrays as data is deprecated in 0.17 and willraise ValueError in 0.19. Reshape your data either using X.reshape(-1, 1) if your data has a single feature or X.reshape(1, -1) if it contains a single sample.\n",
      "  DeprecationWarning)\n",
      "D:\\Anaconda2\\lib\\site-packages\\sklearn\\utils\\validation.py:386: DeprecationWarning: Passing 1d arrays as data is deprecated in 0.17 and willraise ValueError in 0.19. Reshape your data either using X.reshape(-1, 1) if your data has a single feature or X.reshape(1, -1) if it contains a single sample.\n",
      "  DeprecationWarning)\n",
      "D:\\Anaconda2\\lib\\site-packages\\sklearn\\utils\\validation.py:386: DeprecationWarning: Passing 1d arrays as data is deprecated in 0.17 and willraise ValueError in 0.19. Reshape your data either using X.reshape(-1, 1) if your data has a single feature or X.reshape(1, -1) if it contains a single sample.\n",
      "  DeprecationWarning)\n",
      "D:\\Anaconda2\\lib\\site-packages\\sklearn\\utils\\validation.py:386: DeprecationWarning: Passing 1d arrays as data is deprecated in 0.17 and willraise ValueError in 0.19. Reshape your data either using X.reshape(-1, 1) if your data has a single feature or X.reshape(1, -1) if it contains a single sample.\n",
      "  DeprecationWarning)\n",
      "D:\\Anaconda2\\lib\\site-packages\\sklearn\\utils\\validation.py:386: DeprecationWarning: Passing 1d arrays as data is deprecated in 0.17 and willraise ValueError in 0.19. Reshape your data either using X.reshape(-1, 1) if your data has a single feature or X.reshape(1, -1) if it contains a single sample.\n",
      "  DeprecationWarning)\n",
      "D:\\Anaconda2\\lib\\site-packages\\sklearn\\utils\\validation.py:386: DeprecationWarning: Passing 1d arrays as data is deprecated in 0.17 and willraise ValueError in 0.19. Reshape your data either using X.reshape(-1, 1) if your data has a single feature or X.reshape(1, -1) if it contains a single sample.\n",
      "  DeprecationWarning)\n",
      "D:\\Anaconda2\\lib\\site-packages\\sklearn\\utils\\validation.py:386: DeprecationWarning: Passing 1d arrays as data is deprecated in 0.17 and willraise ValueError in 0.19. Reshape your data either using X.reshape(-1, 1) if your data has a single feature or X.reshape(1, -1) if it contains a single sample.\n",
      "  DeprecationWarning)\n",
      "D:\\Anaconda2\\lib\\site-packages\\sklearn\\utils\\validation.py:386: DeprecationWarning: Passing 1d arrays as data is deprecated in 0.17 and willraise ValueError in 0.19. Reshape your data either using X.reshape(-1, 1) if your data has a single feature or X.reshape(1, -1) if it contains a single sample.\n",
      "  DeprecationWarning)\n",
      "D:\\Anaconda2\\lib\\site-packages\\sklearn\\utils\\validation.py:386: DeprecationWarning: Passing 1d arrays as data is deprecated in 0.17 and willraise ValueError in 0.19. Reshape your data either using X.reshape(-1, 1) if your data has a single feature or X.reshape(1, -1) if it contains a single sample.\n",
      "  DeprecationWarning)\n",
      "D:\\Anaconda2\\lib\\site-packages\\sklearn\\utils\\validation.py:386: DeprecationWarning: Passing 1d arrays as data is deprecated in 0.17 and willraise ValueError in 0.19. Reshape your data either using X.reshape(-1, 1) if your data has a single feature or X.reshape(1, -1) if it contains a single sample.\n",
      "  DeprecationWarning)\n",
      "D:\\Anaconda2\\lib\\site-packages\\sklearn\\utils\\validation.py:386: DeprecationWarning: Passing 1d arrays as data is deprecated in 0.17 and willraise ValueError in 0.19. Reshape your data either using X.reshape(-1, 1) if your data has a single feature or X.reshape(1, -1) if it contains a single sample.\n",
      "  DeprecationWarning)\n"
     ]
    }
   ],
   "source": [
    "clf = svm.SVC(gamma=1, C=300.);\n",
    "clf2 = svm.SVC(gamma=1, C=300., decision_function_shape='ovo');\n",
    "## for now, gamma = 1, C = 300 is my best combination of those two parameters in this model\n",
    "\n",
    "clf.fit(train_data, train_target);\n",
    "clf2.fit(train_data, train_target);\n",
    "# libsvm = svm.libsvm.fit(x, y);\n",
    "\n",
    "print (clf, clf2);\n",
    "print (clf.score(test_data, test_target), clf2.score(test_data, test_target));\n",
    "\n",
    "for i in range(20):\n",
    "    print(clf.predict(test_data[i]), test_target[i]);\n",
    "\n",
    "    "
   ]
  },
  {
   "cell_type": "markdown",
   "metadata": {
    "collapsed": true
   },
   "source": [
    "### Use Neutral Network to analyze \n",
    "* In scikit-learn, the neural network model is Restricted Boltzmann machines (RBM). The features extracted by an RBM or a hierarchy of RBMs often give good results when fed into a linear classifier such as a linear SVM or a perceptron. \n",
    "\n",
    "* A Restricted Boltzmann Machine with binary visible units and binary hiddens. Parameters are estimated using Stochastic Maximum Likelihood (SML), also known as Persistent Contrastive Divergence (PCD)\n",
    "\n",
    "* Two simple and easy search strategies for tuning parameter: Grid Search; Random Search"
   ]
  },
  {
   "cell_type": "code",
   "execution_count": null,
   "metadata": {
    "collapsed": true
   },
   "outputs": [],
   "source": [
    "from sklearn.neural_network import BernoulliRBM\n",
    "from sklearn.cross_validation import train_test_split\n",
    "\n",
    "\n"
   ]
  },
  {
   "cell_type": "markdown",
   "metadata": {},
   "source": [
    "### Gaussian Mixture Models with Universal Background Model\n",
    "* A Gaussian mixture model is a probabilistic model that assumes all the data points are generated from a mixture of a finite number of Gaussian distributions wih unknown parameters. (Gaussian Distribution = Normal Distribution)\n",
    "* The GMM object implements the EM algorithm for fitting mixture-of-Gaussian models. \n",
    "* GMM.fit method learns a Gaussian Mixture Model from train data. Gmm.predict method can assign each sample of test data to the Gaussian class which it mostly probably belong to.\n",
    "* The GMM has different options to constrain the covariance: spherical, diagonal, tied or full covariance. Since we have class labels for the training data, we can initialize the GMM parameters in a supervised manner."
   ]
  },
  {
   "cell_type": "code",
   "execution_count": 62,
   "metadata": {
    "collapsed": false
   },
   "outputs": [
    {
     "name": "stdout",
     "output_type": "stream",
     "text": [
      "4\n",
      "GMM(covariance_type='spherical', init_params='wc', min_covar=0.001,\n",
      "  n_components=51, n_init=1, n_iter=20, params='wmc', random_state=None,\n",
      "  thresh=None, tol=0.001, verbose=0)\n"
     ]
    },
    {
     "data": {
      "text/plain": [
       "<matplotlib.figure.Figure at 0x11df8780>"
      ]
     },
     "metadata": {},
     "output_type": "display_data"
    }
   ],
   "source": [
    "from sklearn.mixture import GMM\n",
    "from sklearn.cross_validation import StratifiedKFold\n",
    "\n",
    "#Try GMMs with different types of covariances\n",
    "classifiers = dict((covar_type, GMM(n_components=n_classes, covariance_type=covar_type, init_params='wc', n_iter=20)) \n",
    "                   for covar_type in ['spherical', 'diag', 'tied', 'full']);\n",
    "\n",
    "n_classifiers = len(classifiers);\n",
    "print n_classifiers;\n",
    "print classifiers.get('spherical');\n",
    "plt.figure(figsize=(3 * n_classifiers / 2, 6));\n",
    "\n",
    "# gmm = GMM(n_components=51);\n",
    "# print gmm;\n",
    "# gmm.fit(train_data);"
   ]
  },
  {
   "cell_type": "code",
   "execution_count": 59,
   "metadata": {
    "collapsed": false
   },
   "outputs": [
    {
     "name": "stdout",
     "output_type": "stream",
     "text": [
      "(4080L, 31L)\n",
      "[ 41.01847567  32.96404447  43.91977852  39.8148304   47.09648183\n",
      "  40.46836094  36.39326048  46.08843417  44.37268799  46.80432982]\n",
      "[40 24 24 24 24 15 24 24 15 24 24 24 24 24 24 47 24 24 24 24]\n",
      "[['s043']\n",
      " ['s043']\n",
      " ['s043']\n",
      " ['s043']\n",
      " ['s043']\n",
      " ['s043']\n",
      " ['s043']\n",
      " ['s043']\n",
      " ['s043']\n",
      " ['s043']\n",
      " ['s043']\n",
      " ['s043']\n",
      " ['s043']\n",
      " ['s043']\n",
      " ['s043']\n",
      " ['s043']\n",
      " ['s043']\n",
      " ['s043']\n",
      " ['s043']\n",
      " ['s043']]\n"
     ]
    }
   ],
   "source": [
    "print test_data.shape;\n",
    "print gmm.score(test_data[0:10]);\n",
    "print gmm.predict(test_data[3000:3020]);\n",
    "print test_target[3000:3020];"
   ]
  },
  {
   "cell_type": "markdown",
   "metadata": {},
   "source": []
  }
 ],
 "metadata": {
  "anaconda-cloud": {
   "environment": null,
   "summary": "MyCode",
   "url": "https://anaconda.org/pysherlock/demo"
  },
  "kernelspec": {
   "display_name": "Python [Root]",
   "language": "python",
   "name": "Python [Root]"
  },
  "language_info": {
   "codemirror_mode": {
    "name": "ipython",
    "version": 2
   },
   "file_extension": ".py",
   "mimetype": "text/x-python",
   "name": "python",
   "nbconvert_exporter": "python",
   "pygments_lexer": "ipython2",
   "version": "2.7.12"
  }
 },
 "nbformat": 4,
 "nbformat_minor": 0
}

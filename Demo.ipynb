{
 "cells": [
  {
   "cell_type": "markdown",
   "metadata": {},
   "source": [
    "# <center>Read Keystroke Data and Build Model to Process</center>"
   ]
  },
  {
   "cell_type": "markdown",
   "metadata": {},
   "source": []
  },
  {
   "cell_type": "code",
   "execution_count": 15,
   "metadata": {
    "collapsed": false
   },
   "outputs": [
    {
     "name": "stdout",
     "output_type": "stream",
     "text": [
      "Dataset/Kevin and Maxion/DSL-StrongPasswordData.csv\n"
     ]
    }
   ],
   "source": [
    "import os\n",
    "%matplotlib inline\n",
    "import matplotlib.pyplot as plt\n",
    "import pandas as pd\n",
    "import numpy as np\n",
    "from sklearn import svm\n",
    "import sklearn.cross_validation\n",
    "\n",
    "input_path = \"Dataset/Kevin and Maxion/DSL-StrongPasswordData.csv\"\n",
    "print input_path;"
   ]
  },
  {
   "cell_type": "markdown",
   "metadata": {},
   "source": [
    "## Import Raw Data and Extract Features. Pre-process the data "
   ]
  },
  {
   "cell_type": "code",
   "execution_count": 22,
   "metadata": {
    "collapsed": false,
    "scrolled": true
   },
   "outputs": [
    {
     "name": "stdout",
     "output_type": "stream",
     "text": [
      "<type 'str'>\n",
      "subject,sessionIndex,rep,H.period,DD.period.t,UD.period.t,H.t,DD.t.i,UD.t.i,H.i,DD.i.e,UD.i.e,H.e,DD.e.five,UD.e.five,H.five,DD.five.Shift.r,UD.five.Shift.r,H.Shift.r,DD.Shift.r.o,UD.Shift.r.o,H.o,DD.o.a,UD.o.a,H.a,DD.a.n,UD.a.n,H.n,DD.n.l,UD.n.l,H.l,DD.l.Return,UD.l.Return,H.Return\n",
      "[['s002' '1' '1' ..., '0.3509' '0.2171' '0.0742']\n",
      " ['s002' '1' '2' ..., '0.2756' '0.1917' '0.0747']\n",
      " ['s002' '1' '3' ..., '0.2847' '0.1762' '0.0945']\n",
      " ..., \n",
      " ['s057' '8' '48' ..., '0.2017' '0.0983' '0.0905']\n",
      " ['s057' '8' '49' ..., '0.1917' '0.0938' '0.0931']\n",
      " ['s057' '8' '50' ..., '0.1993' '0.1186' '0.1018']]\n",
      "<type 'numpy.ndarray'>\n",
      "20400\n",
      "(20400L, 34L)\n",
      "sklearn.cross_validation.KFold(n=20400, n_folds=4, shuffle=True, random_state=None)\n",
      "TRAIN:  [    0     1     2 ..., 20397 20398 20399]  TEST:  [    6     7     9 ..., 20373 20380 20388]\n",
      "TRAIN:  [    2     3     5 ..., 20395 20396 20399]  TEST:  [    0     1     4 ..., 20394 20397 20398]\n",
      "TRAIN:  [    0     1     4 ..., 20396 20397 20398]  TEST:  [    2     3    10 ..., 20390 20393 20399]\n",
      "TRAIN:  [    0     1     2 ..., 20397 20398 20399]  TEST:  [    5    11    15 ..., 20389 20395 20396]\n",
      "(15300L, 34L)\n",
      "(5100L, 34L)\n"
     ]
    }
   ],
   "source": [
    "\n",
    "file = open(input_path, \"r\");\n",
    "\n",
    "raw_data = file.read();\n",
    "print type(raw_data);\n",
    "\n",
    "data_lines = np.array(raw_data.splitlines());\n",
    "print data_lines[0];\n",
    "\n",
    "data = np.array([ x.split(\",\") for x in data_lines]);\n",
    "data = np.delete(data, 0, 0);\n",
    "print data;\n",
    "print type(data);\n",
    "print len(data);\n",
    "print data.shape;\n",
    "\n",
    "kf = sklearn.cross_validation.KFold(len(data), 4, True);\n",
    "print kf;\n",
    "\n",
    "for train_index, test_index in kf:\n",
    "    train, test = data[train_index], data[test_index];\n",
    "    print \"TRAIN: \", train_index, \" TEST: \", test_index;\n",
    "    \n",
    "print train.shape;\n",
    "print test.shape;\n",
    "\n",
    "# subject = np.array([x[0] for x in data[1:, 0:1]]);\n",
    "# print subject;\n",
    "\n",
    "# ## raw_features: all the features' value are string rather than numerical\n",
    "# raw_features = data[1:, 3:];\n",
    "\n",
    "# ##change features from string to float\n",
    "# features = np.array([np.array([float(y) for y in x]) for x in raw_features]);\n",
    "\n",
    "# print features;\n",
    "\n",
    "# print len(features);"
   ]
  },
  {
   "cell_type": "markdown",
   "metadata": {},
   "source": [
    "### Train the SVM model to analyze data"
   ]
  },
  {
   "cell_type": "code",
   "execution_count": 5,
   "metadata": {
    "collapsed": false
   },
   "outputs": [
    {
     "ename": "ValueError",
     "evalue": "The number of classes has to be greater than one; got 1",
     "output_type": "error",
     "traceback": [
      "\u001b[1;31m---------------------------------------------------------------------------\u001b[0m",
      "\u001b[1;31mValueError\u001b[0m                                Traceback (most recent call last)",
      "\u001b[1;32m<ipython-input-5-d83a4595cc90>\u001b[0m in \u001b[0;36m<module>\u001b[1;34m()\u001b[0m\n\u001b[0;32m      4\u001b[0m \u001b[0mx\u001b[0m \u001b[1;33m=\u001b[0m \u001b[0mfeatures\u001b[0m\u001b[1;33m[\u001b[0m\u001b[1;36m0\u001b[0m\u001b[1;33m:\u001b[0m\u001b[1;36m300\u001b[0m\u001b[1;33m]\u001b[0m\u001b[1;33m\u001b[0m\u001b[0m\n\u001b[0;32m      5\u001b[0m \u001b[0my\u001b[0m \u001b[1;33m=\u001b[0m \u001b[0msubject\u001b[0m\u001b[1;33m[\u001b[0m\u001b[1;36m0\u001b[0m\u001b[1;33m:\u001b[0m\u001b[1;36m300\u001b[0m\u001b[1;33m]\u001b[0m\u001b[1;33m\u001b[0m\u001b[0m\n\u001b[1;32m----> 6\u001b[1;33m \u001b[0mclf\u001b[0m\u001b[1;33m.\u001b[0m\u001b[0mfit\u001b[0m\u001b[1;33m(\u001b[0m\u001b[0mx\u001b[0m\u001b[1;33m,\u001b[0m\u001b[0my\u001b[0m\u001b[1;33m)\u001b[0m\u001b[1;33m;\u001b[0m\u001b[1;33m\u001b[0m\u001b[0m\n\u001b[0m\u001b[0;32m      7\u001b[0m \u001b[0mclf2\u001b[0m\u001b[1;33m.\u001b[0m\u001b[0mfit\u001b[0m\u001b[1;33m(\u001b[0m\u001b[0mx\u001b[0m\u001b[1;33m,\u001b[0m\u001b[0my\u001b[0m\u001b[1;33m)\u001b[0m\u001b[1;33m;\u001b[0m\u001b[1;33m\u001b[0m\u001b[0m\n\u001b[0;32m      8\u001b[0m \u001b[1;31m# libsvm = svm.libsvm.fit(x, y);\u001b[0m\u001b[1;33m\u001b[0m\u001b[1;33m\u001b[0m\u001b[0m\n",
      "\u001b[1;32mD:\\Anaconda2\\lib\\site-packages\\sklearn\\svm\\base.pyc\u001b[0m in \u001b[0;36mfit\u001b[1;34m(self, X, y, sample_weight)\u001b[0m\n\u001b[0;32m    149\u001b[0m \u001b[1;33m\u001b[0m\u001b[0m\n\u001b[0;32m    150\u001b[0m         \u001b[0mX\u001b[0m \u001b[1;33m=\u001b[0m \u001b[0mcheck_array\u001b[0m\u001b[1;33m(\u001b[0m\u001b[0mX\u001b[0m\u001b[1;33m,\u001b[0m \u001b[0maccept_sparse\u001b[0m\u001b[1;33m=\u001b[0m\u001b[1;34m'csr'\u001b[0m\u001b[1;33m,\u001b[0m \u001b[0mdtype\u001b[0m\u001b[1;33m=\u001b[0m\u001b[0mnp\u001b[0m\u001b[1;33m.\u001b[0m\u001b[0mfloat64\u001b[0m\u001b[1;33m,\u001b[0m \u001b[0morder\u001b[0m\u001b[1;33m=\u001b[0m\u001b[1;34m'C'\u001b[0m\u001b[1;33m)\u001b[0m\u001b[1;33m\u001b[0m\u001b[0m\n\u001b[1;32m--> 151\u001b[1;33m         \u001b[0my\u001b[0m \u001b[1;33m=\u001b[0m \u001b[0mself\u001b[0m\u001b[1;33m.\u001b[0m\u001b[0m_validate_targets\u001b[0m\u001b[1;33m(\u001b[0m\u001b[0my\u001b[0m\u001b[1;33m)\u001b[0m\u001b[1;33m\u001b[0m\u001b[0m\n\u001b[0m\u001b[0;32m    152\u001b[0m \u001b[1;33m\u001b[0m\u001b[0m\n\u001b[0;32m    153\u001b[0m         sample_weight = np.asarray([]\n",
      "\u001b[1;32mD:\\Anaconda2\\lib\\site-packages\\sklearn\\svm\\base.pyc\u001b[0m in \u001b[0;36m_validate_targets\u001b[1;34m(self, y)\u001b[0m\n\u001b[0;32m    519\u001b[0m             raise ValueError(\n\u001b[0;32m    520\u001b[0m                 \u001b[1;34m\"The number of classes has to be greater than one; got %d\"\u001b[0m\u001b[1;33m\u001b[0m\u001b[0m\n\u001b[1;32m--> 521\u001b[1;33m                 % len(cls))\n\u001b[0m\u001b[0;32m    522\u001b[0m \u001b[1;33m\u001b[0m\u001b[0m\n\u001b[0;32m    523\u001b[0m         \u001b[0mself\u001b[0m\u001b[1;33m.\u001b[0m\u001b[0mclasses_\u001b[0m \u001b[1;33m=\u001b[0m \u001b[0mcls\u001b[0m\u001b[1;33m\u001b[0m\u001b[0m\n",
      "\u001b[1;31mValueError\u001b[0m: The number of classes has to be greater than one; got 1"
     ]
    }
   ],
   "source": [
    "clf = svm.SVC();\n",
    "clf2 = svm.SVC(decision_function_shape='ovo');\n",
    "\n",
    "x = features[0:300]\n",
    "y = subject[0:300]\n",
    "clf.fit(x, y);\n",
    "clf2.fit(x, y);\n",
    "# libsvm = svm.libsvm.fit(x, y);\n",
    "\n",
    "print clf;\n",
    "print clf2;"
   ]
  },
  {
   "cell_type": "code",
   "execution_count": null,
   "metadata": {
    "collapsed": false,
    "scrolled": true
   },
   "outputs": [],
   "source": [
    "print clf.score(x, y);\n",
    "\n",
    "print clf2.score(x, y);\n",
    "\n",
    "# print svm.libsvm.cross_validation();\n",
    "# for i in range(10):\n",
    "#     print clf.predict(features[i]);\n",
    "\n",
    "# print \"\\n\";\n",
    "\n",
    "for i in range(10):\n",
    "    print clf.predict(features[i]);\n",
    "\n",
    "    "
   ]
  },
  {
   "cell_type": "markdown",
   "metadata": {
    "collapsed": true
   },
   "source": [
    "### Use Neutral Network to analyze \n",
    "* In scikit-learn, the neural network model is Restricted Boltzmann machines (RBM). The features extracted by an RBM or a hierarchy of RBMs often give good results when fed into a linear classifier such as a linear SVM or a perceptron. \n",
    "\n",
    "* A Restricted Boltzmann Machine with binary visible units and binary hiddens. Parameters are estimated using Stochastic Maximum Likelihood (SML), also known as Persistent Contrastive Divergence (PCD)\n",
    "\n",
    "* Two simple and easy search strategies for tuning parameter: Grid Search; Random Search"
   ]
  },
  {
   "cell_type": "code",
   "execution_count": null,
   "metadata": {
    "collapsed": true
   },
   "outputs": [],
   "source": [
    "from sklearn.neural_network import BernoulliRBM\n",
    "from sklearn.cross_validation import train_test_split\n",
    "\n",
    "\n"
   ]
  },
  {
   "cell_type": "markdown",
   "metadata": {},
   "source": [
    "### Gaussian Mixture Models with Universal Background Model"
   ]
  },
  {
   "cell_type": "code",
   "execution_count": null,
   "metadata": {
    "collapsed": true
   },
   "outputs": [],
   "source": [
    "from sklearn.mixture import GMM\n",
    "from sklearn.cross_validation import StratifiedKFold\n",
    "\n",
    "\n"
   ]
  }
 ],
 "metadata": {
  "anaconda-cloud": {
   "environment": null,
   "summary": "MyCode",
   "url": "https://anaconda.org/pysherlock/demo"
  },
  "kernelspec": {
   "display_name": "Python [Root]",
   "language": "python",
   "name": "Python [Root]"
  },
  "language_info": {
   "codemirror_mode": {
    "name": "ipython",
    "version": 2
   },
   "file_extension": ".py",
   "mimetype": "text/x-python",
   "name": "python",
   "nbconvert_exporter": "python",
   "pygments_lexer": "ipython2",
   "version": "2.7.12"
  }
 },
 "nbformat": 4,
 "nbformat_minor": 0
}
